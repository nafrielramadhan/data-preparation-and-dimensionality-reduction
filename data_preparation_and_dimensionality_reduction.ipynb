{
  "cells": [
    {
      "cell_type": "markdown",
      "metadata": {
        "id": "view-in-github",
        "colab_type": "text"
      },
      "source": [
        "<a href=\"https://colab.research.google.com/github/nafrielramadhan/data-preparation-and-dimensionality-reduction.ipynb/blob/main/data_preparation_and_dimensionality_reduction.ipynb\" target=\"_parent\"><img src=\"https://colab.research.google.com/assets/colab-badge.svg\" alt=\"Open In Colab\"/></a>"
      ]
    },
    {
      "cell_type": "markdown",
      "metadata": {
        "id": "qfGcYLCeojfk"
      },
      "source": [
        "<center>\n",
        "<img src=\"https://drive.google.com/uc?id=1f1gGVI-rxcHjA90WEGNvvtSXF1pAxQwg\" alt=\"Fasilkom UI\" width=\"300\"/>\n",
        "\n",
        "CSGE603130 • Kecerdasan Artifisial dan Sains Data Dasar\n",
        "\n",
        "Fakultas Ilmu Komputer, Universitas Indonesia\n",
        "\n",
        "Questions answered by: Muhammad Nafriel Ramadhan\n",
        "##**Topic: Data Preparation & Dimensionality Reduction**\n",
        "\n",
        "</center>"
      ]
    },
    {
      "cell_type": "markdown",
      "metadata": {
        "id": "_ZcB0MNBDG7h"
      },
      "source": [
        "## Import Library Data"
      ]
    },
    {
      "cell_type": "markdown",
      "metadata": {
        "id": "tNwF3vStFDhy"
      },
      "source": [
        "Sumber Data: https://www.kaggle.com/datasets/avikasliwal/used-cars-price-prediction dengan pengubahan"
      ]
    },
    {
      "cell_type": "code",
      "execution_count": null,
      "metadata": {
        "id": "4nSJ6m5JhBQv"
      },
      "outputs": [],
      "source": [
        "import pandas as pd\n",
        "import numpy as np\n",
        "\n",
        "import matplotlib.pyplot as plt\n",
        "import seaborn as sns\n",
        "import scipy.stats as scp\n",
        "\n",
        "from sklearn.preprocessing import LabelEncoder, OneHotEncoder, Normalizer, StandardScaler, MinMaxScaler"
      ]
    },
    {
      "cell_type": "code",
      "execution_count": null,
      "metadata": {
        "colab": {
          "base_uri": "https://localhost:8080/"
        },
        "id": "-6wCadkjhBQw",
        "outputId": "bab3f79b-1d62-420b-b257-33e515f24b4a"
      },
      "outputs": [
        {
          "output_type": "stream",
          "name": "stdout",
          "text": [
            "Requirement already satisfied: category_encoders in /usr/local/lib/python3.10/dist-packages (2.6.3)\n",
            "Requirement already satisfied: numpy>=1.14.0 in /usr/local/lib/python3.10/dist-packages (from category_encoders) (1.25.2)\n",
            "Requirement already satisfied: scikit-learn>=0.20.0 in /usr/local/lib/python3.10/dist-packages (from category_encoders) (1.2.2)\n",
            "Requirement already satisfied: scipy>=1.0.0 in /usr/local/lib/python3.10/dist-packages (from category_encoders) (1.11.4)\n",
            "Requirement already satisfied: statsmodels>=0.9.0 in /usr/local/lib/python3.10/dist-packages (from category_encoders) (0.14.1)\n",
            "Requirement already satisfied: pandas>=1.0.5 in /usr/local/lib/python3.10/dist-packages (from category_encoders) (1.5.3)\n",
            "Requirement already satisfied: patsy>=0.5.1 in /usr/local/lib/python3.10/dist-packages (from category_encoders) (0.5.6)\n",
            "Requirement already satisfied: python-dateutil>=2.8.1 in /usr/local/lib/python3.10/dist-packages (from pandas>=1.0.5->category_encoders) (2.8.2)\n",
            "Requirement already satisfied: pytz>=2020.1 in /usr/local/lib/python3.10/dist-packages (from pandas>=1.0.5->category_encoders) (2023.4)\n",
            "Requirement already satisfied: six in /usr/local/lib/python3.10/dist-packages (from patsy>=0.5.1->category_encoders) (1.16.0)\n",
            "Requirement already satisfied: joblib>=1.1.1 in /usr/local/lib/python3.10/dist-packages (from scikit-learn>=0.20.0->category_encoders) (1.3.2)\n",
            "Requirement already satisfied: threadpoolctl>=2.0.0 in /usr/local/lib/python3.10/dist-packages (from scikit-learn>=0.20.0->category_encoders) (3.3.0)\n",
            "Requirement already satisfied: packaging>=21.3 in /usr/local/lib/python3.10/dist-packages (from statsmodels>=0.9.0->category_encoders) (23.2)\n"
          ]
        }
      ],
      "source": [
        "pip install category_encoders"
      ]
    },
    {
      "cell_type": "code",
      "execution_count": null,
      "metadata": {
        "id": "a2cO4gXPhBQw"
      },
      "outputs": [],
      "source": [
        "df = pd.read_csv('second_car_pricing.csv')"
      ]
    },
    {
      "cell_type": "markdown",
      "metadata": {
        "id": "CLmNY313hBQx"
      },
      "source": [
        "## Deskripsi Data"
      ]
    },
    {
      "cell_type": "markdown",
      "metadata": {
        "id": "I6WFbyH-hBQx"
      },
      "source": [
        "Data ini merupakan data harga mobil second yang dijual pada suatu website di India. Deskripsi kolom:\n",
        "- `Name`: merk dan model mobil\n",
        "- `Location`: lokasi tempat mobil dijual\n",
        "- `Year`: tahun mobil diproduksi\n",
        "- `Kilometers_Driven`: total jarak ditempuh dalam km\n",
        "- `Fuel_Type`: tipe bahan bakar mobil (Petrol, Diesel, Electric, CNG, LPG)\n",
        "- `Transmission`: tipe transmisi (Automatic/Manual)\n",
        "- `Owner_Type`: jarak antar roda depan dan roda belakang mobil dalam inch\n",
        "- `Mileage`: rasio jumlah jarak ditempuh dengan jumlah bahan bakar dikonsumsi dalam km/l atau km/kg\n",
        "- `Engine`: volume mesin dalam CC\n",
        "- `Power`: kekuatan mesin dalam Brake Horse Power (bhp)\n",
        "- `Seats`: jumlah tempat duduk\n",
        "- `New_Price`: referensi harga mobil pada kondisi baru\n",
        "\n",
        "\n",
        "Target variable — `Price`: harga mobil dalam Lakh INR (1 Lakh = 100.000 INR)"
      ]
    },
    {
      "cell_type": "code",
      "execution_count": null,
      "metadata": {
        "scrolled": true,
        "colab": {
          "base_uri": "https://localhost:8080/",
          "height": 300
        },
        "id": "K_BeyoPHhBQy",
        "outputId": "91dd418a-51d6-4635-d76e-c6afa70d2a0b"
      },
      "outputs": [
        {
          "output_type": "execute_result",
          "data": {
            "text/plain": [
              "              Year  Kilometers_Driven        Seats        Price\n",
              "count  6218.000000       4.042000e+03  6175.000000  6218.000000\n",
              "mean   2013.358154       5.976506e+04     5.277733     9.479341\n",
              "std       3.262506       1.088091e+05     0.808191    11.146452\n",
              "min    1998.000000       1.710000e+02     0.000000     0.440000\n",
              "25%    2011.000000       3.400000e+04     5.000000     3.500000\n",
              "50%    2014.000000       5.300000e+04     5.000000     5.640000\n",
              "75%    2016.000000       7.303975e+04     5.000000    10.000000\n",
              "max    2019.000000       6.500000e+06    10.000000   160.000000"
            ],
            "text/html": [
              "\n",
              "  <div id=\"df-be9b3b67-b58e-4b38-9bf1-ac080b10fc99\" class=\"colab-df-container\">\n",
              "    <div>\n",
              "<style scoped>\n",
              "    .dataframe tbody tr th:only-of-type {\n",
              "        vertical-align: middle;\n",
              "    }\n",
              "\n",
              "    .dataframe tbody tr th {\n",
              "        vertical-align: top;\n",
              "    }\n",
              "\n",
              "    .dataframe thead th {\n",
              "        text-align: right;\n",
              "    }\n",
              "</style>\n",
              "<table border=\"1\" class=\"dataframe\">\n",
              "  <thead>\n",
              "    <tr style=\"text-align: right;\">\n",
              "      <th></th>\n",
              "      <th>Year</th>\n",
              "      <th>Kilometers_Driven</th>\n",
              "      <th>Seats</th>\n",
              "      <th>Price</th>\n",
              "    </tr>\n",
              "  </thead>\n",
              "  <tbody>\n",
              "    <tr>\n",
              "      <th>count</th>\n",
              "      <td>6218.000000</td>\n",
              "      <td>4.042000e+03</td>\n",
              "      <td>6175.000000</td>\n",
              "      <td>6218.000000</td>\n",
              "    </tr>\n",
              "    <tr>\n",
              "      <th>mean</th>\n",
              "      <td>2013.358154</td>\n",
              "      <td>5.976506e+04</td>\n",
              "      <td>5.277733</td>\n",
              "      <td>9.479341</td>\n",
              "    </tr>\n",
              "    <tr>\n",
              "      <th>std</th>\n",
              "      <td>3.262506</td>\n",
              "      <td>1.088091e+05</td>\n",
              "      <td>0.808191</td>\n",
              "      <td>11.146452</td>\n",
              "    </tr>\n",
              "    <tr>\n",
              "      <th>min</th>\n",
              "      <td>1998.000000</td>\n",
              "      <td>1.710000e+02</td>\n",
              "      <td>0.000000</td>\n",
              "      <td>0.440000</td>\n",
              "    </tr>\n",
              "    <tr>\n",
              "      <th>25%</th>\n",
              "      <td>2011.000000</td>\n",
              "      <td>3.400000e+04</td>\n",
              "      <td>5.000000</td>\n",
              "      <td>3.500000</td>\n",
              "    </tr>\n",
              "    <tr>\n",
              "      <th>50%</th>\n",
              "      <td>2014.000000</td>\n",
              "      <td>5.300000e+04</td>\n",
              "      <td>5.000000</td>\n",
              "      <td>5.640000</td>\n",
              "    </tr>\n",
              "    <tr>\n",
              "      <th>75%</th>\n",
              "      <td>2016.000000</td>\n",
              "      <td>7.303975e+04</td>\n",
              "      <td>5.000000</td>\n",
              "      <td>10.000000</td>\n",
              "    </tr>\n",
              "    <tr>\n",
              "      <th>max</th>\n",
              "      <td>2019.000000</td>\n",
              "      <td>6.500000e+06</td>\n",
              "      <td>10.000000</td>\n",
              "      <td>160.000000</td>\n",
              "    </tr>\n",
              "  </tbody>\n",
              "</table>\n",
              "</div>\n",
              "    <div class=\"colab-df-buttons\">\n",
              "\n",
              "  <div class=\"colab-df-container\">\n",
              "    <button class=\"colab-df-convert\" onclick=\"convertToInteractive('df-be9b3b67-b58e-4b38-9bf1-ac080b10fc99')\"\n",
              "            title=\"Convert this dataframe to an interactive table.\"\n",
              "            style=\"display:none;\">\n",
              "\n",
              "  <svg xmlns=\"http://www.w3.org/2000/svg\" height=\"24px\" viewBox=\"0 -960 960 960\">\n",
              "    <path d=\"M120-120v-720h720v720H120Zm60-500h600v-160H180v160Zm220 220h160v-160H400v160Zm0 220h160v-160H400v160ZM180-400h160v-160H180v160Zm440 0h160v-160H620v160ZM180-180h160v-160H180v160Zm440 0h160v-160H620v160Z\"/>\n",
              "  </svg>\n",
              "    </button>\n",
              "\n",
              "  <style>\n",
              "    .colab-df-container {\n",
              "      display:flex;\n",
              "      gap: 12px;\n",
              "    }\n",
              "\n",
              "    .colab-df-convert {\n",
              "      background-color: #E8F0FE;\n",
              "      border: none;\n",
              "      border-radius: 50%;\n",
              "      cursor: pointer;\n",
              "      display: none;\n",
              "      fill: #1967D2;\n",
              "      height: 32px;\n",
              "      padding: 0 0 0 0;\n",
              "      width: 32px;\n",
              "    }\n",
              "\n",
              "    .colab-df-convert:hover {\n",
              "      background-color: #E2EBFA;\n",
              "      box-shadow: 0px 1px 2px rgba(60, 64, 67, 0.3), 0px 1px 3px 1px rgba(60, 64, 67, 0.15);\n",
              "      fill: #174EA6;\n",
              "    }\n",
              "\n",
              "    .colab-df-buttons div {\n",
              "      margin-bottom: 4px;\n",
              "    }\n",
              "\n",
              "    [theme=dark] .colab-df-convert {\n",
              "      background-color: #3B4455;\n",
              "      fill: #D2E3FC;\n",
              "    }\n",
              "\n",
              "    [theme=dark] .colab-df-convert:hover {\n",
              "      background-color: #434B5C;\n",
              "      box-shadow: 0px 1px 3px 1px rgba(0, 0, 0, 0.15);\n",
              "      filter: drop-shadow(0px 1px 2px rgba(0, 0, 0, 0.3));\n",
              "      fill: #FFFFFF;\n",
              "    }\n",
              "  </style>\n",
              "\n",
              "    <script>\n",
              "      const buttonEl =\n",
              "        document.querySelector('#df-be9b3b67-b58e-4b38-9bf1-ac080b10fc99 button.colab-df-convert');\n",
              "      buttonEl.style.display =\n",
              "        google.colab.kernel.accessAllowed ? 'block' : 'none';\n",
              "\n",
              "      async function convertToInteractive(key) {\n",
              "        const element = document.querySelector('#df-be9b3b67-b58e-4b38-9bf1-ac080b10fc99');\n",
              "        const dataTable =\n",
              "          await google.colab.kernel.invokeFunction('convertToInteractive',\n",
              "                                                    [key], {});\n",
              "        if (!dataTable) return;\n",
              "\n",
              "        const docLinkHtml = 'Like what you see? Visit the ' +\n",
              "          '<a target=\"_blank\" href=https://colab.research.google.com/notebooks/data_table.ipynb>data table notebook</a>'\n",
              "          + ' to learn more about interactive tables.';\n",
              "        element.innerHTML = '';\n",
              "        dataTable['output_type'] = 'display_data';\n",
              "        await google.colab.output.renderOutput(dataTable, element);\n",
              "        const docLink = document.createElement('div');\n",
              "        docLink.innerHTML = docLinkHtml;\n",
              "        element.appendChild(docLink);\n",
              "      }\n",
              "    </script>\n",
              "  </div>\n",
              "\n",
              "\n",
              "<div id=\"df-4324e254-fcff-4d70-a8cc-70f8b32b277d\">\n",
              "  <button class=\"colab-df-quickchart\" onclick=\"quickchart('df-4324e254-fcff-4d70-a8cc-70f8b32b277d')\"\n",
              "            title=\"Suggest charts\"\n",
              "            style=\"display:none;\">\n",
              "\n",
              "<svg xmlns=\"http://www.w3.org/2000/svg\" height=\"24px\"viewBox=\"0 0 24 24\"\n",
              "     width=\"24px\">\n",
              "    <g>\n",
              "        <path d=\"M19 3H5c-1.1 0-2 .9-2 2v14c0 1.1.9 2 2 2h14c1.1 0 2-.9 2-2V5c0-1.1-.9-2-2-2zM9 17H7v-7h2v7zm4 0h-2V7h2v10zm4 0h-2v-4h2v4z\"/>\n",
              "    </g>\n",
              "</svg>\n",
              "  </button>\n",
              "\n",
              "<style>\n",
              "  .colab-df-quickchart {\n",
              "      --bg-color: #E8F0FE;\n",
              "      --fill-color: #1967D2;\n",
              "      --hover-bg-color: #E2EBFA;\n",
              "      --hover-fill-color: #174EA6;\n",
              "      --disabled-fill-color: #AAA;\n",
              "      --disabled-bg-color: #DDD;\n",
              "  }\n",
              "\n",
              "  [theme=dark] .colab-df-quickchart {\n",
              "      --bg-color: #3B4455;\n",
              "      --fill-color: #D2E3FC;\n",
              "      --hover-bg-color: #434B5C;\n",
              "      --hover-fill-color: #FFFFFF;\n",
              "      --disabled-bg-color: #3B4455;\n",
              "      --disabled-fill-color: #666;\n",
              "  }\n",
              "\n",
              "  .colab-df-quickchart {\n",
              "    background-color: var(--bg-color);\n",
              "    border: none;\n",
              "    border-radius: 50%;\n",
              "    cursor: pointer;\n",
              "    display: none;\n",
              "    fill: var(--fill-color);\n",
              "    height: 32px;\n",
              "    padding: 0;\n",
              "    width: 32px;\n",
              "  }\n",
              "\n",
              "  .colab-df-quickchart:hover {\n",
              "    background-color: var(--hover-bg-color);\n",
              "    box-shadow: 0 1px 2px rgba(60, 64, 67, 0.3), 0 1px 3px 1px rgba(60, 64, 67, 0.15);\n",
              "    fill: var(--button-hover-fill-color);\n",
              "  }\n",
              "\n",
              "  .colab-df-quickchart-complete:disabled,\n",
              "  .colab-df-quickchart-complete:disabled:hover {\n",
              "    background-color: var(--disabled-bg-color);\n",
              "    fill: var(--disabled-fill-color);\n",
              "    box-shadow: none;\n",
              "  }\n",
              "\n",
              "  .colab-df-spinner {\n",
              "    border: 2px solid var(--fill-color);\n",
              "    border-color: transparent;\n",
              "    border-bottom-color: var(--fill-color);\n",
              "    animation:\n",
              "      spin 1s steps(1) infinite;\n",
              "  }\n",
              "\n",
              "  @keyframes spin {\n",
              "    0% {\n",
              "      border-color: transparent;\n",
              "      border-bottom-color: var(--fill-color);\n",
              "      border-left-color: var(--fill-color);\n",
              "    }\n",
              "    20% {\n",
              "      border-color: transparent;\n",
              "      border-left-color: var(--fill-color);\n",
              "      border-top-color: var(--fill-color);\n",
              "    }\n",
              "    30% {\n",
              "      border-color: transparent;\n",
              "      border-left-color: var(--fill-color);\n",
              "      border-top-color: var(--fill-color);\n",
              "      border-right-color: var(--fill-color);\n",
              "    }\n",
              "    40% {\n",
              "      border-color: transparent;\n",
              "      border-right-color: var(--fill-color);\n",
              "      border-top-color: var(--fill-color);\n",
              "    }\n",
              "    60% {\n",
              "      border-color: transparent;\n",
              "      border-right-color: var(--fill-color);\n",
              "    }\n",
              "    80% {\n",
              "      border-color: transparent;\n",
              "      border-right-color: var(--fill-color);\n",
              "      border-bottom-color: var(--fill-color);\n",
              "    }\n",
              "    90% {\n",
              "      border-color: transparent;\n",
              "      border-bottom-color: var(--fill-color);\n",
              "    }\n",
              "  }\n",
              "</style>\n",
              "\n",
              "  <script>\n",
              "    async function quickchart(key) {\n",
              "      const quickchartButtonEl =\n",
              "        document.querySelector('#' + key + ' button');\n",
              "      quickchartButtonEl.disabled = true;  // To prevent multiple clicks.\n",
              "      quickchartButtonEl.classList.add('colab-df-spinner');\n",
              "      try {\n",
              "        const charts = await google.colab.kernel.invokeFunction(\n",
              "            'suggestCharts', [key], {});\n",
              "      } catch (error) {\n",
              "        console.error('Error during call to suggestCharts:', error);\n",
              "      }\n",
              "      quickchartButtonEl.classList.remove('colab-df-spinner');\n",
              "      quickchartButtonEl.classList.add('colab-df-quickchart-complete');\n",
              "    }\n",
              "    (() => {\n",
              "      let quickchartButtonEl =\n",
              "        document.querySelector('#df-4324e254-fcff-4d70-a8cc-70f8b32b277d button');\n",
              "      quickchartButtonEl.style.display =\n",
              "        google.colab.kernel.accessAllowed ? 'block' : 'none';\n",
              "    })();\n",
              "  </script>\n",
              "</div>\n",
              "    </div>\n",
              "  </div>\n"
            ],
            "application/vnd.google.colaboratory.intrinsic+json": {
              "type": "dataframe",
              "summary": "{\n  \"name\": \"df\",\n  \"rows\": 8,\n  \"fields\": [\n    {\n      \"column\": \"Year\",\n      \"properties\": {\n        \"dtype\": \"number\",\n        \"std\": 1737.098869459292,\n        \"min\": 3.262505582236174,\n        \"max\": 6218.0,\n        \"num_unique_values\": 8,\n        \"samples\": [\n          2013.3581537471855,\n          2014.0,\n          6218.0\n        ],\n        \"semantic_type\": \"\",\n        \"description\": \"\"\n      }\n    },\n    {\n      \"column\": \"Kilometers_Driven\",\n      \"properties\": {\n        \"dtype\": \"number\",\n        \"std\": 2281565.472130118,\n        \"min\": 171.0,\n        \"max\": 6500000.0,\n        \"num_unique_values\": 8,\n        \"samples\": [\n          59765.059871350815,\n          53000.0,\n          4042.0\n        ],\n        \"semantic_type\": \"\",\n        \"description\": \"\"\n      }\n    },\n    {\n      \"column\": \"Seats\",\n      \"properties\": {\n        \"dtype\": \"number\",\n        \"std\": 2181.6242538838205,\n        \"min\": 0.0,\n        \"max\": 6175.0,\n        \"num_unique_values\": 6,\n        \"samples\": [\n          6175.0,\n          5.277732793522267,\n          10.0\n        ],\n        \"semantic_type\": \"\",\n        \"description\": \"\"\n      }\n    },\n    {\n      \"column\": \"Price\",\n      \"properties\": {\n        \"dtype\": \"number\",\n        \"std\": 2188.9433737755385,\n        \"min\": 0.44,\n        \"max\": 6218.0,\n        \"num_unique_values\": 8,\n        \"samples\": [\n          9.479340623994855,\n          5.64,\n          6218.0\n        ],\n        \"semantic_type\": \"\",\n        \"description\": \"\"\n      }\n    }\n  ]\n}"
            }
          },
          "metadata": {},
          "execution_count": 20
        }
      ],
      "source": [
        "df.describe()"
      ]
    },
    {
      "cell_type": "code",
      "execution_count": null,
      "metadata": {
        "colab": {
          "base_uri": "https://localhost:8080/"
        },
        "id": "UiOj1FLNhBQy",
        "outputId": "a3ffc5c3-3568-4581-e7fe-da11b6b7dfb8"
      },
      "outputs": [
        {
          "output_type": "stream",
          "name": "stdout",
          "text": [
            "<class 'pandas.core.frame.DataFrame'>\n",
            "RangeIndex: 6218 entries, 0 to 6217\n",
            "Data columns (total 13 columns):\n",
            " #   Column             Non-Null Count  Dtype  \n",
            "---  ------             --------------  -----  \n",
            " 0   Name               6218 non-null   object \n",
            " 1   Location           6218 non-null   object \n",
            " 2   Year               6218 non-null   int64  \n",
            " 3   Kilometers_Driven  4042 non-null   float64\n",
            " 4   Fuel_Type          5472 non-null   object \n",
            " 5   Transmission       5783 non-null   object \n",
            " 6   Owner_Type         6218 non-null   object \n",
            " 7   Mileage            4352 non-null   object \n",
            " 8   Engine             6181 non-null   object \n",
            " 9   Power              6069 non-null   object \n",
            " 10  Seats              6175 non-null   float64\n",
            " 11  New_Price          856 non-null    object \n",
            " 12  Price              6218 non-null   float64\n",
            "dtypes: float64(3), int64(1), object(9)\n",
            "memory usage: 631.6+ KB\n"
          ]
        }
      ],
      "source": [
        "df.info()"
      ]
    },
    {
      "cell_type": "markdown",
      "metadata": {
        "id": "J-GPit_ehBQy"
      },
      "source": [
        "# Data Preparation"
      ]
    },
    {
      "cell_type": "markdown",
      "metadata": {
        "id": "zq2i_o6v2H8-"
      },
      "source": [
        "*Data Preparation* atau *data preprocessing* adalah suatu proses pembersihan dan transformasi pada *raw data* sebelum diproses dan dianalisis. Tujuan dari melakukan preparasi adalah dengan membersihkan data, hasil analisis dan prediksi dapat lebih akurat dan lebih bermakna.\n",
        "<br> Data didapatkan dengan berbagai macam cara yang juga seringkali menghasilkan kekurangan pada data yang diproduksi, diantaranya duplikat, nilai yang salah, nilai yang hilang, dsb.\n",
        "<br> Pada beberapa algoritma prediksi, dibutuhkan *preprocessing* khusus agar algoritma dapat berjalan dengan baik."
      ]
    },
    {
      "cell_type": "markdown",
      "metadata": {
        "id": "0sA9qw1BhBQz"
      },
      "source": [
        "## Feature Extraction"
      ]
    },
    {
      "cell_type": "markdown",
      "metadata": {
        "id": "ezd6a5MxhBQz"
      },
      "source": [
        "Tahapan ini dilakukan untuk mengubah format awal data menjadi format yang kita butuhkan. Seringkali *raw data* diperoleh dalam format yang tidak sesuai dengan kebutuhan analisis kita. Melakukan tahap ini diperlukan pengetahuan terkait *domain* dan *karakteristik* atribut data yang hendak diubah agar format data yang dihasilkan sesuai"
      ]
    },
    {
      "cell_type": "code",
      "execution_count": null,
      "metadata": {
        "scrolled": false,
        "colab": {
          "base_uri": "https://localhost:8080/",
          "height": 206
        },
        "id": "nizXYhVUhBQz",
        "outputId": "a17750cc-1f97-445d-96ce-2b1126a1ea59"
      },
      "outputs": [
        {
          "output_type": "execute_result",
          "data": {
            "text/plain": [
              "                               Name   Location  Year  Kilometers_Driven  \\\n",
              "0         Mitsubishi Pajero 4X4 LHD  Bangalore  2012           155566.0   \n",
              "1              Honda City i DTEC VX     Jaipur  2014            74000.0   \n",
              "2  Hyundai Creta 1.6 SX Plus Diesel      Kochi  2018                NaN   \n",
              "3        Hyundai Elantra CRDi SX AT     Mumbai  2013            51000.0   \n",
              "4      Honda City Corporate Edition     Mumbai  2012            51920.0   \n",
              "\n",
              "  Fuel_Type Transmission Owner_Type     Mileage   Engine       Power  Seats  \\\n",
              "0    Diesel       Manual     Second    9.5 kmpl  2835 CC   118.6 bhp    6.0   \n",
              "1    Diesel       Manual     Second   25.1 kmpl  1498 CC    98.6 bhp    5.0   \n",
              "2    Diesel       Manual      First  19.67 kmpl  1582 CC   126.2 bhp    5.0   \n",
              "3    Diesel    Automatic      First   19.5 kmpl  1582 CC  126.24 bhp    5.0   \n",
              "4    Petrol       Manual      First         NaN  1497 CC   116.3 bhp    5.0   \n",
              "\n",
              "  New_Price  Price  \n",
              "0       NaN   9.15  \n",
              "1       NaN   6.40  \n",
              "2       NaN  13.34  \n",
              "3       NaN   8.75  \n",
              "4       NaN   4.25  "
            ],
            "text/html": [
              "\n",
              "  <div id=\"df-939beb88-b63a-4bc8-a8f6-5ac28d6c79ac\" class=\"colab-df-container\">\n",
              "    <div>\n",
              "<style scoped>\n",
              "    .dataframe tbody tr th:only-of-type {\n",
              "        vertical-align: middle;\n",
              "    }\n",
              "\n",
              "    .dataframe tbody tr th {\n",
              "        vertical-align: top;\n",
              "    }\n",
              "\n",
              "    .dataframe thead th {\n",
              "        text-align: right;\n",
              "    }\n",
              "</style>\n",
              "<table border=\"1\" class=\"dataframe\">\n",
              "  <thead>\n",
              "    <tr style=\"text-align: right;\">\n",
              "      <th></th>\n",
              "      <th>Name</th>\n",
              "      <th>Location</th>\n",
              "      <th>Year</th>\n",
              "      <th>Kilometers_Driven</th>\n",
              "      <th>Fuel_Type</th>\n",
              "      <th>Transmission</th>\n",
              "      <th>Owner_Type</th>\n",
              "      <th>Mileage</th>\n",
              "      <th>Engine</th>\n",
              "      <th>Power</th>\n",
              "      <th>Seats</th>\n",
              "      <th>New_Price</th>\n",
              "      <th>Price</th>\n",
              "    </tr>\n",
              "  </thead>\n",
              "  <tbody>\n",
              "    <tr>\n",
              "      <th>0</th>\n",
              "      <td>Mitsubishi Pajero 4X4 LHD</td>\n",
              "      <td>Bangalore</td>\n",
              "      <td>2012</td>\n",
              "      <td>155566.0</td>\n",
              "      <td>Diesel</td>\n",
              "      <td>Manual</td>\n",
              "      <td>Second</td>\n",
              "      <td>9.5 kmpl</td>\n",
              "      <td>2835 CC</td>\n",
              "      <td>118.6 bhp</td>\n",
              "      <td>6.0</td>\n",
              "      <td>NaN</td>\n",
              "      <td>9.15</td>\n",
              "    </tr>\n",
              "    <tr>\n",
              "      <th>1</th>\n",
              "      <td>Honda City i DTEC VX</td>\n",
              "      <td>Jaipur</td>\n",
              "      <td>2014</td>\n",
              "      <td>74000.0</td>\n",
              "      <td>Diesel</td>\n",
              "      <td>Manual</td>\n",
              "      <td>Second</td>\n",
              "      <td>25.1 kmpl</td>\n",
              "      <td>1498 CC</td>\n",
              "      <td>98.6 bhp</td>\n",
              "      <td>5.0</td>\n",
              "      <td>NaN</td>\n",
              "      <td>6.40</td>\n",
              "    </tr>\n",
              "    <tr>\n",
              "      <th>2</th>\n",
              "      <td>Hyundai Creta 1.6 SX Plus Diesel</td>\n",
              "      <td>Kochi</td>\n",
              "      <td>2018</td>\n",
              "      <td>NaN</td>\n",
              "      <td>Diesel</td>\n",
              "      <td>Manual</td>\n",
              "      <td>First</td>\n",
              "      <td>19.67 kmpl</td>\n",
              "      <td>1582 CC</td>\n",
              "      <td>126.2 bhp</td>\n",
              "      <td>5.0</td>\n",
              "      <td>NaN</td>\n",
              "      <td>13.34</td>\n",
              "    </tr>\n",
              "    <tr>\n",
              "      <th>3</th>\n",
              "      <td>Hyundai Elantra CRDi SX AT</td>\n",
              "      <td>Mumbai</td>\n",
              "      <td>2013</td>\n",
              "      <td>51000.0</td>\n",
              "      <td>Diesel</td>\n",
              "      <td>Automatic</td>\n",
              "      <td>First</td>\n",
              "      <td>19.5 kmpl</td>\n",
              "      <td>1582 CC</td>\n",
              "      <td>126.24 bhp</td>\n",
              "      <td>5.0</td>\n",
              "      <td>NaN</td>\n",
              "      <td>8.75</td>\n",
              "    </tr>\n",
              "    <tr>\n",
              "      <th>4</th>\n",
              "      <td>Honda City Corporate Edition</td>\n",
              "      <td>Mumbai</td>\n",
              "      <td>2012</td>\n",
              "      <td>51920.0</td>\n",
              "      <td>Petrol</td>\n",
              "      <td>Manual</td>\n",
              "      <td>First</td>\n",
              "      <td>NaN</td>\n",
              "      <td>1497 CC</td>\n",
              "      <td>116.3 bhp</td>\n",
              "      <td>5.0</td>\n",
              "      <td>NaN</td>\n",
              "      <td>4.25</td>\n",
              "    </tr>\n",
              "  </tbody>\n",
              "</table>\n",
              "</div>\n",
              "    <div class=\"colab-df-buttons\">\n",
              "\n",
              "  <div class=\"colab-df-container\">\n",
              "    <button class=\"colab-df-convert\" onclick=\"convertToInteractive('df-939beb88-b63a-4bc8-a8f6-5ac28d6c79ac')\"\n",
              "            title=\"Convert this dataframe to an interactive table.\"\n",
              "            style=\"display:none;\">\n",
              "\n",
              "  <svg xmlns=\"http://www.w3.org/2000/svg\" height=\"24px\" viewBox=\"0 -960 960 960\">\n",
              "    <path d=\"M120-120v-720h720v720H120Zm60-500h600v-160H180v160Zm220 220h160v-160H400v160Zm0 220h160v-160H400v160ZM180-400h160v-160H180v160Zm440 0h160v-160H620v160ZM180-180h160v-160H180v160Zm440 0h160v-160H620v160Z\"/>\n",
              "  </svg>\n",
              "    </button>\n",
              "\n",
              "  <style>\n",
              "    .colab-df-container {\n",
              "      display:flex;\n",
              "      gap: 12px;\n",
              "    }\n",
              "\n",
              "    .colab-df-convert {\n",
              "      background-color: #E8F0FE;\n",
              "      border: none;\n",
              "      border-radius: 50%;\n",
              "      cursor: pointer;\n",
              "      display: none;\n",
              "      fill: #1967D2;\n",
              "      height: 32px;\n",
              "      padding: 0 0 0 0;\n",
              "      width: 32px;\n",
              "    }\n",
              "\n",
              "    .colab-df-convert:hover {\n",
              "      background-color: #E2EBFA;\n",
              "      box-shadow: 0px 1px 2px rgba(60, 64, 67, 0.3), 0px 1px 3px 1px rgba(60, 64, 67, 0.15);\n",
              "      fill: #174EA6;\n",
              "    }\n",
              "\n",
              "    .colab-df-buttons div {\n",
              "      margin-bottom: 4px;\n",
              "    }\n",
              "\n",
              "    [theme=dark] .colab-df-convert {\n",
              "      background-color: #3B4455;\n",
              "      fill: #D2E3FC;\n",
              "    }\n",
              "\n",
              "    [theme=dark] .colab-df-convert:hover {\n",
              "      background-color: #434B5C;\n",
              "      box-shadow: 0px 1px 3px 1px rgba(0, 0, 0, 0.15);\n",
              "      filter: drop-shadow(0px 1px 2px rgba(0, 0, 0, 0.3));\n",
              "      fill: #FFFFFF;\n",
              "    }\n",
              "  </style>\n",
              "\n",
              "    <script>\n",
              "      const buttonEl =\n",
              "        document.querySelector('#df-939beb88-b63a-4bc8-a8f6-5ac28d6c79ac button.colab-df-convert');\n",
              "      buttonEl.style.display =\n",
              "        google.colab.kernel.accessAllowed ? 'block' : 'none';\n",
              "\n",
              "      async function convertToInteractive(key) {\n",
              "        const element = document.querySelector('#df-939beb88-b63a-4bc8-a8f6-5ac28d6c79ac');\n",
              "        const dataTable =\n",
              "          await google.colab.kernel.invokeFunction('convertToInteractive',\n",
              "                                                    [key], {});\n",
              "        if (!dataTable) return;\n",
              "\n",
              "        const docLinkHtml = 'Like what you see? Visit the ' +\n",
              "          '<a target=\"_blank\" href=https://colab.research.google.com/notebooks/data_table.ipynb>data table notebook</a>'\n",
              "          + ' to learn more about interactive tables.';\n",
              "        element.innerHTML = '';\n",
              "        dataTable['output_type'] = 'display_data';\n",
              "        await google.colab.output.renderOutput(dataTable, element);\n",
              "        const docLink = document.createElement('div');\n",
              "        docLink.innerHTML = docLinkHtml;\n",
              "        element.appendChild(docLink);\n",
              "      }\n",
              "    </script>\n",
              "  </div>\n",
              "\n",
              "\n",
              "<div id=\"df-297ae84e-3a9e-44a2-853a-c7197b5b5246\">\n",
              "  <button class=\"colab-df-quickchart\" onclick=\"quickchart('df-297ae84e-3a9e-44a2-853a-c7197b5b5246')\"\n",
              "            title=\"Suggest charts\"\n",
              "            style=\"display:none;\">\n",
              "\n",
              "<svg xmlns=\"http://www.w3.org/2000/svg\" height=\"24px\"viewBox=\"0 0 24 24\"\n",
              "     width=\"24px\">\n",
              "    <g>\n",
              "        <path d=\"M19 3H5c-1.1 0-2 .9-2 2v14c0 1.1.9 2 2 2h14c1.1 0 2-.9 2-2V5c0-1.1-.9-2-2-2zM9 17H7v-7h2v7zm4 0h-2V7h2v10zm4 0h-2v-4h2v4z\"/>\n",
              "    </g>\n",
              "</svg>\n",
              "  </button>\n",
              "\n",
              "<style>\n",
              "  .colab-df-quickchart {\n",
              "      --bg-color: #E8F0FE;\n",
              "      --fill-color: #1967D2;\n",
              "      --hover-bg-color: #E2EBFA;\n",
              "      --hover-fill-color: #174EA6;\n",
              "      --disabled-fill-color: #AAA;\n",
              "      --disabled-bg-color: #DDD;\n",
              "  }\n",
              "\n",
              "  [theme=dark] .colab-df-quickchart {\n",
              "      --bg-color: #3B4455;\n",
              "      --fill-color: #D2E3FC;\n",
              "      --hover-bg-color: #434B5C;\n",
              "      --hover-fill-color: #FFFFFF;\n",
              "      --disabled-bg-color: #3B4455;\n",
              "      --disabled-fill-color: #666;\n",
              "  }\n",
              "\n",
              "  .colab-df-quickchart {\n",
              "    background-color: var(--bg-color);\n",
              "    border: none;\n",
              "    border-radius: 50%;\n",
              "    cursor: pointer;\n",
              "    display: none;\n",
              "    fill: var(--fill-color);\n",
              "    height: 32px;\n",
              "    padding: 0;\n",
              "    width: 32px;\n",
              "  }\n",
              "\n",
              "  .colab-df-quickchart:hover {\n",
              "    background-color: var(--hover-bg-color);\n",
              "    box-shadow: 0 1px 2px rgba(60, 64, 67, 0.3), 0 1px 3px 1px rgba(60, 64, 67, 0.15);\n",
              "    fill: var(--button-hover-fill-color);\n",
              "  }\n",
              "\n",
              "  .colab-df-quickchart-complete:disabled,\n",
              "  .colab-df-quickchart-complete:disabled:hover {\n",
              "    background-color: var(--disabled-bg-color);\n",
              "    fill: var(--disabled-fill-color);\n",
              "    box-shadow: none;\n",
              "  }\n",
              "\n",
              "  .colab-df-spinner {\n",
              "    border: 2px solid var(--fill-color);\n",
              "    border-color: transparent;\n",
              "    border-bottom-color: var(--fill-color);\n",
              "    animation:\n",
              "      spin 1s steps(1) infinite;\n",
              "  }\n",
              "\n",
              "  @keyframes spin {\n",
              "    0% {\n",
              "      border-color: transparent;\n",
              "      border-bottom-color: var(--fill-color);\n",
              "      border-left-color: var(--fill-color);\n",
              "    }\n",
              "    20% {\n",
              "      border-color: transparent;\n",
              "      border-left-color: var(--fill-color);\n",
              "      border-top-color: var(--fill-color);\n",
              "    }\n",
              "    30% {\n",
              "      border-color: transparent;\n",
              "      border-left-color: var(--fill-color);\n",
              "      border-top-color: var(--fill-color);\n",
              "      border-right-color: var(--fill-color);\n",
              "    }\n",
              "    40% {\n",
              "      border-color: transparent;\n",
              "      border-right-color: var(--fill-color);\n",
              "      border-top-color: var(--fill-color);\n",
              "    }\n",
              "    60% {\n",
              "      border-color: transparent;\n",
              "      border-right-color: var(--fill-color);\n",
              "    }\n",
              "    80% {\n",
              "      border-color: transparent;\n",
              "      border-right-color: var(--fill-color);\n",
              "      border-bottom-color: var(--fill-color);\n",
              "    }\n",
              "    90% {\n",
              "      border-color: transparent;\n",
              "      border-bottom-color: var(--fill-color);\n",
              "    }\n",
              "  }\n",
              "</style>\n",
              "\n",
              "  <script>\n",
              "    async function quickchart(key) {\n",
              "      const quickchartButtonEl =\n",
              "        document.querySelector('#' + key + ' button');\n",
              "      quickchartButtonEl.disabled = true;  // To prevent multiple clicks.\n",
              "      quickchartButtonEl.classList.add('colab-df-spinner');\n",
              "      try {\n",
              "        const charts = await google.colab.kernel.invokeFunction(\n",
              "            'suggestCharts', [key], {});\n",
              "      } catch (error) {\n",
              "        console.error('Error during call to suggestCharts:', error);\n",
              "      }\n",
              "      quickchartButtonEl.classList.remove('colab-df-spinner');\n",
              "      quickchartButtonEl.classList.add('colab-df-quickchart-complete');\n",
              "    }\n",
              "    (() => {\n",
              "      let quickchartButtonEl =\n",
              "        document.querySelector('#df-297ae84e-3a9e-44a2-853a-c7197b5b5246 button');\n",
              "      quickchartButtonEl.style.display =\n",
              "        google.colab.kernel.accessAllowed ? 'block' : 'none';\n",
              "    })();\n",
              "  </script>\n",
              "</div>\n",
              "    </div>\n",
              "  </div>\n"
            ],
            "application/vnd.google.colaboratory.intrinsic+json": {
              "type": "dataframe",
              "variable_name": "df",
              "summary": "{\n  \"name\": \"df\",\n  \"rows\": 6218,\n  \"fields\": [\n    {\n      \"column\": \"Name\",\n      \"properties\": {\n        \"dtype\": \"category\",\n        \"num_unique_values\": 1876,\n        \"samples\": [\n          \"Volkswagen Vento 2013-2015 1.6 Comfortline\",\n          \"Renault KWID 1.0 RXL\",\n          \"Mahindra Thar DI 4X4\"\n        ],\n        \"semantic_type\": \"\",\n        \"description\": \"\"\n      }\n    },\n    {\n      \"column\": \"Location\",\n      \"properties\": {\n        \"dtype\": \"category\",\n        \"num_unique_values\": 11,\n        \"samples\": [\n          \"Ahmedabad\",\n          \"Bangalore\",\n          \"Pune\"\n        ],\n        \"semantic_type\": \"\",\n        \"description\": \"\"\n      }\n    },\n    {\n      \"column\": \"Year\",\n      \"properties\": {\n        \"dtype\": \"number\",\n        \"std\": 3,\n        \"min\": 1998,\n        \"max\": 2019,\n        \"num_unique_values\": 22,\n        \"samples\": [\n          2012,\n          2011,\n          2008\n        ],\n        \"semantic_type\": \"\",\n        \"description\": \"\"\n      }\n    },\n    {\n      \"column\": \"Kilometers_Driven\",\n      \"properties\": {\n        \"dtype\": \"number\",\n        \"std\": 108809.08783182241,\n        \"min\": 171.0,\n        \"max\": 6500000.0,\n        \"num_unique_values\": 2080,\n        \"samples\": [\n          42021.0,\n          27417.0,\n          59270.0\n        ],\n        \"semantic_type\": \"\",\n        \"description\": \"\"\n      }\n    },\n    {\n      \"column\": \"Fuel_Type\",\n      \"properties\": {\n        \"dtype\": \"category\",\n        \"num_unique_values\": 5,\n        \"samples\": [\n          \"Petrol\",\n          \"LPG\",\n          \"CNG\"\n        ],\n        \"semantic_type\": \"\",\n        \"description\": \"\"\n      }\n    },\n    {\n      \"column\": \"Transmission\",\n      \"properties\": {\n        \"dtype\": \"category\",\n        \"num_unique_values\": 2,\n        \"samples\": [\n          \"Automatic\",\n          \"Manual\"\n        ],\n        \"semantic_type\": \"\",\n        \"description\": \"\"\n      }\n    },\n    {\n      \"column\": \"Owner_Type\",\n      \"properties\": {\n        \"dtype\": \"category\",\n        \"num_unique_values\": 4,\n        \"samples\": [\n          \"First\",\n          \"Fourth & Above\"\n        ],\n        \"semantic_type\": \"\",\n        \"description\": \"\"\n      }\n    },\n    {\n      \"column\": \"Mileage\",\n      \"properties\": {\n        \"dtype\": \"category\",\n        \"num_unique_values\": 415,\n        \"samples\": [\n          \"21.9 kmpl\",\n          \"15.29 kmpl\"\n        ],\n        \"semantic_type\": \"\",\n        \"description\": \"\"\n      }\n    },\n    {\n      \"column\": \"Engine\",\n      \"properties\": {\n        \"dtype\": \"category\",\n        \"num_unique_values\": 146,\n        \"samples\": [\n          \"3197 CC\",\n          \"1395 CC\"\n        ],\n        \"semantic_type\": \"\",\n        \"description\": \"\"\n      }\n    },\n    {\n      \"column\": \"Power\",\n      \"properties\": {\n        \"dtype\": \"category\",\n        \"num_unique_values\": 371,\n        \"samples\": [\n          \"114.4 bhp\",\n          \"81.86 bhp\"\n        ],\n        \"semantic_type\": \"\",\n        \"description\": \"\"\n      }\n    },\n    {\n      \"column\": \"Seats\",\n      \"properties\": {\n        \"dtype\": \"number\",\n        \"std\": 0.8081910055845865,\n        \"min\": 0.0,\n        \"max\": 10.0,\n        \"num_unique_values\": 9,\n        \"samples\": [\n          2.0,\n          5.0\n        ],\n        \"semantic_type\": \"\",\n        \"description\": \"\"\n      }\n    },\n    {\n      \"column\": \"New_Price\",\n      \"properties\": {\n        \"dtype\": \"category\",\n        \"num_unique_values\": 540,\n        \"samples\": [\n          \"22.66 Lakh\",\n          \"37.51 Lakh\"\n        ],\n        \"semantic_type\": \"\",\n        \"description\": \"\"\n      }\n    },\n    {\n      \"column\": \"Price\",\n      \"properties\": {\n        \"dtype\": \"number\",\n        \"std\": 11.146451848925789,\n        \"min\": 0.44,\n        \"max\": 160.0,\n        \"num_unique_values\": 1373,\n        \"samples\": [\n          5.21,\n          39.47\n        ],\n        \"semantic_type\": \"\",\n        \"description\": \"\"\n      }\n    }\n  ]\n}"
            }
          },
          "metadata": {},
          "execution_count": 22
        }
      ],
      "source": [
        "df.head()"
      ]
    },
    {
      "cell_type": "markdown",
      "metadata": {
        "id": "oL4z43o8hBQ0"
      },
      "source": [
        "Jika kita lihat, pada atribut `Mileage`, `Engine`, dan `Power` masih menggunakan satuan pada setiap baris data. Ini merupakan **redundansi** karena seharusnya satuan data cukup untuk diketahui pada bagian kolom saja. Untuk itu, kita dapat menghapus satuannya menggunakan kode berikut ini."
      ]
    },
    {
      "cell_type": "code",
      "execution_count": null,
      "metadata": {
        "id": "Zq_VzsIhhBQ0"
      },
      "outputs": [],
      "source": [
        "df['Mileage'] = df['Mileage'].str.replace('kmpl','')\n",
        "df['Mileage'] = df['Mileage'].str.replace('km/kg','')\n",
        "df['Engine'] = df['Engine'].str.replace('CC','')\n",
        "df['Power'] = df['Power'].str.replace('bhp','')"
      ]
    },
    {
      "cell_type": "markdown",
      "metadata": {
        "id": "KSU8rYDzhBQ0"
      },
      "source": [
        "Dari atribut `Name` terlihat bahwa merk dan model mobil masih tergabung. Kita dapat membuat kolom baru `Brand` agar mempermudah proses analisis."
      ]
    },
    {
      "cell_type": "code",
      "execution_count": null,
      "metadata": {
        "id": "3azBxMbAhBQ1"
      },
      "outputs": [],
      "source": [
        "df['Brand'] = df['Name'].str.split().str[0]"
      ]
    },
    {
      "cell_type": "markdown",
      "metadata": {
        "id": "wCVKiU_ThBQ1"
      },
      "source": [
        "Terlihat bahwa merk selalu berada di kata paling awal, untuk itu kita bisa menggunakan *splitting* dan mengambil indeks 0 untuk atribut merk."
      ]
    },
    {
      "cell_type": "code",
      "execution_count": null,
      "metadata": {
        "scrolled": false,
        "colab": {
          "base_uri": "https://localhost:8080/",
          "height": 206
        },
        "id": "mcEntcQshBQ1",
        "outputId": "61f74fb1-a4ae-4f57-990f-c4ab5ee3116d"
      },
      "outputs": [
        {
          "output_type": "execute_result",
          "data": {
            "text/plain": [
              "                               Name   Location  Year  Kilometers_Driven  \\\n",
              "0         Mitsubishi Pajero 4X4 LHD  Bangalore  2012           155566.0   \n",
              "1              Honda City i DTEC VX     Jaipur  2014            74000.0   \n",
              "2  Hyundai Creta 1.6 SX Plus Diesel      Kochi  2018                NaN   \n",
              "3        Hyundai Elantra CRDi SX AT     Mumbai  2013            51000.0   \n",
              "4      Honda City Corporate Edition     Mumbai  2012            51920.0   \n",
              "\n",
              "  Fuel_Type Transmission Owner_Type Mileage Engine    Power  Seats New_Price  \\\n",
              "0    Diesel       Manual     Second    9.5   2835    118.6     6.0       NaN   \n",
              "1    Diesel       Manual     Second   25.1   1498     98.6     5.0       NaN   \n",
              "2    Diesel       Manual      First  19.67   1582    126.2     5.0       NaN   \n",
              "3    Diesel    Automatic      First   19.5   1582   126.24     5.0       NaN   \n",
              "4    Petrol       Manual      First     NaN  1497    116.3     5.0       NaN   \n",
              "\n",
              "   Price       Brand  \n",
              "0   9.15  Mitsubishi  \n",
              "1   6.40       Honda  \n",
              "2  13.34     Hyundai  \n",
              "3   8.75     Hyundai  \n",
              "4   4.25       Honda  "
            ],
            "text/html": [
              "\n",
              "  <div id=\"df-ae044965-755d-4d1b-90d3-7f7714c75df0\" class=\"colab-df-container\">\n",
              "    <div>\n",
              "<style scoped>\n",
              "    .dataframe tbody tr th:only-of-type {\n",
              "        vertical-align: middle;\n",
              "    }\n",
              "\n",
              "    .dataframe tbody tr th {\n",
              "        vertical-align: top;\n",
              "    }\n",
              "\n",
              "    .dataframe thead th {\n",
              "        text-align: right;\n",
              "    }\n",
              "</style>\n",
              "<table border=\"1\" class=\"dataframe\">\n",
              "  <thead>\n",
              "    <tr style=\"text-align: right;\">\n",
              "      <th></th>\n",
              "      <th>Name</th>\n",
              "      <th>Location</th>\n",
              "      <th>Year</th>\n",
              "      <th>Kilometers_Driven</th>\n",
              "      <th>Fuel_Type</th>\n",
              "      <th>Transmission</th>\n",
              "      <th>Owner_Type</th>\n",
              "      <th>Mileage</th>\n",
              "      <th>Engine</th>\n",
              "      <th>Power</th>\n",
              "      <th>Seats</th>\n",
              "      <th>New_Price</th>\n",
              "      <th>Price</th>\n",
              "      <th>Brand</th>\n",
              "    </tr>\n",
              "  </thead>\n",
              "  <tbody>\n",
              "    <tr>\n",
              "      <th>0</th>\n",
              "      <td>Mitsubishi Pajero 4X4 LHD</td>\n",
              "      <td>Bangalore</td>\n",
              "      <td>2012</td>\n",
              "      <td>155566.0</td>\n",
              "      <td>Diesel</td>\n",
              "      <td>Manual</td>\n",
              "      <td>Second</td>\n",
              "      <td>9.5</td>\n",
              "      <td>2835</td>\n",
              "      <td>118.6</td>\n",
              "      <td>6.0</td>\n",
              "      <td>NaN</td>\n",
              "      <td>9.15</td>\n",
              "      <td>Mitsubishi</td>\n",
              "    </tr>\n",
              "    <tr>\n",
              "      <th>1</th>\n",
              "      <td>Honda City i DTEC VX</td>\n",
              "      <td>Jaipur</td>\n",
              "      <td>2014</td>\n",
              "      <td>74000.0</td>\n",
              "      <td>Diesel</td>\n",
              "      <td>Manual</td>\n",
              "      <td>Second</td>\n",
              "      <td>25.1</td>\n",
              "      <td>1498</td>\n",
              "      <td>98.6</td>\n",
              "      <td>5.0</td>\n",
              "      <td>NaN</td>\n",
              "      <td>6.40</td>\n",
              "      <td>Honda</td>\n",
              "    </tr>\n",
              "    <tr>\n",
              "      <th>2</th>\n",
              "      <td>Hyundai Creta 1.6 SX Plus Diesel</td>\n",
              "      <td>Kochi</td>\n",
              "      <td>2018</td>\n",
              "      <td>NaN</td>\n",
              "      <td>Diesel</td>\n",
              "      <td>Manual</td>\n",
              "      <td>First</td>\n",
              "      <td>19.67</td>\n",
              "      <td>1582</td>\n",
              "      <td>126.2</td>\n",
              "      <td>5.0</td>\n",
              "      <td>NaN</td>\n",
              "      <td>13.34</td>\n",
              "      <td>Hyundai</td>\n",
              "    </tr>\n",
              "    <tr>\n",
              "      <th>3</th>\n",
              "      <td>Hyundai Elantra CRDi SX AT</td>\n",
              "      <td>Mumbai</td>\n",
              "      <td>2013</td>\n",
              "      <td>51000.0</td>\n",
              "      <td>Diesel</td>\n",
              "      <td>Automatic</td>\n",
              "      <td>First</td>\n",
              "      <td>19.5</td>\n",
              "      <td>1582</td>\n",
              "      <td>126.24</td>\n",
              "      <td>5.0</td>\n",
              "      <td>NaN</td>\n",
              "      <td>8.75</td>\n",
              "      <td>Hyundai</td>\n",
              "    </tr>\n",
              "    <tr>\n",
              "      <th>4</th>\n",
              "      <td>Honda City Corporate Edition</td>\n",
              "      <td>Mumbai</td>\n",
              "      <td>2012</td>\n",
              "      <td>51920.0</td>\n",
              "      <td>Petrol</td>\n",
              "      <td>Manual</td>\n",
              "      <td>First</td>\n",
              "      <td>NaN</td>\n",
              "      <td>1497</td>\n",
              "      <td>116.3</td>\n",
              "      <td>5.0</td>\n",
              "      <td>NaN</td>\n",
              "      <td>4.25</td>\n",
              "      <td>Honda</td>\n",
              "    </tr>\n",
              "  </tbody>\n",
              "</table>\n",
              "</div>\n",
              "    <div class=\"colab-df-buttons\">\n",
              "\n",
              "  <div class=\"colab-df-container\">\n",
              "    <button class=\"colab-df-convert\" onclick=\"convertToInteractive('df-ae044965-755d-4d1b-90d3-7f7714c75df0')\"\n",
              "            title=\"Convert this dataframe to an interactive table.\"\n",
              "            style=\"display:none;\">\n",
              "\n",
              "  <svg xmlns=\"http://www.w3.org/2000/svg\" height=\"24px\" viewBox=\"0 -960 960 960\">\n",
              "    <path d=\"M120-120v-720h720v720H120Zm60-500h600v-160H180v160Zm220 220h160v-160H400v160Zm0 220h160v-160H400v160ZM180-400h160v-160H180v160Zm440 0h160v-160H620v160ZM180-180h160v-160H180v160Zm440 0h160v-160H620v160Z\"/>\n",
              "  </svg>\n",
              "    </button>\n",
              "\n",
              "  <style>\n",
              "    .colab-df-container {\n",
              "      display:flex;\n",
              "      gap: 12px;\n",
              "    }\n",
              "\n",
              "    .colab-df-convert {\n",
              "      background-color: #E8F0FE;\n",
              "      border: none;\n",
              "      border-radius: 50%;\n",
              "      cursor: pointer;\n",
              "      display: none;\n",
              "      fill: #1967D2;\n",
              "      height: 32px;\n",
              "      padding: 0 0 0 0;\n",
              "      width: 32px;\n",
              "    }\n",
              "\n",
              "    .colab-df-convert:hover {\n",
              "      background-color: #E2EBFA;\n",
              "      box-shadow: 0px 1px 2px rgba(60, 64, 67, 0.3), 0px 1px 3px 1px rgba(60, 64, 67, 0.15);\n",
              "      fill: #174EA6;\n",
              "    }\n",
              "\n",
              "    .colab-df-buttons div {\n",
              "      margin-bottom: 4px;\n",
              "    }\n",
              "\n",
              "    [theme=dark] .colab-df-convert {\n",
              "      background-color: #3B4455;\n",
              "      fill: #D2E3FC;\n",
              "    }\n",
              "\n",
              "    [theme=dark] .colab-df-convert:hover {\n",
              "      background-color: #434B5C;\n",
              "      box-shadow: 0px 1px 3px 1px rgba(0, 0, 0, 0.15);\n",
              "      filter: drop-shadow(0px 1px 2px rgba(0, 0, 0, 0.3));\n",
              "      fill: #FFFFFF;\n",
              "    }\n",
              "  </style>\n",
              "\n",
              "    <script>\n",
              "      const buttonEl =\n",
              "        document.querySelector('#df-ae044965-755d-4d1b-90d3-7f7714c75df0 button.colab-df-convert');\n",
              "      buttonEl.style.display =\n",
              "        google.colab.kernel.accessAllowed ? 'block' : 'none';\n",
              "\n",
              "      async function convertToInteractive(key) {\n",
              "        const element = document.querySelector('#df-ae044965-755d-4d1b-90d3-7f7714c75df0');\n",
              "        const dataTable =\n",
              "          await google.colab.kernel.invokeFunction('convertToInteractive',\n",
              "                                                    [key], {});\n",
              "        if (!dataTable) return;\n",
              "\n",
              "        const docLinkHtml = 'Like what you see? Visit the ' +\n",
              "          '<a target=\"_blank\" href=https://colab.research.google.com/notebooks/data_table.ipynb>data table notebook</a>'\n",
              "          + ' to learn more about interactive tables.';\n",
              "        element.innerHTML = '';\n",
              "        dataTable['output_type'] = 'display_data';\n",
              "        await google.colab.output.renderOutput(dataTable, element);\n",
              "        const docLink = document.createElement('div');\n",
              "        docLink.innerHTML = docLinkHtml;\n",
              "        element.appendChild(docLink);\n",
              "      }\n",
              "    </script>\n",
              "  </div>\n",
              "\n",
              "\n",
              "<div id=\"df-387d5009-f2a6-49ab-854b-b0ba61632b3d\">\n",
              "  <button class=\"colab-df-quickchart\" onclick=\"quickchart('df-387d5009-f2a6-49ab-854b-b0ba61632b3d')\"\n",
              "            title=\"Suggest charts\"\n",
              "            style=\"display:none;\">\n",
              "\n",
              "<svg xmlns=\"http://www.w3.org/2000/svg\" height=\"24px\"viewBox=\"0 0 24 24\"\n",
              "     width=\"24px\">\n",
              "    <g>\n",
              "        <path d=\"M19 3H5c-1.1 0-2 .9-2 2v14c0 1.1.9 2 2 2h14c1.1 0 2-.9 2-2V5c0-1.1-.9-2-2-2zM9 17H7v-7h2v7zm4 0h-2V7h2v10zm4 0h-2v-4h2v4z\"/>\n",
              "    </g>\n",
              "</svg>\n",
              "  </button>\n",
              "\n",
              "<style>\n",
              "  .colab-df-quickchart {\n",
              "      --bg-color: #E8F0FE;\n",
              "      --fill-color: #1967D2;\n",
              "      --hover-bg-color: #E2EBFA;\n",
              "      --hover-fill-color: #174EA6;\n",
              "      --disabled-fill-color: #AAA;\n",
              "      --disabled-bg-color: #DDD;\n",
              "  }\n",
              "\n",
              "  [theme=dark] .colab-df-quickchart {\n",
              "      --bg-color: #3B4455;\n",
              "      --fill-color: #D2E3FC;\n",
              "      --hover-bg-color: #434B5C;\n",
              "      --hover-fill-color: #FFFFFF;\n",
              "      --disabled-bg-color: #3B4455;\n",
              "      --disabled-fill-color: #666;\n",
              "  }\n",
              "\n",
              "  .colab-df-quickchart {\n",
              "    background-color: var(--bg-color);\n",
              "    border: none;\n",
              "    border-radius: 50%;\n",
              "    cursor: pointer;\n",
              "    display: none;\n",
              "    fill: var(--fill-color);\n",
              "    height: 32px;\n",
              "    padding: 0;\n",
              "    width: 32px;\n",
              "  }\n",
              "\n",
              "  .colab-df-quickchart:hover {\n",
              "    background-color: var(--hover-bg-color);\n",
              "    box-shadow: 0 1px 2px rgba(60, 64, 67, 0.3), 0 1px 3px 1px rgba(60, 64, 67, 0.15);\n",
              "    fill: var(--button-hover-fill-color);\n",
              "  }\n",
              "\n",
              "  .colab-df-quickchart-complete:disabled,\n",
              "  .colab-df-quickchart-complete:disabled:hover {\n",
              "    background-color: var(--disabled-bg-color);\n",
              "    fill: var(--disabled-fill-color);\n",
              "    box-shadow: none;\n",
              "  }\n",
              "\n",
              "  .colab-df-spinner {\n",
              "    border: 2px solid var(--fill-color);\n",
              "    border-color: transparent;\n",
              "    border-bottom-color: var(--fill-color);\n",
              "    animation:\n",
              "      spin 1s steps(1) infinite;\n",
              "  }\n",
              "\n",
              "  @keyframes spin {\n",
              "    0% {\n",
              "      border-color: transparent;\n",
              "      border-bottom-color: var(--fill-color);\n",
              "      border-left-color: var(--fill-color);\n",
              "    }\n",
              "    20% {\n",
              "      border-color: transparent;\n",
              "      border-left-color: var(--fill-color);\n",
              "      border-top-color: var(--fill-color);\n",
              "    }\n",
              "    30% {\n",
              "      border-color: transparent;\n",
              "      border-left-color: var(--fill-color);\n",
              "      border-top-color: var(--fill-color);\n",
              "      border-right-color: var(--fill-color);\n",
              "    }\n",
              "    40% {\n",
              "      border-color: transparent;\n",
              "      border-right-color: var(--fill-color);\n",
              "      border-top-color: var(--fill-color);\n",
              "    }\n",
              "    60% {\n",
              "      border-color: transparent;\n",
              "      border-right-color: var(--fill-color);\n",
              "    }\n",
              "    80% {\n",
              "      border-color: transparent;\n",
              "      border-right-color: var(--fill-color);\n",
              "      border-bottom-color: var(--fill-color);\n",
              "    }\n",
              "    90% {\n",
              "      border-color: transparent;\n",
              "      border-bottom-color: var(--fill-color);\n",
              "    }\n",
              "  }\n",
              "</style>\n",
              "\n",
              "  <script>\n",
              "    async function quickchart(key) {\n",
              "      const quickchartButtonEl =\n",
              "        document.querySelector('#' + key + ' button');\n",
              "      quickchartButtonEl.disabled = true;  // To prevent multiple clicks.\n",
              "      quickchartButtonEl.classList.add('colab-df-spinner');\n",
              "      try {\n",
              "        const charts = await google.colab.kernel.invokeFunction(\n",
              "            'suggestCharts', [key], {});\n",
              "      } catch (error) {\n",
              "        console.error('Error during call to suggestCharts:', error);\n",
              "      }\n",
              "      quickchartButtonEl.classList.remove('colab-df-spinner');\n",
              "      quickchartButtonEl.classList.add('colab-df-quickchart-complete');\n",
              "    }\n",
              "    (() => {\n",
              "      let quickchartButtonEl =\n",
              "        document.querySelector('#df-387d5009-f2a6-49ab-854b-b0ba61632b3d button');\n",
              "      quickchartButtonEl.style.display =\n",
              "        google.colab.kernel.accessAllowed ? 'block' : 'none';\n",
              "    })();\n",
              "  </script>\n",
              "</div>\n",
              "    </div>\n",
              "  </div>\n"
            ],
            "application/vnd.google.colaboratory.intrinsic+json": {
              "type": "dataframe",
              "variable_name": "df",
              "summary": "{\n  \"name\": \"df\",\n  \"rows\": 6218,\n  \"fields\": [\n    {\n      \"column\": \"Name\",\n      \"properties\": {\n        \"dtype\": \"category\",\n        \"num_unique_values\": 1876,\n        \"samples\": [\n          \"Volkswagen Vento 2013-2015 1.6 Comfortline\",\n          \"Renault KWID 1.0 RXL\",\n          \"Mahindra Thar DI 4X4\"\n        ],\n        \"semantic_type\": \"\",\n        \"description\": \"\"\n      }\n    },\n    {\n      \"column\": \"Location\",\n      \"properties\": {\n        \"dtype\": \"category\",\n        \"num_unique_values\": 11,\n        \"samples\": [\n          \"Ahmedabad\",\n          \"Bangalore\",\n          \"Pune\"\n        ],\n        \"semantic_type\": \"\",\n        \"description\": \"\"\n      }\n    },\n    {\n      \"column\": \"Year\",\n      \"properties\": {\n        \"dtype\": \"number\",\n        \"std\": 3,\n        \"min\": 1998,\n        \"max\": 2019,\n        \"num_unique_values\": 22,\n        \"samples\": [\n          2012,\n          2011,\n          2008\n        ],\n        \"semantic_type\": \"\",\n        \"description\": \"\"\n      }\n    },\n    {\n      \"column\": \"Kilometers_Driven\",\n      \"properties\": {\n        \"dtype\": \"number\",\n        \"std\": 108809.08783182241,\n        \"min\": 171.0,\n        \"max\": 6500000.0,\n        \"num_unique_values\": 2080,\n        \"samples\": [\n          42021.0,\n          27417.0,\n          59270.0\n        ],\n        \"semantic_type\": \"\",\n        \"description\": \"\"\n      }\n    },\n    {\n      \"column\": \"Fuel_Type\",\n      \"properties\": {\n        \"dtype\": \"category\",\n        \"num_unique_values\": 5,\n        \"samples\": [\n          \"Petrol\",\n          \"LPG\",\n          \"CNG\"\n        ],\n        \"semantic_type\": \"\",\n        \"description\": \"\"\n      }\n    },\n    {\n      \"column\": \"Transmission\",\n      \"properties\": {\n        \"dtype\": \"category\",\n        \"num_unique_values\": 2,\n        \"samples\": [\n          \"Automatic\",\n          \"Manual\"\n        ],\n        \"semantic_type\": \"\",\n        \"description\": \"\"\n      }\n    },\n    {\n      \"column\": \"Owner_Type\",\n      \"properties\": {\n        \"dtype\": \"category\",\n        \"num_unique_values\": 4,\n        \"samples\": [\n          \"First\",\n          \"Fourth & Above\"\n        ],\n        \"semantic_type\": \"\",\n        \"description\": \"\"\n      }\n    },\n    {\n      \"column\": \"Mileage\",\n      \"properties\": {\n        \"dtype\": \"category\",\n        \"num_unique_values\": 405,\n        \"samples\": [\n          \"12.55 \",\n          \"13.93 \"\n        ],\n        \"semantic_type\": \"\",\n        \"description\": \"\"\n      }\n    },\n    {\n      \"column\": \"Engine\",\n      \"properties\": {\n        \"dtype\": \"category\",\n        \"num_unique_values\": 146,\n        \"samples\": [\n          \"3197 \",\n          \"1395 \"\n        ],\n        \"semantic_type\": \"\",\n        \"description\": \"\"\n      }\n    },\n    {\n      \"column\": \"Power\",\n      \"properties\": {\n        \"dtype\": \"category\",\n        \"num_unique_values\": 371,\n        \"samples\": [\n          \"114.4 \",\n          \"81.86 \"\n        ],\n        \"semantic_type\": \"\",\n        \"description\": \"\"\n      }\n    },\n    {\n      \"column\": \"Seats\",\n      \"properties\": {\n        \"dtype\": \"number\",\n        \"std\": 0.8081910055845865,\n        \"min\": 0.0,\n        \"max\": 10.0,\n        \"num_unique_values\": 9,\n        \"samples\": [\n          2.0,\n          5.0\n        ],\n        \"semantic_type\": \"\",\n        \"description\": \"\"\n      }\n    },\n    {\n      \"column\": \"New_Price\",\n      \"properties\": {\n        \"dtype\": \"category\",\n        \"num_unique_values\": 540,\n        \"samples\": [\n          \"22.66 Lakh\",\n          \"37.51 Lakh\"\n        ],\n        \"semantic_type\": \"\",\n        \"description\": \"\"\n      }\n    },\n    {\n      \"column\": \"Price\",\n      \"properties\": {\n        \"dtype\": \"number\",\n        \"std\": 11.146451848925789,\n        \"min\": 0.44,\n        \"max\": 160.0,\n        \"num_unique_values\": 1373,\n        \"samples\": [\n          5.21,\n          39.47\n        ],\n        \"semantic_type\": \"\",\n        \"description\": \"\"\n      }\n    },\n    {\n      \"column\": \"Brand\",\n      \"properties\": {\n        \"dtype\": \"category\",\n        \"num_unique_values\": 31,\n        \"samples\": [\n          \"ISUZU\",\n          \"Toyota\"\n        ],\n        \"semantic_type\": \"\",\n        \"description\": \"\"\n      }\n    }\n  ]\n}"
            }
          },
          "metadata": {},
          "execution_count": 25
        }
      ],
      "source": [
        "df.head()"
      ]
    },
    {
      "cell_type": "code",
      "execution_count": null,
      "metadata": {
        "scrolled": true,
        "colab": {
          "base_uri": "https://localhost:8080/"
        },
        "id": "vRpV8cIehBQ1",
        "outputId": "518c1e94-4c2e-46a5-ab5d-b0434e822f54"
      },
      "outputs": [
        {
          "output_type": "execute_result",
          "data": {
            "text/plain": [
              "array(['Mitsubishi', 'Honda', 'Hyundai', 'Volkswagen', 'BMW', 'Ford',\n",
              "       'Audi', 'Jeep', 'Renault', 'Mercedes-Benz', 'Maruti', 'Jaguar',\n",
              "       'Skoda', 'Mahindra', 'Mini', 'Toyota', 'Nissan', 'Tata',\n",
              "       'Chevrolet', 'Fiat', 'Volvo', 'Land', 'Porsche', 'Datsun', 'Isuzu',\n",
              "       'Force', 'Smart', 'ISUZU', 'Lamborghini', 'Ambassador', 'Bentley'],\n",
              "      dtype=object)"
            ]
          },
          "metadata": {},
          "execution_count": 26
        }
      ],
      "source": [
        "df['Brand'].unique()"
      ]
    },
    {
      "cell_type": "markdown",
      "metadata": {
        "id": "R3nNgo3EhBQ1"
      },
      "source": [
        "Nilai unik pada atribut `Brand`"
      ]
    },
    {
      "cell_type": "markdown",
      "metadata": {
        "id": "rZiygKZohBQ1"
      },
      "source": [
        "Data yang sudah diubah formatnya ini masih perlu diubah ke dalam tipe data **numeric** karena sebelumnya masih bertipe **object** berupa string."
      ]
    },
    {
      "cell_type": "code",
      "execution_count": null,
      "metadata": {
        "id": "0BX6mrGMhBQ2"
      },
      "outputs": [],
      "source": [
        "df['Power'] = pd.to_numeric(df['Power'])\n",
        "df['Engine'] = pd.to_numeric(df['Engine'])\n",
        "df['Mileage'] = pd.to_numeric(df['Mileage'])"
      ]
    },
    {
      "cell_type": "code",
      "execution_count": null,
      "metadata": {
        "colab": {
          "base_uri": "https://localhost:8080/"
        },
        "id": "L-wFxfZvhBQ2",
        "outputId": "9c00c710-0074-4ff2-dfbd-25ac55aa9f35"
      },
      "outputs": [
        {
          "output_type": "stream",
          "name": "stdout",
          "text": [
            "<class 'pandas.core.frame.DataFrame'>\n",
            "RangeIndex: 6218 entries, 0 to 6217\n",
            "Data columns (total 14 columns):\n",
            " #   Column             Non-Null Count  Dtype  \n",
            "---  ------             --------------  -----  \n",
            " 0   Name               6218 non-null   object \n",
            " 1   Location           6218 non-null   object \n",
            " 2   Year               6218 non-null   int64  \n",
            " 3   Kilometers_Driven  4042 non-null   float64\n",
            " 4   Fuel_Type          5472 non-null   object \n",
            " 5   Transmission       5783 non-null   object \n",
            " 6   Owner_Type         6218 non-null   object \n",
            " 7   Mileage            4352 non-null   float64\n",
            " 8   Engine             6181 non-null   float64\n",
            " 9   Power              6069 non-null   float64\n",
            " 10  Seats              6175 non-null   float64\n",
            " 11  New_Price          856 non-null    object \n",
            " 12  Price              6218 non-null   float64\n",
            " 13  Brand              6218 non-null   object \n",
            "dtypes: float64(6), int64(1), object(7)\n",
            "memory usage: 680.2+ KB\n"
          ]
        }
      ],
      "source": [
        "df.info()"
      ]
    },
    {
      "cell_type": "markdown",
      "metadata": {
        "id": "EIOh9frThBQ2"
      },
      "source": [
        "Sekarang data sudah berhasil diubah ke dalam tipe data yang sesuai serta telah berhasil membuat kolom baru berupa `Brand`"
      ]
    },
    {
      "cell_type": "markdown",
      "metadata": {
        "id": "4wGPJA8FhBQ2"
      },
      "source": [
        "Selanjutnya, kita akan men-drop atribut `Name` karena sudah tidak terlalu berguna dan hanya berfungsi sebagai identifier. Seperti yang kita tahu, identifier jika dibiarkan tidak terlalu berguna pada prediksi dan bahkan bisa menyebabkan **overfitting**. Alasan lain melakukan **drop column** lebih lengkapnya dapat dilihat pada *missing value handling* di bawah."
      ]
    },
    {
      "cell_type": "code",
      "execution_count": null,
      "metadata": {
        "id": "db-33_1HhBQ2"
      },
      "outputs": [],
      "source": [
        "df = df.drop('Name',axis=1)"
      ]
    },
    {
      "cell_type": "markdown",
      "metadata": {
        "id": "ETfChmGthBQ2"
      },
      "source": [
        "**NOTE**: Membuat kolom/atribut baru secara umum perlu dilakukan dengan suatu tujuan atau alasan yang jelas serta harus sesuai dengan konteks awal pengumpulan data"
      ]
    },
    {
      "cell_type": "markdown",
      "metadata": {
        "id": "ZkS8S46Nv2hH"
      },
      "source": [
        "## Duplicate Values Handling"
      ]
    },
    {
      "cell_type": "markdown",
      "metadata": {
        "id": "P0cqQD4dhBQ2"
      },
      "source": [
        "Tahapan selanjutnya adalah melakukan pembersihan untuk data duplikat/redundan. Berikut merupakan kode untuk menampilkan jumlah **baris** yang duplikat, yaitu baris yang nilainya memilki nilai sama persis untuk semua kolomnya."
      ]
    },
    {
      "cell_type": "code",
      "execution_count": null,
      "metadata": {
        "colab": {
          "base_uri": "https://localhost:8080/"
        },
        "id": "c222PjhghBQ2",
        "outputId": "fd3d6aef-f008-4ab3-dc4d-bd5b99c6b7e4"
      },
      "outputs": [
        {
          "output_type": "execute_result",
          "data": {
            "text/plain": [
              "47"
            ]
          },
          "metadata": {},
          "execution_count": 30
        }
      ],
      "source": [
        "df.duplicated().sum()"
      ]
    },
    {
      "cell_type": "markdown",
      "metadata": {
        "id": "MGeq0dUehBQ3"
      },
      "source": [
        "### SOAL 1a:\n",
        "Berikan implementasi kode untuk menampilkan rows/baris mana saja yang merupakan duplikat. <br> **Hint:** gunakan sintaks indexing. Hasil akhir akan menampilkan dataframe beserta semua kolom"
      ]
    },
    {
      "cell_type": "code",
      "execution_count": null,
      "metadata": {
        "id": "SYwMcLEihBQ3"
      },
      "outputs": [],
      "source": [
        "# GUNAKAN variabel ini\n",
        "df_dropped = df.copy()"
      ]
    },
    {
      "cell_type": "code",
      "execution_count": null,
      "metadata": {
        "colab": {
          "base_uri": "https://localhost:8080/",
          "height": 1000
        },
        "id": "5Sqe0VqfhBQ3",
        "outputId": "f2f5c322-cf00-4b8f-c5f0-78e381b9e7d7"
      },
      "outputs": [
        {
          "output_type": "execute_result",
          "data": {
            "text/plain": [
              "        Location  Year  Kilometers_Driven Fuel_Type Transmission Owner_Type  \\\n",
              "748        Delhi  2012                NaN    Petrol       Manual      First   \n",
              "1056       Kochi  2019            14322.0    Petrol       Manual      First   \n",
              "1102     Chennai  2016           178000.0    Diesel       Manual      First   \n",
              "1523   Hyderabad  2012            70337.0    Diesel       Manual      First   \n",
              "1587      Mumbai  2012            51920.0    Petrol       Manual      First   \n",
              "1601   Ahmedabad  2010            70002.0    Diesel       Manual      First   \n",
              "1682       Delhi  2013                NaN    Diesel    Automatic      First   \n",
              "1696     Kolkata  2009                NaN    Diesel    Automatic      First   \n",
              "1859     Kolkata  2014            53000.0    Diesel       Manual      First   \n",
              "2001     Chennai  2015            54000.0    Petrol       Manual      Third   \n",
              "2070      Jaipur  2010            66123.0    Diesel       Manual     Second   \n",
              "2188  Coimbatore  2019            15369.0    Diesel    Automatic      First   \n",
              "2240     Kolkata  2010            45807.0    Petrol       Manual      First   \n",
              "2435   Hyderabad  2007                NaN    Petrol    Automatic      First   \n",
              "2531     Chennai  2012                NaN    Diesel       Manual      First   \n",
              "2648     Kolkata  2015            30000.0    Diesel       Manual      First   \n",
              "2826       Kochi  2016            61012.0       NaN       Manual      First   \n",
              "3090       Delhi  2014            52000.0    Diesel       Manual      First   \n",
              "3325      Mumbai  2008                NaN    Petrol    Automatic      First   \n",
              "3656   Hyderabad  2015                NaN    Diesel       Manual      First   \n",
              "3708      Mumbai  2015            55729.0    Diesel       Manual      First   \n",
              "3785   Hyderabad  2010                NaN    Diesel    Automatic      First   \n",
              "3956       Delhi  2013            60000.0    Petrol       Manual      First   \n",
              "4191      Mumbai  2017                NaN    Diesel    Automatic      First   \n",
              "4194      Mumbai  2015                NaN    Petrol       Manual      First   \n",
              "4249   Hyderabad  2012            63000.0    Diesel       Manual      First   \n",
              "4361      Mumbai  2009           128000.0    Petrol    Automatic      First   \n",
              "4603      Mumbai  2013            21000.0    Petrol    Automatic     Second   \n",
              "4671      Jaipur  2012            75800.0    Diesel       Manual     Second   \n",
              "4830       Delhi  2012            65000.0    Diesel       Manual     Second   \n",
              "4848   Ahmedabad  2016            90000.0    Diesel       Manual      First   \n",
              "4869      Mumbai  2015            41000.0    Diesel    Automatic      First   \n",
              "4917      Jaipur  2017                NaN    Diesel    Automatic     Second   \n",
              "4935      Mumbai  2016            33000.0    Diesel       Manual      First   \n",
              "4982   Hyderabad  2017                NaN    Petrol       Manual      First   \n",
              "4991   Bangalore  2015            55392.0    Diesel       Manual     Second   \n",
              "5072      Mumbai  2018            13000.0    Diesel       Manual      First   \n",
              "5155       Delhi  2014            72000.0    Diesel    Automatic      First   \n",
              "5257  Coimbatore  2016            30232.0       NaN       Manual      First   \n",
              "5281     Kolkata  2013            33280.0    Petrol       Manual      First   \n",
              "5323   Hyderabad  2012                NaN    Diesel       Manual      First   \n",
              "5496      Jaipur  2017            25000.0    Diesel       Manual      First   \n",
              "5731  Coimbatore  2017            32684.0    Petrol    Automatic      First   \n",
              "5933     Kolkata  2010            35277.0    Petrol    Automatic      First   \n",
              "6146   Ahmedabad  2014            53000.0    Petrol       Manual      First   \n",
              "6194  Coimbatore  2016            37300.0    Petrol    Automatic     Second   \n",
              "6214      Mumbai  2014            30180.0    Petrol       Manual      First   \n",
              "\n",
              "      Mileage  Engine   Power  Seats   New_Price  Price          Brand  \n",
              "748     13.50  1799.0  130.00    5.0         NaN   3.95          Honda  \n",
              "1056    21.10   814.0   55.20    5.0         NaN   4.23        Hyundai  \n",
              "1102    25.00  1396.0   69.00    5.0         NaN   2.50           Tata  \n",
              "1523    20.00  1399.0   68.00    5.0         NaN   2.80           Ford  \n",
              "1587      NaN  1497.0  116.30    5.0         NaN   4.25          Honda  \n",
              "1601      NaN  1493.0  110.00    5.0         NaN   3.45        Hyundai  \n",
              "1682    12.55  2982.0  168.50    7.0         NaN  16.50         Toyota  \n",
              "1696      NaN  1968.0  147.51    5.0         NaN   9.95           Audi  \n",
              "1859    17.80  1248.0   75.00    5.0         NaN   3.30         Maruti  \n",
              "2001    18.90  1197.0   82.00    5.0         NaN   3.60        Hyundai  \n",
              "2070    20.00  1399.0   68.00    5.0         NaN   2.10           Ford  \n",
              "2188     0.00  1950.0  194.00    5.0  49.14 Lakh  35.67  Mercedes-Benz  \n",
              "2240    18.50  1197.0   80.00    5.0         NaN   1.87        Hyundai  \n",
              "2435    17.00  1086.0     NaN    5.0         NaN   2.40        Hyundai  \n",
              "2531    22.90  1248.0   74.00    5.0         NaN   4.80         Maruti  \n",
              "2648    25.80  1498.0   98.60    5.0         NaN   3.50          Honda  \n",
              "2826      NaN  1197.0   81.83    5.0         NaN   6.00        Hyundai  \n",
              "3090    22.90  1248.0   74.00    5.0         NaN   4.25         Maruti  \n",
              "3325      NaN  4806.0  500.00    5.0         NaN  14.50        Porsche  \n",
              "3656      NaN  1498.0   88.80    5.0         NaN   5.80     Volkswagen  \n",
              "3708    15.10  2179.0  140.00    7.0         NaN   9.65       Mahindra  \n",
              "3785    13.29  1995.0  147.60    5.0         NaN   7.75         Nissan  \n",
              "3956    20.36  1197.0   78.90    5.0         NaN   2.75        Hyundai  \n",
              "4191    11.36  2755.0  171.50    7.0     27 Lakh  19.25         Toyota  \n",
              "4194    20.73  1373.0   91.10    5.0         NaN   5.95         Maruti  \n",
              "4249    22.07  1199.0   73.90    5.0         NaN   4.20     Volkswagen  \n",
              "4361    10.80  2497.0  215.00    5.0         NaN   7.00            BMW  \n",
              "4603    14.40  1598.0  103.60    5.0         NaN   4.45     Volkswagen  \n",
              "4671      NaN  2498.0  105.00    6.0         NaN   5.50       Mahindra  \n",
              "4830    16.00  2179.0  140.00    7.0         NaN   5.75       Mahindra  \n",
              "4848    12.99  2494.0  100.60    7.0         NaN  10.90         Toyota  \n",
              "4869    15.30  2993.0  258.00    5.0         NaN  45.00            BMW  \n",
              "4917    16.60  1998.0  112.00    5.0         NaN  23.00           Mini  \n",
              "4935    25.47  1248.0   88.50    7.0  12.74 Lakh   8.50         Maruti  \n",
              "4982    14.00   796.0   35.00    5.0         NaN   2.90         Maruti  \n",
              "4991    23.65  1248.0   88.50    5.0         NaN   8.25         Maruti  \n",
              "5072    22.10  1396.0   88.70    5.0  11.81 Lakh  10.50        Hyundai  \n",
              "5155    12.70  2179.0  187.70    5.0         NaN  27.00           Land  \n",
              "5257    21.10  1197.0   85.80    5.0         NaN   5.81         Maruti  \n",
              "5281    19.40  1198.0   86.80    5.0         NaN   2.39          Honda  \n",
              "5323    23.08  1461.0   63.10    5.0         NaN   4.25         Nissan  \n",
              "5496    28.40  1248.0   74.00    5.0         NaN   5.99         Maruti  \n",
              "5731    21.90   624.0   37.48    4.0         NaN   3.23           Tata  \n",
              "5933     7.81  5461.0  362.90    5.0         NaN  30.00  Mercedes-Benz  \n",
              "6146      NaN  1197.0   78.90    5.0   6.41 Lakh   3.90         Toyota  \n",
              "6194    16.50  1198.0   86.80    5.0         NaN   6.46          Honda  \n",
              "6214    18.50  1197.0   82.85    5.0         NaN   4.65        Hyundai  "
            ],
            "text/html": [
              "\n",
              "  <div id=\"df-0c0537d7-1586-48b7-a6d9-d412e4ed7f37\" class=\"colab-df-container\">\n",
              "    <div>\n",
              "<style scoped>\n",
              "    .dataframe tbody tr th:only-of-type {\n",
              "        vertical-align: middle;\n",
              "    }\n",
              "\n",
              "    .dataframe tbody tr th {\n",
              "        vertical-align: top;\n",
              "    }\n",
              "\n",
              "    .dataframe thead th {\n",
              "        text-align: right;\n",
              "    }\n",
              "</style>\n",
              "<table border=\"1\" class=\"dataframe\">\n",
              "  <thead>\n",
              "    <tr style=\"text-align: right;\">\n",
              "      <th></th>\n",
              "      <th>Location</th>\n",
              "      <th>Year</th>\n",
              "      <th>Kilometers_Driven</th>\n",
              "      <th>Fuel_Type</th>\n",
              "      <th>Transmission</th>\n",
              "      <th>Owner_Type</th>\n",
              "      <th>Mileage</th>\n",
              "      <th>Engine</th>\n",
              "      <th>Power</th>\n",
              "      <th>Seats</th>\n",
              "      <th>New_Price</th>\n",
              "      <th>Price</th>\n",
              "      <th>Brand</th>\n",
              "    </tr>\n",
              "  </thead>\n",
              "  <tbody>\n",
              "    <tr>\n",
              "      <th>748</th>\n",
              "      <td>Delhi</td>\n",
              "      <td>2012</td>\n",
              "      <td>NaN</td>\n",
              "      <td>Petrol</td>\n",
              "      <td>Manual</td>\n",
              "      <td>First</td>\n",
              "      <td>13.50</td>\n",
              "      <td>1799.0</td>\n",
              "      <td>130.00</td>\n",
              "      <td>5.0</td>\n",
              "      <td>NaN</td>\n",
              "      <td>3.95</td>\n",
              "      <td>Honda</td>\n",
              "    </tr>\n",
              "    <tr>\n",
              "      <th>1056</th>\n",
              "      <td>Kochi</td>\n",
              "      <td>2019</td>\n",
              "      <td>14322.0</td>\n",
              "      <td>Petrol</td>\n",
              "      <td>Manual</td>\n",
              "      <td>First</td>\n",
              "      <td>21.10</td>\n",
              "      <td>814.0</td>\n",
              "      <td>55.20</td>\n",
              "      <td>5.0</td>\n",
              "      <td>NaN</td>\n",
              "      <td>4.23</td>\n",
              "      <td>Hyundai</td>\n",
              "    </tr>\n",
              "    <tr>\n",
              "      <th>1102</th>\n",
              "      <td>Chennai</td>\n",
              "      <td>2016</td>\n",
              "      <td>178000.0</td>\n",
              "      <td>Diesel</td>\n",
              "      <td>Manual</td>\n",
              "      <td>First</td>\n",
              "      <td>25.00</td>\n",
              "      <td>1396.0</td>\n",
              "      <td>69.00</td>\n",
              "      <td>5.0</td>\n",
              "      <td>NaN</td>\n",
              "      <td>2.50</td>\n",
              "      <td>Tata</td>\n",
              "    </tr>\n",
              "    <tr>\n",
              "      <th>1523</th>\n",
              "      <td>Hyderabad</td>\n",
              "      <td>2012</td>\n",
              "      <td>70337.0</td>\n",
              "      <td>Diesel</td>\n",
              "      <td>Manual</td>\n",
              "      <td>First</td>\n",
              "      <td>20.00</td>\n",
              "      <td>1399.0</td>\n",
              "      <td>68.00</td>\n",
              "      <td>5.0</td>\n",
              "      <td>NaN</td>\n",
              "      <td>2.80</td>\n",
              "      <td>Ford</td>\n",
              "    </tr>\n",
              "    <tr>\n",
              "      <th>1587</th>\n",
              "      <td>Mumbai</td>\n",
              "      <td>2012</td>\n",
              "      <td>51920.0</td>\n",
              "      <td>Petrol</td>\n",
              "      <td>Manual</td>\n",
              "      <td>First</td>\n",
              "      <td>NaN</td>\n",
              "      <td>1497.0</td>\n",
              "      <td>116.30</td>\n",
              "      <td>5.0</td>\n",
              "      <td>NaN</td>\n",
              "      <td>4.25</td>\n",
              "      <td>Honda</td>\n",
              "    </tr>\n",
              "    <tr>\n",
              "      <th>1601</th>\n",
              "      <td>Ahmedabad</td>\n",
              "      <td>2010</td>\n",
              "      <td>70002.0</td>\n",
              "      <td>Diesel</td>\n",
              "      <td>Manual</td>\n",
              "      <td>First</td>\n",
              "      <td>NaN</td>\n",
              "      <td>1493.0</td>\n",
              "      <td>110.00</td>\n",
              "      <td>5.0</td>\n",
              "      <td>NaN</td>\n",
              "      <td>3.45</td>\n",
              "      <td>Hyundai</td>\n",
              "    </tr>\n",
              "    <tr>\n",
              "      <th>1682</th>\n",
              "      <td>Delhi</td>\n",
              "      <td>2013</td>\n",
              "      <td>NaN</td>\n",
              "      <td>Diesel</td>\n",
              "      <td>Automatic</td>\n",
              "      <td>First</td>\n",
              "      <td>12.55</td>\n",
              "      <td>2982.0</td>\n",
              "      <td>168.50</td>\n",
              "      <td>7.0</td>\n",
              "      <td>NaN</td>\n",
              "      <td>16.50</td>\n",
              "      <td>Toyota</td>\n",
              "    </tr>\n",
              "    <tr>\n",
              "      <th>1696</th>\n",
              "      <td>Kolkata</td>\n",
              "      <td>2009</td>\n",
              "      <td>NaN</td>\n",
              "      <td>Diesel</td>\n",
              "      <td>Automatic</td>\n",
              "      <td>First</td>\n",
              "      <td>NaN</td>\n",
              "      <td>1968.0</td>\n",
              "      <td>147.51</td>\n",
              "      <td>5.0</td>\n",
              "      <td>NaN</td>\n",
              "      <td>9.95</td>\n",
              "      <td>Audi</td>\n",
              "    </tr>\n",
              "    <tr>\n",
              "      <th>1859</th>\n",
              "      <td>Kolkata</td>\n",
              "      <td>2014</td>\n",
              "      <td>53000.0</td>\n",
              "      <td>Diesel</td>\n",
              "      <td>Manual</td>\n",
              "      <td>First</td>\n",
              "      <td>17.80</td>\n",
              "      <td>1248.0</td>\n",
              "      <td>75.00</td>\n",
              "      <td>5.0</td>\n",
              "      <td>NaN</td>\n",
              "      <td>3.30</td>\n",
              "      <td>Maruti</td>\n",
              "    </tr>\n",
              "    <tr>\n",
              "      <th>2001</th>\n",
              "      <td>Chennai</td>\n",
              "      <td>2015</td>\n",
              "      <td>54000.0</td>\n",
              "      <td>Petrol</td>\n",
              "      <td>Manual</td>\n",
              "      <td>Third</td>\n",
              "      <td>18.90</td>\n",
              "      <td>1197.0</td>\n",
              "      <td>82.00</td>\n",
              "      <td>5.0</td>\n",
              "      <td>NaN</td>\n",
              "      <td>3.60</td>\n",
              "      <td>Hyundai</td>\n",
              "    </tr>\n",
              "    <tr>\n",
              "      <th>2070</th>\n",
              "      <td>Jaipur</td>\n",
              "      <td>2010</td>\n",
              "      <td>66123.0</td>\n",
              "      <td>Diesel</td>\n",
              "      <td>Manual</td>\n",
              "      <td>Second</td>\n",
              "      <td>20.00</td>\n",
              "      <td>1399.0</td>\n",
              "      <td>68.00</td>\n",
              "      <td>5.0</td>\n",
              "      <td>NaN</td>\n",
              "      <td>2.10</td>\n",
              "      <td>Ford</td>\n",
              "    </tr>\n",
              "    <tr>\n",
              "      <th>2188</th>\n",
              "      <td>Coimbatore</td>\n",
              "      <td>2019</td>\n",
              "      <td>15369.0</td>\n",
              "      <td>Diesel</td>\n",
              "      <td>Automatic</td>\n",
              "      <td>First</td>\n",
              "      <td>0.00</td>\n",
              "      <td>1950.0</td>\n",
              "      <td>194.00</td>\n",
              "      <td>5.0</td>\n",
              "      <td>49.14 Lakh</td>\n",
              "      <td>35.67</td>\n",
              "      <td>Mercedes-Benz</td>\n",
              "    </tr>\n",
              "    <tr>\n",
              "      <th>2240</th>\n",
              "      <td>Kolkata</td>\n",
              "      <td>2010</td>\n",
              "      <td>45807.0</td>\n",
              "      <td>Petrol</td>\n",
              "      <td>Manual</td>\n",
              "      <td>First</td>\n",
              "      <td>18.50</td>\n",
              "      <td>1197.0</td>\n",
              "      <td>80.00</td>\n",
              "      <td>5.0</td>\n",
              "      <td>NaN</td>\n",
              "      <td>1.87</td>\n",
              "      <td>Hyundai</td>\n",
              "    </tr>\n",
              "    <tr>\n",
              "      <th>2435</th>\n",
              "      <td>Hyderabad</td>\n",
              "      <td>2007</td>\n",
              "      <td>NaN</td>\n",
              "      <td>Petrol</td>\n",
              "      <td>Automatic</td>\n",
              "      <td>First</td>\n",
              "      <td>17.00</td>\n",
              "      <td>1086.0</td>\n",
              "      <td>NaN</td>\n",
              "      <td>5.0</td>\n",
              "      <td>NaN</td>\n",
              "      <td>2.40</td>\n",
              "      <td>Hyundai</td>\n",
              "    </tr>\n",
              "    <tr>\n",
              "      <th>2531</th>\n",
              "      <td>Chennai</td>\n",
              "      <td>2012</td>\n",
              "      <td>NaN</td>\n",
              "      <td>Diesel</td>\n",
              "      <td>Manual</td>\n",
              "      <td>First</td>\n",
              "      <td>22.90</td>\n",
              "      <td>1248.0</td>\n",
              "      <td>74.00</td>\n",
              "      <td>5.0</td>\n",
              "      <td>NaN</td>\n",
              "      <td>4.80</td>\n",
              "      <td>Maruti</td>\n",
              "    </tr>\n",
              "    <tr>\n",
              "      <th>2648</th>\n",
              "      <td>Kolkata</td>\n",
              "      <td>2015</td>\n",
              "      <td>30000.0</td>\n",
              "      <td>Diesel</td>\n",
              "      <td>Manual</td>\n",
              "      <td>First</td>\n",
              "      <td>25.80</td>\n",
              "      <td>1498.0</td>\n",
              "      <td>98.60</td>\n",
              "      <td>5.0</td>\n",
              "      <td>NaN</td>\n",
              "      <td>3.50</td>\n",
              "      <td>Honda</td>\n",
              "    </tr>\n",
              "    <tr>\n",
              "      <th>2826</th>\n",
              "      <td>Kochi</td>\n",
              "      <td>2016</td>\n",
              "      <td>61012.0</td>\n",
              "      <td>NaN</td>\n",
              "      <td>Manual</td>\n",
              "      <td>First</td>\n",
              "      <td>NaN</td>\n",
              "      <td>1197.0</td>\n",
              "      <td>81.83</td>\n",
              "      <td>5.0</td>\n",
              "      <td>NaN</td>\n",
              "      <td>6.00</td>\n",
              "      <td>Hyundai</td>\n",
              "    </tr>\n",
              "    <tr>\n",
              "      <th>3090</th>\n",
              "      <td>Delhi</td>\n",
              "      <td>2014</td>\n",
              "      <td>52000.0</td>\n",
              "      <td>Diesel</td>\n",
              "      <td>Manual</td>\n",
              "      <td>First</td>\n",
              "      <td>22.90</td>\n",
              "      <td>1248.0</td>\n",
              "      <td>74.00</td>\n",
              "      <td>5.0</td>\n",
              "      <td>NaN</td>\n",
              "      <td>4.25</td>\n",
              "      <td>Maruti</td>\n",
              "    </tr>\n",
              "    <tr>\n",
              "      <th>3325</th>\n",
              "      <td>Mumbai</td>\n",
              "      <td>2008</td>\n",
              "      <td>NaN</td>\n",
              "      <td>Petrol</td>\n",
              "      <td>Automatic</td>\n",
              "      <td>First</td>\n",
              "      <td>NaN</td>\n",
              "      <td>4806.0</td>\n",
              "      <td>500.00</td>\n",
              "      <td>5.0</td>\n",
              "      <td>NaN</td>\n",
              "      <td>14.50</td>\n",
              "      <td>Porsche</td>\n",
              "    </tr>\n",
              "    <tr>\n",
              "      <th>3656</th>\n",
              "      <td>Hyderabad</td>\n",
              "      <td>2015</td>\n",
              "      <td>NaN</td>\n",
              "      <td>Diesel</td>\n",
              "      <td>Manual</td>\n",
              "      <td>First</td>\n",
              "      <td>NaN</td>\n",
              "      <td>1498.0</td>\n",
              "      <td>88.80</td>\n",
              "      <td>5.0</td>\n",
              "      <td>NaN</td>\n",
              "      <td>5.80</td>\n",
              "      <td>Volkswagen</td>\n",
              "    </tr>\n",
              "    <tr>\n",
              "      <th>3708</th>\n",
              "      <td>Mumbai</td>\n",
              "      <td>2015</td>\n",
              "      <td>55729.0</td>\n",
              "      <td>Diesel</td>\n",
              "      <td>Manual</td>\n",
              "      <td>First</td>\n",
              "      <td>15.10</td>\n",
              "      <td>2179.0</td>\n",
              "      <td>140.00</td>\n",
              "      <td>7.0</td>\n",
              "      <td>NaN</td>\n",
              "      <td>9.65</td>\n",
              "      <td>Mahindra</td>\n",
              "    </tr>\n",
              "    <tr>\n",
              "      <th>3785</th>\n",
              "      <td>Hyderabad</td>\n",
              "      <td>2010</td>\n",
              "      <td>NaN</td>\n",
              "      <td>Diesel</td>\n",
              "      <td>Automatic</td>\n",
              "      <td>First</td>\n",
              "      <td>13.29</td>\n",
              "      <td>1995.0</td>\n",
              "      <td>147.60</td>\n",
              "      <td>5.0</td>\n",
              "      <td>NaN</td>\n",
              "      <td>7.75</td>\n",
              "      <td>Nissan</td>\n",
              "    </tr>\n",
              "    <tr>\n",
              "      <th>3956</th>\n",
              "      <td>Delhi</td>\n",
              "      <td>2013</td>\n",
              "      <td>60000.0</td>\n",
              "      <td>Petrol</td>\n",
              "      <td>Manual</td>\n",
              "      <td>First</td>\n",
              "      <td>20.36</td>\n",
              "      <td>1197.0</td>\n",
              "      <td>78.90</td>\n",
              "      <td>5.0</td>\n",
              "      <td>NaN</td>\n",
              "      <td>2.75</td>\n",
              "      <td>Hyundai</td>\n",
              "    </tr>\n",
              "    <tr>\n",
              "      <th>4191</th>\n",
              "      <td>Mumbai</td>\n",
              "      <td>2017</td>\n",
              "      <td>NaN</td>\n",
              "      <td>Diesel</td>\n",
              "      <td>Automatic</td>\n",
              "      <td>First</td>\n",
              "      <td>11.36</td>\n",
              "      <td>2755.0</td>\n",
              "      <td>171.50</td>\n",
              "      <td>7.0</td>\n",
              "      <td>27 Lakh</td>\n",
              "      <td>19.25</td>\n",
              "      <td>Toyota</td>\n",
              "    </tr>\n",
              "    <tr>\n",
              "      <th>4194</th>\n",
              "      <td>Mumbai</td>\n",
              "      <td>2015</td>\n",
              "      <td>NaN</td>\n",
              "      <td>Petrol</td>\n",
              "      <td>Manual</td>\n",
              "      <td>First</td>\n",
              "      <td>20.73</td>\n",
              "      <td>1373.0</td>\n",
              "      <td>91.10</td>\n",
              "      <td>5.0</td>\n",
              "      <td>NaN</td>\n",
              "      <td>5.95</td>\n",
              "      <td>Maruti</td>\n",
              "    </tr>\n",
              "    <tr>\n",
              "      <th>4249</th>\n",
              "      <td>Hyderabad</td>\n",
              "      <td>2012</td>\n",
              "      <td>63000.0</td>\n",
              "      <td>Diesel</td>\n",
              "      <td>Manual</td>\n",
              "      <td>First</td>\n",
              "      <td>22.07</td>\n",
              "      <td>1199.0</td>\n",
              "      <td>73.90</td>\n",
              "      <td>5.0</td>\n",
              "      <td>NaN</td>\n",
              "      <td>4.20</td>\n",
              "      <td>Volkswagen</td>\n",
              "    </tr>\n",
              "    <tr>\n",
              "      <th>4361</th>\n",
              "      <td>Mumbai</td>\n",
              "      <td>2009</td>\n",
              "      <td>128000.0</td>\n",
              "      <td>Petrol</td>\n",
              "      <td>Automatic</td>\n",
              "      <td>First</td>\n",
              "      <td>10.80</td>\n",
              "      <td>2497.0</td>\n",
              "      <td>215.00</td>\n",
              "      <td>5.0</td>\n",
              "      <td>NaN</td>\n",
              "      <td>7.00</td>\n",
              "      <td>BMW</td>\n",
              "    </tr>\n",
              "    <tr>\n",
              "      <th>4603</th>\n",
              "      <td>Mumbai</td>\n",
              "      <td>2013</td>\n",
              "      <td>21000.0</td>\n",
              "      <td>Petrol</td>\n",
              "      <td>Automatic</td>\n",
              "      <td>Second</td>\n",
              "      <td>14.40</td>\n",
              "      <td>1598.0</td>\n",
              "      <td>103.60</td>\n",
              "      <td>5.0</td>\n",
              "      <td>NaN</td>\n",
              "      <td>4.45</td>\n",
              "      <td>Volkswagen</td>\n",
              "    </tr>\n",
              "    <tr>\n",
              "      <th>4671</th>\n",
              "      <td>Jaipur</td>\n",
              "      <td>2012</td>\n",
              "      <td>75800.0</td>\n",
              "      <td>Diesel</td>\n",
              "      <td>Manual</td>\n",
              "      <td>Second</td>\n",
              "      <td>NaN</td>\n",
              "      <td>2498.0</td>\n",
              "      <td>105.00</td>\n",
              "      <td>6.0</td>\n",
              "      <td>NaN</td>\n",
              "      <td>5.50</td>\n",
              "      <td>Mahindra</td>\n",
              "    </tr>\n",
              "    <tr>\n",
              "      <th>4830</th>\n",
              "      <td>Delhi</td>\n",
              "      <td>2012</td>\n",
              "      <td>65000.0</td>\n",
              "      <td>Diesel</td>\n",
              "      <td>Manual</td>\n",
              "      <td>Second</td>\n",
              "      <td>16.00</td>\n",
              "      <td>2179.0</td>\n",
              "      <td>140.00</td>\n",
              "      <td>7.0</td>\n",
              "      <td>NaN</td>\n",
              "      <td>5.75</td>\n",
              "      <td>Mahindra</td>\n",
              "    </tr>\n",
              "    <tr>\n",
              "      <th>4848</th>\n",
              "      <td>Ahmedabad</td>\n",
              "      <td>2016</td>\n",
              "      <td>90000.0</td>\n",
              "      <td>Diesel</td>\n",
              "      <td>Manual</td>\n",
              "      <td>First</td>\n",
              "      <td>12.99</td>\n",
              "      <td>2494.0</td>\n",
              "      <td>100.60</td>\n",
              "      <td>7.0</td>\n",
              "      <td>NaN</td>\n",
              "      <td>10.90</td>\n",
              "      <td>Toyota</td>\n",
              "    </tr>\n",
              "    <tr>\n",
              "      <th>4869</th>\n",
              "      <td>Mumbai</td>\n",
              "      <td>2015</td>\n",
              "      <td>41000.0</td>\n",
              "      <td>Diesel</td>\n",
              "      <td>Automatic</td>\n",
              "      <td>First</td>\n",
              "      <td>15.30</td>\n",
              "      <td>2993.0</td>\n",
              "      <td>258.00</td>\n",
              "      <td>5.0</td>\n",
              "      <td>NaN</td>\n",
              "      <td>45.00</td>\n",
              "      <td>BMW</td>\n",
              "    </tr>\n",
              "    <tr>\n",
              "      <th>4917</th>\n",
              "      <td>Jaipur</td>\n",
              "      <td>2017</td>\n",
              "      <td>NaN</td>\n",
              "      <td>Diesel</td>\n",
              "      <td>Automatic</td>\n",
              "      <td>Second</td>\n",
              "      <td>16.60</td>\n",
              "      <td>1998.0</td>\n",
              "      <td>112.00</td>\n",
              "      <td>5.0</td>\n",
              "      <td>NaN</td>\n",
              "      <td>23.00</td>\n",
              "      <td>Mini</td>\n",
              "    </tr>\n",
              "    <tr>\n",
              "      <th>4935</th>\n",
              "      <td>Mumbai</td>\n",
              "      <td>2016</td>\n",
              "      <td>33000.0</td>\n",
              "      <td>Diesel</td>\n",
              "      <td>Manual</td>\n",
              "      <td>First</td>\n",
              "      <td>25.47</td>\n",
              "      <td>1248.0</td>\n",
              "      <td>88.50</td>\n",
              "      <td>7.0</td>\n",
              "      <td>12.74 Lakh</td>\n",
              "      <td>8.50</td>\n",
              "      <td>Maruti</td>\n",
              "    </tr>\n",
              "    <tr>\n",
              "      <th>4982</th>\n",
              "      <td>Hyderabad</td>\n",
              "      <td>2017</td>\n",
              "      <td>NaN</td>\n",
              "      <td>Petrol</td>\n",
              "      <td>Manual</td>\n",
              "      <td>First</td>\n",
              "      <td>14.00</td>\n",
              "      <td>796.0</td>\n",
              "      <td>35.00</td>\n",
              "      <td>5.0</td>\n",
              "      <td>NaN</td>\n",
              "      <td>2.90</td>\n",
              "      <td>Maruti</td>\n",
              "    </tr>\n",
              "    <tr>\n",
              "      <th>4991</th>\n",
              "      <td>Bangalore</td>\n",
              "      <td>2015</td>\n",
              "      <td>55392.0</td>\n",
              "      <td>Diesel</td>\n",
              "      <td>Manual</td>\n",
              "      <td>Second</td>\n",
              "      <td>23.65</td>\n",
              "      <td>1248.0</td>\n",
              "      <td>88.50</td>\n",
              "      <td>5.0</td>\n",
              "      <td>NaN</td>\n",
              "      <td>8.25</td>\n",
              "      <td>Maruti</td>\n",
              "    </tr>\n",
              "    <tr>\n",
              "      <th>5072</th>\n",
              "      <td>Mumbai</td>\n",
              "      <td>2018</td>\n",
              "      <td>13000.0</td>\n",
              "      <td>Diesel</td>\n",
              "      <td>Manual</td>\n",
              "      <td>First</td>\n",
              "      <td>22.10</td>\n",
              "      <td>1396.0</td>\n",
              "      <td>88.70</td>\n",
              "      <td>5.0</td>\n",
              "      <td>11.81 Lakh</td>\n",
              "      <td>10.50</td>\n",
              "      <td>Hyundai</td>\n",
              "    </tr>\n",
              "    <tr>\n",
              "      <th>5155</th>\n",
              "      <td>Delhi</td>\n",
              "      <td>2014</td>\n",
              "      <td>72000.0</td>\n",
              "      <td>Diesel</td>\n",
              "      <td>Automatic</td>\n",
              "      <td>First</td>\n",
              "      <td>12.70</td>\n",
              "      <td>2179.0</td>\n",
              "      <td>187.70</td>\n",
              "      <td>5.0</td>\n",
              "      <td>NaN</td>\n",
              "      <td>27.00</td>\n",
              "      <td>Land</td>\n",
              "    </tr>\n",
              "    <tr>\n",
              "      <th>5257</th>\n",
              "      <td>Coimbatore</td>\n",
              "      <td>2016</td>\n",
              "      <td>30232.0</td>\n",
              "      <td>NaN</td>\n",
              "      <td>Manual</td>\n",
              "      <td>First</td>\n",
              "      <td>21.10</td>\n",
              "      <td>1197.0</td>\n",
              "      <td>85.80</td>\n",
              "      <td>5.0</td>\n",
              "      <td>NaN</td>\n",
              "      <td>5.81</td>\n",
              "      <td>Maruti</td>\n",
              "    </tr>\n",
              "    <tr>\n",
              "      <th>5281</th>\n",
              "      <td>Kolkata</td>\n",
              "      <td>2013</td>\n",
              "      <td>33280.0</td>\n",
              "      <td>Petrol</td>\n",
              "      <td>Manual</td>\n",
              "      <td>First</td>\n",
              "      <td>19.40</td>\n",
              "      <td>1198.0</td>\n",
              "      <td>86.80</td>\n",
              "      <td>5.0</td>\n",
              "      <td>NaN</td>\n",
              "      <td>2.39</td>\n",
              "      <td>Honda</td>\n",
              "    </tr>\n",
              "    <tr>\n",
              "      <th>5323</th>\n",
              "      <td>Hyderabad</td>\n",
              "      <td>2012</td>\n",
              "      <td>NaN</td>\n",
              "      <td>Diesel</td>\n",
              "      <td>Manual</td>\n",
              "      <td>First</td>\n",
              "      <td>23.08</td>\n",
              "      <td>1461.0</td>\n",
              "      <td>63.10</td>\n",
              "      <td>5.0</td>\n",
              "      <td>NaN</td>\n",
              "      <td>4.25</td>\n",
              "      <td>Nissan</td>\n",
              "    </tr>\n",
              "    <tr>\n",
              "      <th>5496</th>\n",
              "      <td>Jaipur</td>\n",
              "      <td>2017</td>\n",
              "      <td>25000.0</td>\n",
              "      <td>Diesel</td>\n",
              "      <td>Manual</td>\n",
              "      <td>First</td>\n",
              "      <td>28.40</td>\n",
              "      <td>1248.0</td>\n",
              "      <td>74.00</td>\n",
              "      <td>5.0</td>\n",
              "      <td>NaN</td>\n",
              "      <td>5.99</td>\n",
              "      <td>Maruti</td>\n",
              "    </tr>\n",
              "    <tr>\n",
              "      <th>5731</th>\n",
              "      <td>Coimbatore</td>\n",
              "      <td>2017</td>\n",
              "      <td>32684.0</td>\n",
              "      <td>Petrol</td>\n",
              "      <td>Automatic</td>\n",
              "      <td>First</td>\n",
              "      <td>21.90</td>\n",
              "      <td>624.0</td>\n",
              "      <td>37.48</td>\n",
              "      <td>4.0</td>\n",
              "      <td>NaN</td>\n",
              "      <td>3.23</td>\n",
              "      <td>Tata</td>\n",
              "    </tr>\n",
              "    <tr>\n",
              "      <th>5933</th>\n",
              "      <td>Kolkata</td>\n",
              "      <td>2010</td>\n",
              "      <td>35277.0</td>\n",
              "      <td>Petrol</td>\n",
              "      <td>Automatic</td>\n",
              "      <td>First</td>\n",
              "      <td>7.81</td>\n",
              "      <td>5461.0</td>\n",
              "      <td>362.90</td>\n",
              "      <td>5.0</td>\n",
              "      <td>NaN</td>\n",
              "      <td>30.00</td>\n",
              "      <td>Mercedes-Benz</td>\n",
              "    </tr>\n",
              "    <tr>\n",
              "      <th>6146</th>\n",
              "      <td>Ahmedabad</td>\n",
              "      <td>2014</td>\n",
              "      <td>53000.0</td>\n",
              "      <td>Petrol</td>\n",
              "      <td>Manual</td>\n",
              "      <td>First</td>\n",
              "      <td>NaN</td>\n",
              "      <td>1197.0</td>\n",
              "      <td>78.90</td>\n",
              "      <td>5.0</td>\n",
              "      <td>6.41 Lakh</td>\n",
              "      <td>3.90</td>\n",
              "      <td>Toyota</td>\n",
              "    </tr>\n",
              "    <tr>\n",
              "      <th>6194</th>\n",
              "      <td>Coimbatore</td>\n",
              "      <td>2016</td>\n",
              "      <td>37300.0</td>\n",
              "      <td>Petrol</td>\n",
              "      <td>Automatic</td>\n",
              "      <td>Second</td>\n",
              "      <td>16.50</td>\n",
              "      <td>1198.0</td>\n",
              "      <td>86.80</td>\n",
              "      <td>5.0</td>\n",
              "      <td>NaN</td>\n",
              "      <td>6.46</td>\n",
              "      <td>Honda</td>\n",
              "    </tr>\n",
              "    <tr>\n",
              "      <th>6214</th>\n",
              "      <td>Mumbai</td>\n",
              "      <td>2014</td>\n",
              "      <td>30180.0</td>\n",
              "      <td>Petrol</td>\n",
              "      <td>Manual</td>\n",
              "      <td>First</td>\n",
              "      <td>18.50</td>\n",
              "      <td>1197.0</td>\n",
              "      <td>82.85</td>\n",
              "      <td>5.0</td>\n",
              "      <td>NaN</td>\n",
              "      <td>4.65</td>\n",
              "      <td>Hyundai</td>\n",
              "    </tr>\n",
              "  </tbody>\n",
              "</table>\n",
              "</div>\n",
              "    <div class=\"colab-df-buttons\">\n",
              "\n",
              "  <div class=\"colab-df-container\">\n",
              "    <button class=\"colab-df-convert\" onclick=\"convertToInteractive('df-0c0537d7-1586-48b7-a6d9-d412e4ed7f37')\"\n",
              "            title=\"Convert this dataframe to an interactive table.\"\n",
              "            style=\"display:none;\">\n",
              "\n",
              "  <svg xmlns=\"http://www.w3.org/2000/svg\" height=\"24px\" viewBox=\"0 -960 960 960\">\n",
              "    <path d=\"M120-120v-720h720v720H120Zm60-500h600v-160H180v160Zm220 220h160v-160H400v160Zm0 220h160v-160H400v160ZM180-400h160v-160H180v160Zm440 0h160v-160H620v160ZM180-180h160v-160H180v160Zm440 0h160v-160H620v160Z\"/>\n",
              "  </svg>\n",
              "    </button>\n",
              "\n",
              "  <style>\n",
              "    .colab-df-container {\n",
              "      display:flex;\n",
              "      gap: 12px;\n",
              "    }\n",
              "\n",
              "    .colab-df-convert {\n",
              "      background-color: #E8F0FE;\n",
              "      border: none;\n",
              "      border-radius: 50%;\n",
              "      cursor: pointer;\n",
              "      display: none;\n",
              "      fill: #1967D2;\n",
              "      height: 32px;\n",
              "      padding: 0 0 0 0;\n",
              "      width: 32px;\n",
              "    }\n",
              "\n",
              "    .colab-df-convert:hover {\n",
              "      background-color: #E2EBFA;\n",
              "      box-shadow: 0px 1px 2px rgba(60, 64, 67, 0.3), 0px 1px 3px 1px rgba(60, 64, 67, 0.15);\n",
              "      fill: #174EA6;\n",
              "    }\n",
              "\n",
              "    .colab-df-buttons div {\n",
              "      margin-bottom: 4px;\n",
              "    }\n",
              "\n",
              "    [theme=dark] .colab-df-convert {\n",
              "      background-color: #3B4455;\n",
              "      fill: #D2E3FC;\n",
              "    }\n",
              "\n",
              "    [theme=dark] .colab-df-convert:hover {\n",
              "      background-color: #434B5C;\n",
              "      box-shadow: 0px 1px 3px 1px rgba(0, 0, 0, 0.15);\n",
              "      filter: drop-shadow(0px 1px 2px rgba(0, 0, 0, 0.3));\n",
              "      fill: #FFFFFF;\n",
              "    }\n",
              "  </style>\n",
              "\n",
              "    <script>\n",
              "      const buttonEl =\n",
              "        document.querySelector('#df-0c0537d7-1586-48b7-a6d9-d412e4ed7f37 button.colab-df-convert');\n",
              "      buttonEl.style.display =\n",
              "        google.colab.kernel.accessAllowed ? 'block' : 'none';\n",
              "\n",
              "      async function convertToInteractive(key) {\n",
              "        const element = document.querySelector('#df-0c0537d7-1586-48b7-a6d9-d412e4ed7f37');\n",
              "        const dataTable =\n",
              "          await google.colab.kernel.invokeFunction('convertToInteractive',\n",
              "                                                    [key], {});\n",
              "        if (!dataTable) return;\n",
              "\n",
              "        const docLinkHtml = 'Like what you see? Visit the ' +\n",
              "          '<a target=\"_blank\" href=https://colab.research.google.com/notebooks/data_table.ipynb>data table notebook</a>'\n",
              "          + ' to learn more about interactive tables.';\n",
              "        element.innerHTML = '';\n",
              "        dataTable['output_type'] = 'display_data';\n",
              "        await google.colab.output.renderOutput(dataTable, element);\n",
              "        const docLink = document.createElement('div');\n",
              "        docLink.innerHTML = docLinkHtml;\n",
              "        element.appendChild(docLink);\n",
              "      }\n",
              "    </script>\n",
              "  </div>\n",
              "\n",
              "\n",
              "<div id=\"df-45d7ae32-2c51-4484-8777-1ffd46630089\">\n",
              "  <button class=\"colab-df-quickchart\" onclick=\"quickchart('df-45d7ae32-2c51-4484-8777-1ffd46630089')\"\n",
              "            title=\"Suggest charts\"\n",
              "            style=\"display:none;\">\n",
              "\n",
              "<svg xmlns=\"http://www.w3.org/2000/svg\" height=\"24px\"viewBox=\"0 0 24 24\"\n",
              "     width=\"24px\">\n",
              "    <g>\n",
              "        <path d=\"M19 3H5c-1.1 0-2 .9-2 2v14c0 1.1.9 2 2 2h14c1.1 0 2-.9 2-2V5c0-1.1-.9-2-2-2zM9 17H7v-7h2v7zm4 0h-2V7h2v10zm4 0h-2v-4h2v4z\"/>\n",
              "    </g>\n",
              "</svg>\n",
              "  </button>\n",
              "\n",
              "<style>\n",
              "  .colab-df-quickchart {\n",
              "      --bg-color: #E8F0FE;\n",
              "      --fill-color: #1967D2;\n",
              "      --hover-bg-color: #E2EBFA;\n",
              "      --hover-fill-color: #174EA6;\n",
              "      --disabled-fill-color: #AAA;\n",
              "      --disabled-bg-color: #DDD;\n",
              "  }\n",
              "\n",
              "  [theme=dark] .colab-df-quickchart {\n",
              "      --bg-color: #3B4455;\n",
              "      --fill-color: #D2E3FC;\n",
              "      --hover-bg-color: #434B5C;\n",
              "      --hover-fill-color: #FFFFFF;\n",
              "      --disabled-bg-color: #3B4455;\n",
              "      --disabled-fill-color: #666;\n",
              "  }\n",
              "\n",
              "  .colab-df-quickchart {\n",
              "    background-color: var(--bg-color);\n",
              "    border: none;\n",
              "    border-radius: 50%;\n",
              "    cursor: pointer;\n",
              "    display: none;\n",
              "    fill: var(--fill-color);\n",
              "    height: 32px;\n",
              "    padding: 0;\n",
              "    width: 32px;\n",
              "  }\n",
              "\n",
              "  .colab-df-quickchart:hover {\n",
              "    background-color: var(--hover-bg-color);\n",
              "    box-shadow: 0 1px 2px rgba(60, 64, 67, 0.3), 0 1px 3px 1px rgba(60, 64, 67, 0.15);\n",
              "    fill: var(--button-hover-fill-color);\n",
              "  }\n",
              "\n",
              "  .colab-df-quickchart-complete:disabled,\n",
              "  .colab-df-quickchart-complete:disabled:hover {\n",
              "    background-color: var(--disabled-bg-color);\n",
              "    fill: var(--disabled-fill-color);\n",
              "    box-shadow: none;\n",
              "  }\n",
              "\n",
              "  .colab-df-spinner {\n",
              "    border: 2px solid var(--fill-color);\n",
              "    border-color: transparent;\n",
              "    border-bottom-color: var(--fill-color);\n",
              "    animation:\n",
              "      spin 1s steps(1) infinite;\n",
              "  }\n",
              "\n",
              "  @keyframes spin {\n",
              "    0% {\n",
              "      border-color: transparent;\n",
              "      border-bottom-color: var(--fill-color);\n",
              "      border-left-color: var(--fill-color);\n",
              "    }\n",
              "    20% {\n",
              "      border-color: transparent;\n",
              "      border-left-color: var(--fill-color);\n",
              "      border-top-color: var(--fill-color);\n",
              "    }\n",
              "    30% {\n",
              "      border-color: transparent;\n",
              "      border-left-color: var(--fill-color);\n",
              "      border-top-color: var(--fill-color);\n",
              "      border-right-color: var(--fill-color);\n",
              "    }\n",
              "    40% {\n",
              "      border-color: transparent;\n",
              "      border-right-color: var(--fill-color);\n",
              "      border-top-color: var(--fill-color);\n",
              "    }\n",
              "    60% {\n",
              "      border-color: transparent;\n",
              "      border-right-color: var(--fill-color);\n",
              "    }\n",
              "    80% {\n",
              "      border-color: transparent;\n",
              "      border-right-color: var(--fill-color);\n",
              "      border-bottom-color: var(--fill-color);\n",
              "    }\n",
              "    90% {\n",
              "      border-color: transparent;\n",
              "      border-bottom-color: var(--fill-color);\n",
              "    }\n",
              "  }\n",
              "</style>\n",
              "\n",
              "  <script>\n",
              "    async function quickchart(key) {\n",
              "      const quickchartButtonEl =\n",
              "        document.querySelector('#' + key + ' button');\n",
              "      quickchartButtonEl.disabled = true;  // To prevent multiple clicks.\n",
              "      quickchartButtonEl.classList.add('colab-df-spinner');\n",
              "      try {\n",
              "        const charts = await google.colab.kernel.invokeFunction(\n",
              "            'suggestCharts', [key], {});\n",
              "      } catch (error) {\n",
              "        console.error('Error during call to suggestCharts:', error);\n",
              "      }\n",
              "      quickchartButtonEl.classList.remove('colab-df-spinner');\n",
              "      quickchartButtonEl.classList.add('colab-df-quickchart-complete');\n",
              "    }\n",
              "    (() => {\n",
              "      let quickchartButtonEl =\n",
              "        document.querySelector('#df-45d7ae32-2c51-4484-8777-1ffd46630089 button');\n",
              "      quickchartButtonEl.style.display =\n",
              "        google.colab.kernel.accessAllowed ? 'block' : 'none';\n",
              "    })();\n",
              "  </script>\n",
              "</div>\n",
              "    </div>\n",
              "  </div>\n"
            ],
            "application/vnd.google.colaboratory.intrinsic+json": {
              "type": "dataframe",
              "variable_name": "duplicate_rows",
              "summary": "{\n  \"name\": \"duplicate_rows\",\n  \"rows\": 47,\n  \"fields\": [\n    {\n      \"column\": \"Location\",\n      \"properties\": {\n        \"dtype\": \"category\",\n        \"num_unique_values\": 10,\n        \"samples\": [\n          \"Coimbatore\",\n          \"Kochi\",\n          \"Ahmedabad\"\n        ],\n        \"semantic_type\": \"\",\n        \"description\": \"\"\n      }\n    },\n    {\n      \"column\": \"Year\",\n      \"properties\": {\n        \"dtype\": \"number\",\n        \"std\": 2,\n        \"min\": 2007,\n        \"max\": 2019,\n        \"num_unique_values\": 12,\n        \"samples\": [\n          2017,\n          2008,\n          2012\n        ],\n        \"semantic_type\": \"\",\n        \"description\": \"\"\n      }\n    },\n    {\n      \"column\": \"Kilometers_Driven\",\n      \"properties\": {\n        \"dtype\": \"number\",\n        \"std\": 32323.451245617434,\n        \"min\": 13000.0,\n        \"max\": 178000.0,\n        \"num_unique_values\": 33,\n        \"samples\": [\n          37300.0,\n          63000.0,\n          30232.0\n        ],\n        \"semantic_type\": \"\",\n        \"description\": \"\"\n      }\n    },\n    {\n      \"column\": \"Fuel_Type\",\n      \"properties\": {\n        \"dtype\": \"category\",\n        \"num_unique_values\": 2,\n        \"samples\": [\n          \"Diesel\",\n          \"Petrol\"\n        ],\n        \"semantic_type\": \"\",\n        \"description\": \"\"\n      }\n    },\n    {\n      \"column\": \"Transmission\",\n      \"properties\": {\n        \"dtype\": \"category\",\n        \"num_unique_values\": 2,\n        \"samples\": [\n          \"Automatic\",\n          \"Manual\"\n        ],\n        \"semantic_type\": \"\",\n        \"description\": \"\"\n      }\n    },\n    {\n      \"column\": \"Owner_Type\",\n      \"properties\": {\n        \"dtype\": \"category\",\n        \"num_unique_values\": 3,\n        \"samples\": [\n          \"First\",\n          \"Third\"\n        ],\n        \"semantic_type\": \"\",\n        \"description\": \"\"\n      }\n    },\n    {\n      \"column\": \"Mileage\",\n      \"properties\": {\n        \"dtype\": \"number\",\n        \"std\": 5.559479679339898,\n        \"min\": 0.0,\n        \"max\": 28.4,\n        \"num_unique_values\": 35,\n        \"samples\": [\n          23.65,\n          13.29\n        ],\n        \"semantic_type\": \"\",\n        \"description\": \"\"\n      }\n    },\n    {\n      \"column\": \"Engine\",\n      \"properties\": {\n        \"dtype\": \"number\",\n        \"std\": 916.8764283309187,\n        \"min\": 624.0,\n        \"max\": 5461.0,\n        \"num_unique_values\": 30,\n        \"samples\": [\n          1461.0,\n          1995.0\n        ],\n        \"semantic_type\": \"\",\n        \"description\": \"\"\n      }\n    },\n    {\n      \"column\": \"Power\",\n      \"properties\": {\n        \"dtype\": \"number\",\n        \"std\": 82.70117012093588,\n        \"min\": 35.0,\n        \"max\": 500.0,\n        \"num_unique_values\": 39,\n        \"samples\": [\n          85.8,\n          37.48\n        ],\n        \"semantic_type\": \"\",\n        \"description\": \"\"\n      }\n    },\n    {\n      \"column\": \"Seats\",\n      \"properties\": {\n        \"dtype\": \"number\",\n        \"std\": 0.7061249152449548,\n        \"min\": 4.0,\n        \"max\": 7.0,\n        \"num_unique_values\": 4,\n        \"samples\": [\n          7.0,\n          4.0\n        ],\n        \"semantic_type\": \"\",\n        \"description\": \"\"\n      }\n    },\n    {\n      \"column\": \"New_Price\",\n      \"properties\": {\n        \"dtype\": \"category\",\n        \"num_unique_values\": 5,\n        \"samples\": [\n          \"27 Lakh\",\n          \"6.41 Lakh\"\n        ],\n        \"semantic_type\": \"\",\n        \"description\": \"\"\n      }\n    },\n    {\n      \"column\": \"Price\",\n      \"properties\": {\n        \"dtype\": \"number\",\n        \"std\": 9.287662606288604,\n        \"min\": 1.87,\n        \"max\": 45.0,\n        \"num_unique_values\": 45,\n        \"samples\": [\n          5.99,\n          7.0\n        ],\n        \"semantic_type\": \"\",\n        \"description\": \"\"\n      }\n    },\n    {\n      \"column\": \"Brand\",\n      \"properties\": {\n        \"dtype\": \"category\",\n        \"num_unique_values\": 15,\n        \"samples\": [\n          \"Volkswagen\",\n          \"Nissan\"\n        ],\n        \"semantic_type\": \"\",\n        \"description\": \"\"\n      }\n    }\n  ]\n}"
            }
          },
          "metadata": {},
          "execution_count": 32
        }
      ],
      "source": [
        "duplicate_rows = df_dropped[df_dropped.duplicated()]\n",
        "\n",
        "duplicate_rows"
      ]
    },
    {
      "cell_type": "markdown",
      "metadata": {
        "id": "VzsbTBnmhBQ3"
      },
      "source": [
        "### SOAL 1b:\n",
        "Berikan implementasi kode untuk melakukan penghapusan duplikat, simpan ke dalam variabel dataframe baru, dan tampilkan hasil bahwa duplikat telah di drop  <br> **Hint:** gunakan sintaks dari dokumentasi https://pandas.pydata.org/docs/reference/api/pandas.DataFrame.drop_duplicates.html."
      ]
    },
    {
      "cell_type": "code",
      "execution_count": null,
      "metadata": {
        "colab": {
          "base_uri": "https://localhost:8080/"
        },
        "id": "zQAhObsyhBQ3",
        "outputId": "78d51328-5130-4c45-cb02-71374d5db6d7"
      },
      "outputs": [
        {
          "output_type": "stream",
          "name": "stdout",
          "text": [
            "Jumlah duplikat setelah dihapus: 0\n"
          ]
        }
      ],
      "source": [
        "# Menghapus duplikat\n",
        "df_dropped = df_dropped.drop_duplicates()\n",
        "\n",
        "# Menampilkan hasil bahwa duplikat telah dihapus\n",
        "print(\"Jumlah duplikat setelah dihapus:\", df_dropped.duplicated().sum())"
      ]
    },
    {
      "cell_type": "markdown",
      "metadata": {
        "id": "LnGyuNuQhBQ3"
      },
      "source": [
        "### SOAL 1c:\n",
        "Jika ini adalah proyek analisis data pribadi Anda, apakah Anda akan melakukan drop duplicates? Jelaskan alasan Anda!"
      ]
    },
    {
      "cell_type": "markdown",
      "metadata": {
        "id": "UrHxGduAhBQ4"
      },
      "source": [
        "Iya akan saya lakukan drop duplicate untuk menyederhanakan dataset, membuatnya lebih mudah dipahami, dan menghindari bias yang mungkin muncul dalam analisis. Selain itu, jika duplikat tersebut mewakili kesalahan pengumpulan data atau tidak konsisten dengan sifat dataset, menghapusnya akan meningkatkan keandalan dan kebersihan data secara keseluruhan. Dengan demikian, untuk menjaga kualitas dan konsistensi data serta memfasilitasi analisis yang lebih akurat, saya akan memilih untuk menghapus duplikat dalam proyek analisis data pribadi saya.\n",
        "\n",
        "\n",
        "\n",
        "\n",
        "\n",
        "\n"
      ]
    },
    {
      "cell_type": "markdown",
      "metadata": {
        "id": "aoM9mhlhG-Tb"
      },
      "source": [
        "## Missing Values Handling"
      ]
    },
    {
      "cell_type": "markdown",
      "metadata": {
        "id": "P99vLkokhBQ4"
      },
      "source": [
        "Seringkali *raw data* yang diperoleh memiliki data yang *missing* atau hilang. Biasanya, nilai yang hilang akan berupa **entry yang kosong** atau berupa **object None** pada tabel. Kedua tipe ini dapat dideteksi secara mudah menggunakan method dari Pandas. <br> <br> Namun juga, terkadang data yang hilang telah disubsitutusi oleh nilai pengganti seperti 0 atau string \"null\" dan sebagainya tergantung sistem pengumpulan data yang dilakukan. Untuk itu, sekali lagi penting untuk mengetahui kondisi data."
      ]
    },
    {
      "cell_type": "markdown",
      "metadata": {
        "id": "ur7q3DQ2hBQ4"
      },
      "source": [
        "### SOAL 2a:\n",
        "Pada konteks dataset ini, *missing values* berupa nilai **kosong** atau NaN yang dapat dideteksi dengan mudah menggunakan method Pandas. Lengkapi implementasi kode berikut untuk menampilkan **jumlah** serta **persentase** *missing values* untuk setiap kolom secara **descending** (kolom dengan persentase null paling banyak berada di paling atas) setelah itu jalankan method ini pada dataframe! <br> **Note:** Pastikan Anda menggunakan DataFrame yang telah di drop nilai duplikatnya"
      ]
    },
    {
      "cell_type": "code",
      "execution_count": null,
      "metadata": {
        "id": "q2qx-w2jhBQ4"
      },
      "outputs": [],
      "source": [
        "# Lengkapi implementasi kode mengecek null:\n",
        "def cek_null(df):\n",
        "    col_na = XX ##\n",
        "    percent = XX ##\n",
        "\n",
        "    missing_data = pd.concat([XX, XX], axis=1, keys=['Total Missing', 'Missing Percentage'])\n",
        "    print(missing_data)"
      ]
    },
    {
      "cell_type": "code",
      "execution_count": null,
      "metadata": {
        "colab": {
          "base_uri": "https://localhost:8080/"
        },
        "id": "63RiuqRXhBQ4",
        "outputId": "41493004-bed2-47d7-8396-4c28486a3813"
      },
      "outputs": [
        {
          "output_type": "stream",
          "name": "stdout",
          "text": [
            "                   Total Missing  Missing Percentage\n",
            "New_Price                   5320           86.209690\n",
            "Kilometers_Driven           2163           35.051045\n",
            "Mileage                     1858           30.108572\n",
            "Fuel_Type                    744           12.056393\n",
            "Transmission                 435            7.049101\n",
            "Power                        148            2.398315\n",
            "Seats                         43            0.696808\n",
            "Engine                        37            0.599579\n",
            "Location                       0            0.000000\n",
            "Year                           0            0.000000\n",
            "Owner_Type                     0            0.000000\n",
            "Price                          0            0.000000\n",
            "Brand                          0            0.000000\n"
          ]
        }
      ],
      "source": [
        "import pandas as pd\n",
        "\n",
        "# Lengkapi implementasi kode mengecek null:\n",
        "def cek_null(df):\n",
        "    # Hitung total nilai kosong (NaN) untuk setiap kolom\n",
        "    col_na = df.isnull().sum()\n",
        "\n",
        "    # Hitung persentase nilai kosong untuk setiap kolom\n",
        "    percent = (df.isnull().sum() / len(df)) * 100\n",
        "\n",
        "    # Gabungkan hasil perhitungan menjadi satu DataFrame\n",
        "    missing_data = pd.concat([col_na, percent], axis=1, keys=['Total Missing', 'Missing Percentage'])\n",
        "\n",
        "    # Urutkan DataFrame berdasarkan persentase nilai kosong secara descending\n",
        "    missing_data = missing_data.sort_values(by='Missing Percentage', ascending=False)\n",
        "\n",
        "    # Tampilkan DataFrame hasil\n",
        "    print(missing_data)\n",
        "\n",
        "# Gunakan pada DataFrame yang telah di-drop nilai duplikatnya (df_no_duplicates)\n",
        "cek_null(df_dropped)\n"
      ]
    },
    {
      "cell_type": "markdown",
      "metadata": {
        "id": "2CebFnsNhBQ4"
      },
      "source": [
        "Data yang hilang tidak selalu terjadi karena hal yang sama. Terdapat tiga kategori utama untuk kondisi dari *missing values* yang dapat terjadi:\n",
        "\n",
        "- `Missing Completely At Random (MCAR):` Kondisi dimana kemungkinan data yang hilang **tidak tergantung** variabel maupun nilai observasi, sama sekali diluar pengaruh teknik pengambilan data atau sumber data. Salah satu contohnya adalah terjadi kerusakan/error secara sistematis yang menyebabkan data hilang secara acak atau penulis data lupa mengisi salah satu atribut secara acak.\n",
        "- `Missing At Random (MAR):` Kondisi dimana kemungkinan hilang **memiliki ketergantungan** dari suatu variabel ataupun nilai observasi secara acak. Salah satu contohnya adalah sistem tidak men-*track* suatu variabel secara akurat dan dapat terjadi kekosongan secara acak. Ini merupakan jenis *missing value* yang realistis pada sebagian besar kasus.\n",
        "- `Missing Not At Random (MNAR):` Kondisi dimana kemungkinan hilang terjadi untuk alasan yang **tidak diketahui**. Kemungkinan *missing value* untuk variabel yang sama saling berbeda sesuai akibat kondisi yang tidak mudah dijelaskan. Ini merupakan situasi yang paling kompleks dari yang lain."
      ]
    },
    {
      "cell_type": "markdown",
      "metadata": {
        "id": "vskcHgPqhBQ4"
      },
      "source": [
        "Berikut merupakan salah satu artikel yang sangat bagus untuk memahami metode penanganan *missing values* secara lengkapnya: https://www.datacamp.com/tutorial/techniques-to-handle-missing-data-values"
      ]
    },
    {
      "cell_type": "markdown",
      "metadata": {
        "id": "ZrfjJfWihBQ4"
      },
      "source": [
        "### Teknik menghandle *missing value*\n",
        "Berikut merupakan cara-cara terpopuler untuk menghandle *missing value*:\n",
        "- **Drop column:** Melakukan penghapusan variabel/kolom sehingga variabel tidak lagi digunakan untuk tahapan selanjutnya. Secara umum digunakan bila kolom memiliki proporsi baris *missing value* yang **terlalu banyak** atau tidak memiliki peran penting untuk kepentingan analisis ataupun modelling. Nalar dan pengetahuan umum dapat diterapkan jika kita hendak menghapus suatu kolom jika kita pikir bahwa kolom tersebut tidak terlalu berpengaruh pada tujuan dataset\n",
        "- **Drop rows:** Melakukan penghapusan pada observasi/baris yang memiliki *missing value*. Secara umum dapat digunakan ketika jumlah obervasi *missing value* pada suatu variabel **relatif kecil** dan tidak terlalu berpengaruh ke kondisi dataset secara keseluruhan.\n",
        "- **Imputation:** Melakukan pengisian pada *missing values.* Perlu diingat bahwa penerapan metode *imputation* harus memperhatikan asumsi dari kondisi hilangnya data (MCAR, MAR, MNAR) serta kondisi dari suatu variabel. Selebihnya pada bagian berikutnya.\n",
        "- Membiarkan data yang hilang. Hal ini dapat dilakukan jika kita berasumsi data dapat berguna untuk tahapan analisis selanjutnya meskipun dalam keadaan *missing* (null/NaN/None, etc)"
      ]
    },
    {
      "cell_type": "markdown",
      "metadata": {
        "id": "89Ui1tkThBQ5"
      },
      "source": [
        "Catatan tambahan terkait **drop column:** <br>\n",
        "Kolom/atribut dapat dianggap tidak penting berdasarkan pertimbangan, nalar, atau basic knowledge manusia. Sebagai contoh, apabila kita ingin mengukur survival rate penumpang Titanic, atribut nama pada dataset ini tidak mengindikasikan apakah dia survive apa tidak. Selain itu, ada beberapa atribut juga yang mungkin tidak akan mempengaruhi pengukuran tersebut. Sehingga atribut-atribut tersebut dapat didrop.\n",
        "\n",
        "\n",
        "Kolom/atribut perlu didrop apabila:\n",
        "\n",
        "*   Kolom tidak intuitif.\n",
        "*   Kolom mempunyai banyak missing values.\n",
        "*   Kolom tidak informatif.\n",
        "*   Kolom dapat membahayakan untuk model tertentu.\n",
        "*   Kolom tersebut dapat dihasilkan dari atribut yang lain."
      ]
    },
    {
      "cell_type": "markdown",
      "metadata": {
        "id": "bzdZx-bthBQ5"
      },
      "source": [
        "Penggunaan dropping column/rows memiliki **kelebihan** berupa:\n",
        "- 1. Implementasi yang mudah\n",
        "- 2. Tidak mengganggu dataset bila kolom atau baris yang dihapus tidak relevan terhadap analisis"
      ]
    },
    {
      "cell_type": "markdown",
      "metadata": {
        "id": "GXnPQ9bqhBQ5"
      },
      "source": [
        "Penggunaan dropping column/rows memiliki **kekurangan** berupa:\n",
        "- 1. Potensi terjadinya hilangnya informasi\n",
        "- 2. Bisa dihindari bila situasi data hilang karena acak (MCAR, MAR)\n",
        "- 3. Mengecilkan jumlah dataset apabila menghapus rows pada suatu kolom yang memiliki banyak *missing value* (secara umum jika menghapus lebih dari 50% baris)  "
      ]
    },
    {
      "cell_type": "markdown",
      "metadata": {
        "id": "2o4oETBHhBQ5"
      },
      "source": [
        "### Strategi Imputation\n",
        "- Pada situasi `Missing Completely at Random (MCAR)`, dapat menggunakan **mean, median, atau mode** imputation. Pada Lab kali ini, scope akan dibatasi pada metode imputasi ini saja. Yaitu mengisi data menggunakan atribut statistik dari suatu variabel tersebut. Selain itu, bisa juga menggunakan **random sampling** imputation yaitu menggunakan sampling dari distribusi variabel untuk mengisi suatu nilai secara acak.\n",
        "- Pada situasi `Missing at Random (MAR)`, dapat digunakan metode **multiple imputation** yaitu metode untuk melakukan pengisian nilai hilang yang mengambil pertimbangan nilai-nilai pada kolom lainnya. Implementasinya di Python dapat menggunakan library `miceforest`\n",
        "- Pada situasi `Missing not at Random (MNAR)`, dapat digunakan metode **Pattern Substitution atau Maximum Likelihood estimation** yaitu metode imputasi data secara menganalisis pola data."
      ]
    },
    {
      "cell_type": "markdown",
      "metadata": {
        "id": "vfl2vGj-hBQ5"
      },
      "source": [
        "### Implementasi mean, median, mode imputation\n",
        "Dalam menerapkan imputasi tipe ini, penting untuk mengetahui **distribusi** dan **tipe data** dari variabel yang hendak dilakukan imputasi.\n",
        "- Untuk tipe data numerik kontinu distribusi normal, dapat menggunakan **mean**\n",
        "- Untuk tipe data numerik kontinu distribusi yang skewed, dapat menggunakan **median**\n",
        "- Untuk tipe data kategorikal (string, binary, ordinal) dapat menggunakan **mode**\n",
        "- Untuk tipe data numerik diskret, dapat menggunakan **mode**"
      ]
    },
    {
      "cell_type": "markdown",
      "metadata": {
        "id": "4_GecxKuhBQ5"
      },
      "source": [
        "Contoh implementasi:"
      ]
    },
    {
      "cell_type": "code",
      "execution_count": null,
      "metadata": {
        "id": "FA4Q8E6thBQ5"
      },
      "outputs": [],
      "source": [
        "def fill_null_mean(df):\n",
        "    mean = df.mean()\n",
        "    filled_df = df.fillna(mean)\n",
        "    return filled_df\n",
        "def fill_null_median(df):\n",
        "    median = df.median()\n",
        "    filled_df = df.fillna(median)\n",
        "    return filled_df\n",
        "def fill_null_mode(df):\n",
        "    mode = df.mode()[0]\n",
        "    filled_df = df.fillna(mode)\n",
        "    return filled_df"
      ]
    },
    {
      "cell_type": "markdown",
      "metadata": {
        "id": "BRlXRIOUhBQ5"
      },
      "source": [
        "Jalankan kode berikut pada DataFrame tanpa duplikat Anda untuk menampilkan distribusi dari data untuk membantu pada soal selanjutnya"
      ]
    },
    {
      "cell_type": "code",
      "execution_count": null,
      "metadata": {
        "id": "_b1TMLg4hBQ5"
      },
      "outputs": [],
      "source": [
        "def show_data_type_and_distribution(df):\n",
        "    print(\"Menampilkan informasi dataset dan tipe data\")\n",
        "    print('#'*50)\n",
        "    df.info()\n",
        "    numerics = ['int16', 'int32', 'int64', 'float16', 'float32', 'float64']\n",
        "    print('#'*50)\n",
        "    print(\"Menampilkan distribusi data numerik\")\n",
        "    for col in df.select_dtypes(include=numerics):\n",
        "        plt.figure(figsize=(3,3))\n",
        "        sns.histplot(df[col])\n",
        "        plt.show()\n",
        "    print('#'*50)\n",
        "    print(\"Menampilkan distribusi data kategorikal\")\n",
        "    categoricals = [\"Fuel_Type\", \"Transmission\", \"Owner_Type\",\"Location\"]\n",
        "    for col in categoricals:\n",
        "        plt.figure(figsize=(4,3))\n",
        "        sns.countplot(y=df[col])\n",
        "        plt.show()"
      ]
    },
    {
      "cell_type": "code",
      "execution_count": null,
      "metadata": {
        "colab": {
          "base_uri": "https://localhost:8080/",
          "height": 1000
        },
        "id": "B_waCabThBQ6",
        "outputId": "f7e00f04-e333-4ad2-98d0-859ad9fb8729"
      },
      "outputs": [
        {
          "output_type": "stream",
          "name": "stdout",
          "text": [
            "Menampilkan informasi dataset dan tipe data\n",
            "##################################################\n",
            "<class 'pandas.core.frame.DataFrame'>\n",
            "Int64Index: 6171 entries, 0 to 6217\n",
            "Data columns (total 13 columns):\n",
            " #   Column             Non-Null Count  Dtype  \n",
            "---  ------             --------------  -----  \n",
            " 0   Location           6171 non-null   object \n",
            " 1   Year               6171 non-null   int64  \n",
            " 2   Kilometers_Driven  4008 non-null   float64\n",
            " 3   Fuel_Type          5427 non-null   object \n",
            " 4   Transmission       5736 non-null   object \n",
            " 5   Owner_Type         6171 non-null   object \n",
            " 6   Mileage            4313 non-null   float64\n",
            " 7   Engine             6134 non-null   float64\n",
            " 8   Power              6023 non-null   float64\n",
            " 9   Seats              6128 non-null   float64\n",
            " 10  New_Price          851 non-null    object \n",
            " 11  Price              6171 non-null   float64\n",
            " 12  Brand              6171 non-null   object \n",
            "dtypes: float64(6), int64(1), object(6)\n",
            "memory usage: 675.0+ KB\n",
            "##################################################\n",
            "Menampilkan distribusi data numerik\n"
          ]
        },
        {
          "output_type": "display_data",
          "data": {
            "text/plain": [
              "<Figure size 300x300 with 1 Axes>"
            ],
            "image/png": "[encoded data removed]"
          },
          "metadata": {}
        },
        {
          "output_type": "display_data",
          "data": {
            "text/plain": [
              "<Figure size 300x300 with 1 Axes>"
            ],
            "image/png": "[encoded data removed]"
          },
          "metadata": {}
        },
        {
          "output_type": "display_data",
          "data": {
            "text/plain": [
              "<Figure size 300x300 with 1 Axes>"
            ],
            "image/png": "[encoded data removed]"
          },
          "metadata": {}
        },
        {
          "output_type": "display_data",
          "data": {
            "text/plain": [
              "<Figure size 300x300 with 1 Axes>"
            ],
            "image/png": "[encoded data removed]"
          },
          "metadata": {}
        },
        {
          "output_type": "display_data",
          "data": {
            "text/plain": [
              "<Figure size 300x300 with 1 Axes>"
            ],
            "image/png": "[encoded data removed]"
          },
          "metadata": {}
        },
        {
          "output_type": "display_data",
          "data": {
            "text/plain": [
              "<Figure size 300x300 with 1 Axes>"
            ],
            "image/png": "[encoded data removed]"
          },
          "metadata": {}
        },
        {
          "output_type": "display_data",
          "data": {
            "text/plain": [
              "<Figure size 300x300 with 1 Axes>"
            ],
            "image/png": "[encoded data removed]"
          },
          "metadata": {}
        },
        {
          "output_type": "stream",
          "name": "stdout",
          "text": [
            "##################################################\n",
            "Menampilkan distribusi data kategorikal\n"
          ]
        },
        {
          "output_type": "display_data",
          "data": {
            "text/plain": [
              "<Figure size 400x300 with 1 Axes>"
            ],
            "image/png": "[encoded data removed]"
          },
          "metadata": {}
        },
        {
          "output_type": "display_data",
          "data": {
            "text/plain": [
              "<Figure size 400x300 with 1 Axes>"
            ],
            "image/png": "[encoded data removed]"
          },
          "metadata": {}
        },
        {
          "output_type": "display_data",
          "data": {
            "text/plain": [
              "<Figure size 400x300 with 1 Axes>"
            ],
            "image/png": "[encoded data removed]"
          },
          "metadata": {}
        },
        {
          "output_type": "display_data",
          "data": {
            "text/plain": [
              "<Figure size 400x300 with 1 Axes>"
            ],
            "image/png": "[encoded data removed]"
          },
          "metadata": {}
        }
      ],
      "source": [
        "show_data_type_and_distribution(df_dropped)\n"
      ]
    },
    {
      "cell_type": "markdown",
      "metadata": {
        "id": "M5MIlwhRhBQ6"
      },
      "source": [
        "### SOAL 2b:\n",
        "Perhatikan jumlah & persentase null pada kolom `New_Price`. Implementasi kode untuk melakukan drop pada kolom tersebut! Lalu, berikan alasan singkat untuk menjustifikasi penghapusan pada kolom tersebut!"
      ]
    },
    {
      "cell_type": "code",
      "execution_count": null,
      "metadata": {
        "id": "jyM_xfDShBQ6"
      },
      "outputs": [],
      "source": [
        "# Melakukan drop pada kolom \"New_Price\"\n",
        "df_dropped = df_dropped.drop(columns=[\"New_Price\"])"
      ]
    },
    {
      "cell_type": "markdown",
      "metadata": {
        "id": "_9TGNvO_hBQ6"
      },
      "source": [
        "Saya menghapus kolom \"New_Price\" didasarkan pada persentase nilai kosong yang tinggi, sekitar 86,21%. Jumlah data yang hilang yang signifikan seperti ini dapat memengaruhi analisis dan mungkin tidak memberikan wawasan yang bermakna. Selain itu, pengisian nilai kosong sebanyak itu mungkin tidak dapat dilakukan dengan akurat atau layak tanpa metode yang dapat diandalkan atau data eksternal. Menghapus kolom ini menyederhanakan dataset dan memfokuskan analisis pada aspek data yang lebih lengkap."
      ]
    },
    {
      "cell_type": "markdown",
      "metadata": {
        "id": "wxSgT9XMhBQ6"
      },
      "source": [
        "### Soal 2c\n",
        "Asumsikan bahwa data yang hilang merupakan kondisi `Missing Completely at Random (MCAR)`. Imputasikan variabel lain yang memiliki nilai null sesuai dengan **tipe data (kontinu/diskrit/kategorikal)** dan **distribusi** nya serta berikan alasan singkat! Jangan lupa tampilkan hasil setelah nilai null sudah tidak ada!\n",
        "<br>**Hint**: terdapat 7 kolom/atribut lain setelah `New_Price` di drop, gunakan method imputasi diatas pada setiap kolom, distribusi dapat dilihat pada visualisasi di atas"
      ]
    },
    {
      "cell_type": "code",
      "execution_count": null,
      "metadata": {
        "colab": {
          "base_uri": "https://localhost:8080/"
        },
        "id": "ArE1UEcchBQ6",
        "outputId": "00fe5783-8596-4912-c811-0dad5a658fa7"
      },
      "outputs": [
        {
          "output_type": "stream",
          "name": "stdout",
          "text": [
            "                   Total Missing  Missing Percentage\n",
            "Location                       0                 0.0\n",
            "Year                           0                 0.0\n",
            "Kilometers_Driven              0                 0.0\n",
            "Fuel_Type                      0                 0.0\n",
            "Transmission                   0                 0.0\n",
            "Owner_Type                     0                 0.0\n",
            "Mileage                        0                 0.0\n",
            "Engine                         0                 0.0\n",
            "Power                          0                 0.0\n",
            "Seats                          0                 0.0\n",
            "Price                          0                 0.0\n",
            "Brand                          0                 0.0\n"
          ]
        }
      ],
      "source": [
        "for col in ['Kilometers_Driven', 'Mileage', 'Engine', 'Power', 'Seats']:\n",
        "    df_dropped[col] = df_dropped[col].fillna(df_dropped[col].median())\n",
        "\n",
        "for col in ['Fuel_Type', 'Transmission']:\n",
        "    df_dropped[col] = df_dropped[col].fillna(df_dropped[col].mode()[0])\n",
        "\n",
        "cek_null(df_dropped)\n",
        "\n",
        "df_imputed = df_dropped.copy()"
      ]
    },
    {
      "cell_type": "markdown",
      "metadata": {
        "id": "1J7npGMVhBQ6"
      },
      "source": [
        "1. Kolom Kilometers_Driven diimputasi dengan median karena distribusinya cenderung tidak normal dan numerik.\n",
        "\n",
        "2. Kolom Mileage diimputasi dengan median karena distribusinya cenderung terdistribusi secara tidak normal dan numerik.\n",
        "\n",
        "3. Kolom Engine diimputasi dengan median karena distribusinya cenderung terdistribusi secara tidak normal dan numerik.\n",
        "\n",
        "4. Kolom Power diimputasi dengan median karena distribusinya cenderung terdistribusi secara tidak normal dan numerik.\n",
        "\n",
        "5. Kolom Seats diimputasi dengan median karena distribusinya cenderung terdistribusi secara tidak normal dan numerik.\n",
        "\n",
        "6. Kolom Fuel_Type diimputasi dengan mode karena distribusinya cenderung terdistribusi secara kategorikal.\n",
        "\n",
        "7. Kolom Transmission diimputasi dengan mode karena distribusinya cenderung terdistribusi secara kategorikal."
      ]
    },
    {
      "cell_type": "markdown",
      "metadata": {
        "id": "VlrzpfM1HC4p"
      },
      "source": [
        "## Outlier Handling\n",
        "**Note:** Pastikan Anda mengerjakan bagian ini dan selanjutnya setelah mengisi *missing values* pada dataset!"
      ]
    },
    {
      "cell_type": "markdown",
      "metadata": {
        "id": "1nQdCtuehBQ7"
      },
      "source": [
        "Outliers merupakan nilai observasi yang sangat jauh, titik ekstrim, atau tidak wajar dari distribusi suatu variabel. Nilai yang dimaksud ini bisa merupakan nilai yang **terlalu besar** atau **terlalu kecil** dibandingkan nilai-nilai lainnya. Kehadiran outliers dapat terjadi karena beberapa hal:\n",
        "1. Kesalahan human error pada penginputan\n",
        "2. Kesalahan sampling atau mengambil sampel yang terlalu ekstrim\n",
        "3. Kesalahan pemprosesan data\n",
        "4. Alami/Natural atau memang terdapat outliers pada kenyataan observasi suatu variabel"
      ]
    },
    {
      "cell_type": "markdown",
      "metadata": {
        "id": "vlrjCm-fG9rx"
      },
      "source": [
        "Dalam mendeterksi dan menganalisis suatu outlier, lagi-lagi penting bagi kita untuk memperhatikan **distribusi** dan konteks suatu atribut serta tujuan secara umum dari penggunaan dataset."
      ]
    },
    {
      "cell_type": "markdown",
      "metadata": {
        "id": "lrBjVL10hBQ7"
      },
      "source": [
        "Berikut merupakan semacam **guideline** singkat untuk melakukan analisis outlier:\n",
        "1. Jika kita menggunakan dataset untuk kepentingan prediksi menggunakan model yang **sensitif terhadap outlier** (contohnya Regresi Linear, selengkapnya akan dibahas pada Lab-lab selanjutnya), kita dapat melakukan **drop outlier**. Membiarkan outlier dapat menyebabkan terjadinya **overfitting** pada model prediksi tertentu ataupun menyebabkan berkurangnya akurasi pada model-model tertentu sehingga perlu di drop. Terlebih lagi, apabila persentase outlier cenderung kecil dan tidak membantu jika dibiarkan.\n",
        "2. Jika asumsi kita adalah outlier pada data merupakan **noise** atau muncul akibat **error/kesalahan observasi**, sebaiknya dilakukan **drop outlier** untuk membersihkan data.\n",
        "3. Jika kita perlu melakukan prediksi untuk hal-hal yang mengandalkan *outliers*\n",
        "4. Jika asumsi kita adalah outlier yang muncul pada data merupakan hal yang alami/wajar sebagaimana kenyataan pada suatu variabel, kita dapat membiarkannya pada data."
      ]
    },
    {
      "cell_type": "markdown",
      "metadata": {
        "id": "drsqm3_zhBQ7"
      },
      "source": [
        "Mendeteksi outliers memiliki banyak cara tergantung dari sifat setiap distribusi variabel maupun dataset secara keseluruhan. Berikut merupakan cara yang populer dan banyak digunakan:\n",
        "1. Z-Score atau Standar Deviasi: Metode ini dapat digunakan untuk mendeteksi outlier pada data yang berdistribusi **normal**. Definisi outlier pada Z-Score adalah nilai-nilai yang jatuh pada **nilai standar deviasi > 3 atau < -3**\n",
        "2. Boxplot: Metode ini dapat digunakan untuk menampilkan outliers secara visual sehingga lebih intuitif untuk melihat kemunculannya dan melakukan analisis.\n",
        "3. Interquartile range (IQR): Metode ini mendeketsi outlier yang melebihi batas atas $Q3+ 1.5 *IQR$ atau kurang dari batas bawah $Q1 - 1.5*IQR$ dimana $IQR = Q3-Q1$. Metode ini secara umum dapat digunakan untuk distribusi yang tidak normal"
      ]
    },
    {
      "cell_type": "markdown",
      "metadata": {
        "id": "AtzozWA8hBQ7"
      },
      "source": [
        "Jalankan kode untuk menampilkan Boxplot untuk DataFrame `df_imputed` untuk membantu menjawab soal berikutnya"
      ]
    },
    {
      "cell_type": "code",
      "execution_count": null,
      "metadata": {
        "id": "WHM6FcohhBQ7"
      },
      "outputs": [],
      "source": [
        "def show_boxplot(df):\n",
        "    numerics = ['int16', 'int32', 'int64', 'float16', 'float32', 'float64']\n",
        "    for col in df.select_dtypes(include=numerics):\n",
        "        plt.figure(figsize=(3,3))\n",
        "        sns.boxplot(x=df[col])\n",
        "        plt.show()"
      ]
    },
    {
      "cell_type": "code",
      "execution_count": null,
      "metadata": {
        "scrolled": true,
        "colab": {
          "base_uri": "https://localhost:8080/",
          "height": 1000
        },
        "id": "ic-070jahBQ7",
        "outputId": "8b7e7e5c-6445-404a-ce0e-e4de185401dc"
      },
      "outputs": [
        {
          "output_type": "display_data",
          "data": {
            "text/plain": [
              "<Figure size 300x300 with 1 Axes>"
            ],
            "image/png": "[encoded data removed]"
          },
          "metadata": {}
        },
        {
          "output_type": "display_data",
          "data": {
            "text/plain": [
              "<Figure size 300x300 with 1 Axes>"
            ],
            "image/png": "[encoded data removed]"
          },
          "metadata": {}
        },
        {
          "output_type": "display_data",
          "data": {
            "text/plain": [
              "<Figure size 300x300 with 1 Axes>"
            ],
            "image/png": "[encoded data removed]"
          },
          "metadata": {}
        },
        {
          "output_type": "display_data",
          "data": {
            "text/plain": [
              "<Figure size 300x300 with 1 Axes>"
            ],
            "image/png": "[encoded data removed]"
          },
          "metadata": {}
        },
        {
          "output_type": "display_data",
          "data": {
            "text/plain": [
              "<Figure size 300x300 with 1 Axes>"
            ],
            "image/png": "[encoded data removed]"
          },
          "metadata": {}
        },
        {
          "output_type": "display_data",
          "data": {
            "text/plain": [
              "<Figure size 300x300 with 1 Axes>"
            ],
            "image/png": "[encoded data removed]"
          },
          "metadata": {}
        },
        {
          "output_type": "display_data",
          "data": {
            "text/plain": [
              "<Figure size 300x300 with 1 Axes>"
            ],
            "image/png": "[encoded data removed]"
          },
          "metadata": {}
        }
      ],
      "source": [
        "# UNCOMMENT & JALANKAN KODE\n",
        "show_boxplot(df_imputed)"
      ]
    },
    {
      "cell_type": "markdown",
      "metadata": {
        "id": "U1wZrufvhBQ7"
      },
      "source": [
        "## Soal 3\n",
        "Kita dapat melihat bahwa pada setiap variabel memiliki outlier. Asumsikan bahwa kebutuhan kita adalah melakukan prediksi menggunakan model yang sensitif terhadap *outlier* dan *outlier* yang muncul merupakan suatu error dari penginputan atau observasi.\n",
        "\n",
        "**3a)** Tampilkan outlier dari variabel yang terlihat memiliki distribusi normal berdasarkan Boxplot! <br>\n",
        "**3b)** Implementasikan cara untuk mendrop outlier dari variabel tersebut <br>\n",
        "**3c)** Jika ini adalah proyek analisis data pribadi Anda, apakah Anda akan melakukan drop outlier pada atribut yang dimaksud pada nomor 3b? Jelaskan alasan Anda! <br>\n",
        "**Hints:**\n",
        "1. Terdapat 1 variabel yang terlihat cenderung ke distribusi normal\n",
        "2. Dapat menggunakan IQR atau Z-Score\n",
        "3. Tipe data numerik kontinu\n",
        "\n",
        "**Side note:** Di dunia nyata tentu saja kita tidak bisa semudah itu melakukan asumsi untuk mendrop outlier, tetapi kita membuat asumsi ini untuk kepentingan latihan dan belajar"
      ]
    },
    {
      "cell_type": "code",
      "execution_count": null,
      "metadata": {
        "id": "z0y0Dv_yhBQ8"
      },
      "outputs": [],
      "source": [
        "## Gunakan variabel ini\n",
        "df_remove_outlier = df_imputed.copy()"
      ]
    },
    {
      "cell_type": "code",
      "execution_count": null,
      "metadata": {
        "colab": {
          "base_uri": "https://localhost:8080/",
          "height": 424
        },
        "id": "UZaudhRIhBQ8",
        "outputId": "9c2926f9-2d86-4178-fc4b-56f296c80756"
      },
      "outputs": [
        {
          "output_type": "execute_result",
          "data": {
            "text/plain": [
              "      Mileage\n",
              "0        9.50\n",
              "1       25.10\n",
              "10      26.00\n",
              "13      12.07\n",
              "31      25.47\n",
              "...       ...\n",
              "6180    25.17\n",
              "6187    12.40\n",
              "6190    28.09\n",
              "6202    10.37\n",
              "6211    11.50\n",
              "\n",
              "[820 rows x 1 columns]"
            ],
            "text/html": [
              "\n",
              "  <div id=\"df-2869af0c-03c2-459a-ab6f-01ec43e10db0\" class=\"colab-df-container\">\n",
              "    <div>\n",
              "<style scoped>\n",
              "    .dataframe tbody tr th:only-of-type {\n",
              "        vertical-align: middle;\n",
              "    }\n",
              "\n",
              "    .dataframe tbody tr th {\n",
              "        vertical-align: top;\n",
              "    }\n",
              "\n",
              "    .dataframe thead th {\n",
              "        text-align: right;\n",
              "    }\n",
              "</style>\n",
              "<table border=\"1\" class=\"dataframe\">\n",
              "  <thead>\n",
              "    <tr style=\"text-align: right;\">\n",
              "      <th></th>\n",
              "      <th>Mileage</th>\n",
              "    </tr>\n",
              "  </thead>\n",
              "  <tbody>\n",
              "    <tr>\n",
              "      <th>0</th>\n",
              "      <td>9.50</td>\n",
              "    </tr>\n",
              "    <tr>\n",
              "      <th>1</th>\n",
              "      <td>25.10</td>\n",
              "    </tr>\n",
              "    <tr>\n",
              "      <th>10</th>\n",
              "      <td>26.00</td>\n",
              "    </tr>\n",
              "    <tr>\n",
              "      <th>13</th>\n",
              "      <td>12.07</td>\n",
              "    </tr>\n",
              "    <tr>\n",
              "      <th>31</th>\n",
              "      <td>25.47</td>\n",
              "    </tr>\n",
              "    <tr>\n",
              "      <th>...</th>\n",
              "      <td>...</td>\n",
              "    </tr>\n",
              "    <tr>\n",
              "      <th>6180</th>\n",
              "      <td>25.17</td>\n",
              "    </tr>\n",
              "    <tr>\n",
              "      <th>6187</th>\n",
              "      <td>12.40</td>\n",
              "    </tr>\n",
              "    <tr>\n",
              "      <th>6190</th>\n",
              "      <td>28.09</td>\n",
              "    </tr>\n",
              "    <tr>\n",
              "      <th>6202</th>\n",
              "      <td>10.37</td>\n",
              "    </tr>\n",
              "    <tr>\n",
              "      <th>6211</th>\n",
              "      <td>11.50</td>\n",
              "    </tr>\n",
              "  </tbody>\n",
              "</table>\n",
              "<p>820 rows × 1 columns</p>\n",
              "</div>\n",
              "    <div class=\"colab-df-buttons\">\n",
              "\n",
              "  <div class=\"colab-df-container\">\n",
              "    <button class=\"colab-df-convert\" onclick=\"convertToInteractive('df-2869af0c-03c2-459a-ab6f-01ec43e10db0')\"\n",
              "            title=\"Convert this dataframe to an interactive table.\"\n",
              "            style=\"display:none;\">\n",
              "\n",
              "  <svg xmlns=\"http://www.w3.org/2000/svg\" height=\"24px\" viewBox=\"0 -960 960 960\">\n",
              "    <path d=\"M120-120v-720h720v720H120Zm60-500h600v-160H180v160Zm220 220h160v-160H400v160Zm0 220h160v-160H400v160ZM180-400h160v-160H180v160Zm440 0h160v-160H620v160ZM180-180h160v-160H180v160Zm440 0h160v-160H620v160Z\"/>\n",
              "  </svg>\n",
              "    </button>\n",
              "\n",
              "  <style>\n",
              "    .colab-df-container {\n",
              "      display:flex;\n",
              "      gap: 12px;\n",
              "    }\n",
              "\n",
              "    .colab-df-convert {\n",
              "      background-color: #E8F0FE;\n",
              "      border: none;\n",
              "      border-radius: 50%;\n",
              "      cursor: pointer;\n",
              "      display: none;\n",
              "      fill: #1967D2;\n",
              "      height: 32px;\n",
              "      padding: 0 0 0 0;\n",
              "      width: 32px;\n",
              "    }\n",
              "\n",
              "    .colab-df-convert:hover {\n",
              "      background-color: #E2EBFA;\n",
              "      box-shadow: 0px 1px 2px rgba(60, 64, 67, 0.3), 0px 1px 3px 1px rgba(60, 64, 67, 0.15);\n",
              "      fill: #174EA6;\n",
              "    }\n",
              "\n",
              "    .colab-df-buttons div {\n",
              "      margin-bottom: 4px;\n",
              "    }\n",
              "\n",
              "    [theme=dark] .colab-df-convert {\n",
              "      background-color: #3B4455;\n",
              "      fill: #D2E3FC;\n",
              "    }\n",
              "\n",
              "    [theme=dark] .colab-df-convert:hover {\n",
              "      background-color: #434B5C;\n",
              "      box-shadow: 0px 1px 3px 1px rgba(0, 0, 0, 0.15);\n",
              "      filter: drop-shadow(0px 1px 2px rgba(0, 0, 0, 0.3));\n",
              "      fill: #FFFFFF;\n",
              "    }\n",
              "  </style>\n",
              "\n",
              "    <script>\n",
              "      const buttonEl =\n",
              "        document.querySelector('#df-2869af0c-03c2-459a-ab6f-01ec43e10db0 button.colab-df-convert');\n",
              "      buttonEl.style.display =\n",
              "        google.colab.kernel.accessAllowed ? 'block' : 'none';\n",
              "\n",
              "      async function convertToInteractive(key) {\n",
              "        const element = document.querySelector('#df-2869af0c-03c2-459a-ab6f-01ec43e10db0');\n",
              "        const dataTable =\n",
              "          await google.colab.kernel.invokeFunction('convertToInteractive',\n",
              "                                                    [key], {});\n",
              "        if (!dataTable) return;\n",
              "\n",
              "        const docLinkHtml = 'Like what you see? Visit the ' +\n",
              "          '<a target=\"_blank\" href=https://colab.research.google.com/notebooks/data_table.ipynb>data table notebook</a>'\n",
              "          + ' to learn more about interactive tables.';\n",
              "        element.innerHTML = '';\n",
              "        dataTable['output_type'] = 'display_data';\n",
              "        await google.colab.output.renderOutput(dataTable, element);\n",
              "        const docLink = document.createElement('div');\n",
              "        docLink.innerHTML = docLinkHtml;\n",
              "        element.appendChild(docLink);\n",
              "      }\n",
              "    </script>\n",
              "  </div>\n",
              "\n",
              "\n",
              "<div id=\"df-bf04ef2d-6426-4cd5-8276-7c6afaf3c9bd\">\n",
              "  <button class=\"colab-df-quickchart\" onclick=\"quickchart('df-bf04ef2d-6426-4cd5-8276-7c6afaf3c9bd')\"\n",
              "            title=\"Suggest charts\"\n",
              "            style=\"display:none;\">\n",
              "\n",
              "<svg xmlns=\"http://www.w3.org/2000/svg\" height=\"24px\"viewBox=\"0 0 24 24\"\n",
              "     width=\"24px\">\n",
              "    <g>\n",
              "        <path d=\"M19 3H5c-1.1 0-2 .9-2 2v14c0 1.1.9 2 2 2h14c1.1 0 2-.9 2-2V5c0-1.1-.9-2-2-2zM9 17H7v-7h2v7zm4 0h-2V7h2v10zm4 0h-2v-4h2v4z\"/>\n",
              "    </g>\n",
              "</svg>\n",
              "  </button>\n",
              "\n",
              "<style>\n",
              "  .colab-df-quickchart {\n",
              "      --bg-color: #E8F0FE;\n",
              "      --fill-color: #1967D2;\n",
              "      --hover-bg-color: #E2EBFA;\n",
              "      --hover-fill-color: #174EA6;\n",
              "      --disabled-fill-color: #AAA;\n",
              "      --disabled-bg-color: #DDD;\n",
              "  }\n",
              "\n",
              "  [theme=dark] .colab-df-quickchart {\n",
              "      --bg-color: #3B4455;\n",
              "      --fill-color: #D2E3FC;\n",
              "      --hover-bg-color: #434B5C;\n",
              "      --hover-fill-color: #FFFFFF;\n",
              "      --disabled-bg-color: #3B4455;\n",
              "      --disabled-fill-color: #666;\n",
              "  }\n",
              "\n",
              "  .colab-df-quickchart {\n",
              "    background-color: var(--bg-color);\n",
              "    border: none;\n",
              "    border-radius: 50%;\n",
              "    cursor: pointer;\n",
              "    display: none;\n",
              "    fill: var(--fill-color);\n",
              "    height: 32px;\n",
              "    padding: 0;\n",
              "    width: 32px;\n",
              "  }\n",
              "\n",
              "  .colab-df-quickchart:hover {\n",
              "    background-color: var(--hover-bg-color);\n",
              "    box-shadow: 0 1px 2px rgba(60, 64, 67, 0.3), 0 1px 3px 1px rgba(60, 64, 67, 0.15);\n",
              "    fill: var(--button-hover-fill-color);\n",
              "  }\n",
              "\n",
              "  .colab-df-quickchart-complete:disabled,\n",
              "  .colab-df-quickchart-complete:disabled:hover {\n",
              "    background-color: var(--disabled-bg-color);\n",
              "    fill: var(--disabled-fill-color);\n",
              "    box-shadow: none;\n",
              "  }\n",
              "\n",
              "  .colab-df-spinner {\n",
              "    border: 2px solid var(--fill-color);\n",
              "    border-color: transparent;\n",
              "    border-bottom-color: var(--fill-color);\n",
              "    animation:\n",
              "      spin 1s steps(1) infinite;\n",
              "  }\n",
              "\n",
              "  @keyframes spin {\n",
              "    0% {\n",
              "      border-color: transparent;\n",
              "      border-bottom-color: var(--fill-color);\n",
              "      border-left-color: var(--fill-color);\n",
              "    }\n",
              "    20% {\n",
              "      border-color: transparent;\n",
              "      border-left-color: var(--fill-color);\n",
              "      border-top-color: var(--fill-color);\n",
              "    }\n",
              "    30% {\n",
              "      border-color: transparent;\n",
              "      border-left-color: var(--fill-color);\n",
              "      border-top-color: var(--fill-color);\n",
              "      border-right-color: var(--fill-color);\n",
              "    }\n",
              "    40% {\n",
              "      border-color: transparent;\n",
              "      border-right-color: var(--fill-color);\n",
              "      border-top-color: var(--fill-color);\n",
              "    }\n",
              "    60% {\n",
              "      border-color: transparent;\n",
              "      border-right-color: var(--fill-color);\n",
              "    }\n",
              "    80% {\n",
              "      border-color: transparent;\n",
              "      border-right-color: var(--fill-color);\n",
              "      border-bottom-color: var(--fill-color);\n",
              "    }\n",
              "    90% {\n",
              "      border-color: transparent;\n",
              "      border-bottom-color: var(--fill-color);\n",
              "    }\n",
              "  }\n",
              "</style>\n",
              "\n",
              "  <script>\n",
              "    async function quickchart(key) {\n",
              "      const quickchartButtonEl =\n",
              "        document.querySelector('#' + key + ' button');\n",
              "      quickchartButtonEl.disabled = true;  // To prevent multiple clicks.\n",
              "      quickchartButtonEl.classList.add('colab-df-spinner');\n",
              "      try {\n",
              "        const charts = await google.colab.kernel.invokeFunction(\n",
              "            'suggestCharts', [key], {});\n",
              "      } catch (error) {\n",
              "        console.error('Error during call to suggestCharts:', error);\n",
              "      }\n",
              "      quickchartButtonEl.classList.remove('colab-df-spinner');\n",
              "      quickchartButtonEl.classList.add('colab-df-quickchart-complete');\n",
              "    }\n",
              "    (() => {\n",
              "      let quickchartButtonEl =\n",
              "        document.querySelector('#df-bf04ef2d-6426-4cd5-8276-7c6afaf3c9bd button');\n",
              "      quickchartButtonEl.style.display =\n",
              "        google.colab.kernel.accessAllowed ? 'block' : 'none';\n",
              "    })();\n",
              "  </script>\n",
              "</div>\n",
              "    </div>\n",
              "  </div>\n"
            ],
            "application/vnd.google.colaboratory.intrinsic+json": {
              "type": "dataframe",
              "summary": "{\n  \"name\": \"outliers_mileage[['Mileage']]\",\n  \"rows\": 820,\n  \"fields\": [\n    {\n      \"column\": \"Mileage\",\n      \"properties\": {\n        \"dtype\": \"number\",\n        \"std\": 8.502143799556203,\n        \"min\": 0.0,\n        \"max\": 33.54,\n        \"num_unique_values\": 110,\n        \"samples\": [\n          27.03,\n          12.05,\n          25.47\n        ],\n        \"semantic_type\": \"\",\n        \"description\": \"\"\n      }\n    }\n  ]\n}"
            }
          },
          "metadata": {},
          "execution_count": 61
        }
      ],
      "source": [
        "# Calculate IQR for 'Mileage'\n",
        "Q1_mileage = df_remove_outlier['Mileage'].quantile(0.25)\n",
        "Q3_mileage = df_remove_outlier['Mileage'].quantile(0.75)\n",
        "IQR_mileage = Q3_mileage - Q1_mileage\n",
        "\n",
        "# Define bounds for outliers in 'Mileage'\n",
        "lower_bound_mileage = Q1_mileage - 1.5 * IQR_mileage\n",
        "upper_bound_mileage = Q3_mileage + 1.5 * IQR_mileage\n",
        "\n",
        "# Identify outliers in 'Mileage'\n",
        "outliers_mileage = df_remove_outlier[(df_remove_outlier['Mileage'] < lower_bound_mileage) | (df_remove_outlier['Mileage'] > upper_bound_mileage)]\n",
        "\n",
        "outliers_mileage[['Mileage']]"
      ]
    },
    {
      "cell_type": "code",
      "execution_count": null,
      "metadata": {
        "colab": {
          "base_uri": "https://localhost:8080/",
          "height": 528
        },
        "id": "bBgXODZGhBQ8",
        "outputId": "8bbfb477-0a86-4827-d2a0-02b47568782c"
      },
      "outputs": [
        {
          "output_type": "display_data",
          "data": {
            "text/plain": [
              "<Figure size 800x600 with 1 Axes>"
            ],
            "image/png": "[encoded data removed]"
          },
          "metadata": {}
        }
      ],
      "source": [
        "# Drop outliers from 'Mileage'\n",
        "df_no_mileage_outliers = df_remove_outlier[~((df_remove_outlier['Mileage'] < lower_bound_mileage) | (df_remove_outlier['Mileage'] > upper_bound_mileage))]\n",
        "\n",
        "# Creating boxplot for 'Mileage' after dropping outliers\n",
        "plt.figure(figsize=(8, 6))\n",
        "sns.boxplot(y=df_no_mileage_outliers['Mileage'])\n",
        "plt.title('Boxplot of Mileage After Removing Outliers')\n",
        "plt.show()"
      ]
    },
    {
      "cell_type": "markdown",
      "metadata": {
        "id": "zE5O15DyhBQ8"
      },
      "source": [
        "Dalam proyek analisis data ini, saya memilih untuk mempertahankan outlier pada variabel Mileage. Keputusan ini didasarkan pada pertimbangan bahwa outlier-outlier tersebut mungkin merupakan bagian yang valid dari distribusi data dan mungkin memiliki informasi yang signifikan yang dapat memberikan wawasan tambahan dalam analisis. Selain itu, dengan mempertahankan outlier, saya dapat menghindari kehilangan informasi yang mungkin berharga dari data. Meskipun outlier bisa mempengaruhi beberapa metode analisis, namun dalam konteks ini, mempertahankan outlier dianggap dapat memberikan gambaran yang lebih lengkap dan akurat tentang variabilitas data yang ada. Dengan demikian, mempertahankan outlier dianggap sebagai langkah yang mendukung untuk mencapai pemahaman yang lebih komprehensif tentang karakteristik data dan hasil analisis yang lebih informatif."
      ]
    },
    {
      "cell_type": "markdown",
      "metadata": {
        "id": "wC_a07ARz2DU"
      },
      "source": [
        "## Encoding\n",
        "**Note:** Jalankan ulang kode pada bagian ini setelah mengisi *missing values*!"
      ]
    },
    {
      "cell_type": "markdown",
      "metadata": {
        "id": "LK2vS3wrhBQ8"
      },
      "source": [
        "Selanjutnya adalah tahapan melakukan encoding, yaitu mengubah tipe data kategorikal menjadi bentuk numerik. Diantara tipe-tipe encoding yang populer digunakan adalah:\n",
        "1. **One-hot encoding**: mengubah menjadi bentuk binary sesuai dengan jumlah nilai *unique* yang terdapat pada kolom.\n",
        "2. **Label encoding**: mengubah ke bentuk integer secara *unique*"
      ]
    },
    {
      "cell_type": "code",
      "execution_count": null,
      "metadata": {
        "id": "kixzBgKRhBQ8"
      },
      "outputs": [],
      "source": [
        "df_encode = df_imputed.copy()"
      ]
    },
    {
      "cell_type": "code",
      "execution_count": null,
      "metadata": {
        "colab": {
          "base_uri": "https://localhost:8080/"
        },
        "id": "UhxNxhchhBQ8",
        "outputId": "b9ad5b78-a73b-48a1-8fa8-c74bb8c34c29"
      },
      "outputs": [
        {
          "output_type": "execute_result",
          "data": {
            "text/plain": [
              "Index(['Location', 'Fuel_Type', 'Transmission', 'Owner_Type', 'Brand'], dtype='object')"
            ]
          },
          "metadata": {},
          "execution_count": 65
        }
      ],
      "source": [
        "df_encode.select_dtypes(include=object).columns"
      ]
    },
    {
      "cell_type": "code",
      "execution_count": null,
      "metadata": {
        "colab": {
          "base_uri": "https://localhost:8080/"
        },
        "id": "BHQXjNJVhBQ8",
        "outputId": "71518404-ffa7-4573-969c-d6a142427650"
      },
      "outputs": [
        {
          "output_type": "stream",
          "name": "stdout",
          "text": [
            "Menampilkan nilai unique yang terdapat pada setiap kolom kategorikal\n",
            "######################################################################\n",
            "\n",
            "Location : 11 ['Bangalore' 'Jaipur' 'Kochi' 'Mumbai' 'Hyderabad' 'Ahmedabad'\n",
            " 'Coimbatore' 'Delhi' 'Kolkata' 'Pune' 'Chennai']\n",
            "\n",
            "\n",
            "Fuel_Type : 5 ['Diesel' 'Petrol' 'CNG' 'Electric' 'LPG']\n",
            "\n",
            "\n",
            "Transmission : 2 ['Manual' 'Automatic']\n",
            "\n",
            "\n",
            "Owner_Type : 4 ['Second' 'First' 'Third' 'Fourth & Above']\n",
            "\n",
            "\n",
            "Brand : 31 ['Mitsubishi' 'Honda' 'Hyundai' 'Volkswagen' 'BMW' 'Ford' 'Audi' 'Jeep'\n",
            " 'Renault' 'Mercedes-Benz' 'Maruti' 'Jaguar' 'Skoda' 'Mahindra' 'Mini'\n",
            " 'Toyota' 'Nissan' 'Tata' 'Chevrolet' 'Fiat' 'Volvo' 'Land' 'Porsche'\n",
            " 'Datsun' 'Isuzu' 'Force' 'Smart' 'ISUZU' 'Lamborghini' 'Ambassador'\n",
            " 'Bentley']\n",
            "\n",
            "\n"
          ]
        }
      ],
      "source": [
        "print(\"Menampilkan nilai unique yang terdapat pada setiap kolom kategorikal\")\n",
        "print('#'*70)\n",
        "print()\n",
        "for col in df_encode.select_dtypes(include=object).columns:\n",
        "    print(col, f\": {len(df_encode[col].unique())}\", df_encode[col].unique())\n",
        "    print(\"\\n\")"
      ]
    },
    {
      "cell_type": "markdown",
      "metadata": {
        "id": "8R88B6fchBQ9"
      },
      "source": [
        "### Label Encoding"
      ]
    },
    {
      "cell_type": "markdown",
      "metadata": {
        "id": "h7FZOMUihBQ9"
      },
      "source": [
        "Menggunakan **LabelEncoder** pada kolom `Location` & `Brand`"
      ]
    },
    {
      "cell_type": "code",
      "execution_count": null,
      "metadata": {
        "id": "lSB8JgRRhBQ9"
      },
      "outputs": [],
      "source": [
        "label_encoder = LabelEncoder()\n",
        "\n",
        "df_encode['Location_enc'] = label_encoder.fit_transform(df_encode['Location'])\n",
        "df_encode['Brand_enc'] = label_encoder.fit_transform(df_encode['Brand'])"
      ]
    },
    {
      "cell_type": "markdown",
      "metadata": {
        "id": "rK1yeG07hBQ9"
      },
      "source": [
        "`Location` telah berhasil di encode menjadi variabel `Location_enc` dan `Brand` telah berhasil di encode menjadi variabel `Brand_enc`"
      ]
    },
    {
      "cell_type": "markdown",
      "metadata": {
        "id": "oSckBmafhBQ9"
      },
      "source": [
        "Selain menggunakan **LabelEncoder**,  tipe encoding ini bisa juga dilakukan secara manual menggunakan fungsi `map()`"
      ]
    },
    {
      "cell_type": "code",
      "execution_count": null,
      "metadata": {
        "id": "w4_BLoa-hBQ9"
      },
      "outputs": [],
      "source": [
        "df_encode['Owner_Order'] = df_encode['Owner_Type'].map({'Second':2, 'First':1, 'Third':3, 'Fourth & Above':4})"
      ]
    },
    {
      "cell_type": "code",
      "execution_count": null,
      "metadata": {
        "colab": {
          "base_uri": "https://localhost:8080/"
        },
        "id": "GdKbJpOihBQ9",
        "outputId": "71cfd049-9eef-4558-d07d-58d6a3884950"
      },
      "outputs": [
        {
          "output_type": "execute_result",
          "data": {
            "text/plain": [
              "array([2, 1, 3, 4])"
            ]
          },
          "metadata": {},
          "execution_count": 69
        }
      ],
      "source": [
        "df_encode['Owner_Order'].unique()"
      ]
    },
    {
      "cell_type": "markdown",
      "metadata": {
        "id": "5KoqyYaYhBQ9"
      },
      "source": [
        "`Owner_Type` telah berhasil di encode menjadi variabel `Owner_Order`"
      ]
    },
    {
      "cell_type": "markdown",
      "metadata": {
        "id": "v_5vh1X5hBQ9"
      },
      "source": [
        "## One-Hot Encoding"
      ]
    },
    {
      "cell_type": "markdown",
      "metadata": {
        "id": "yKI-UOs0hBQ9"
      },
      "source": [
        "Menggunakan **get_dummsies** pada kolom `Fuel_Type` dan `Transmission`"
      ]
    },
    {
      "cell_type": "code",
      "execution_count": null,
      "metadata": {
        "id": "cvdr90k-hBQ9"
      },
      "outputs": [],
      "source": [
        "df_encode = pd.get_dummies(df_encode, columns = ['Fuel_Type', 'Transmission'], drop_first=True)"
      ]
    },
    {
      "cell_type": "markdown",
      "metadata": {
        "id": "ZXzIiO7PhBQ9"
      },
      "source": [
        "Selanjutnya kita akan mendrop kolom yang tidak digunakan"
      ]
    },
    {
      "cell_type": "code",
      "execution_count": null,
      "metadata": {
        "id": "1o__CtAhhBQ9"
      },
      "outputs": [],
      "source": [
        "df_encode = df_encode.drop(df_encode.select_dtypes(include=object),axis=1)"
      ]
    },
    {
      "cell_type": "code",
      "execution_count": null,
      "metadata": {
        "id": "gVm_HfcWhBQ-"
      },
      "outputs": [],
      "source": [
        "df_encode.info()"
      ]
    },
    {
      "cell_type": "markdown",
      "metadata": {
        "id": "_GVO1KF4hBQ-"
      },
      "source": [
        "Semua kolom sudah berhasil diubah menjadi bentuk numerik, namun masih ada satu tahapan lagi sebelum data dapat digunakan untuk keperluan machine learning."
      ]
    },
    {
      "cell_type": "markdown",
      "metadata": {
        "id": "q_HrsHvEhBQ-"
      },
      "source": [
        "### Soal 4a\n",
        "Jelaskan perbedaan antara LabelEncoding dengan OneHotEncoding dari sisi tipe data yang cocok digunakan! Dari dataset, klasifikasikan setiap data kategorikal ke dalam tipe datanya **serta** lebih cocok encoding tipe apa!  "
      ]
    },
    {
      "cell_type": "markdown",
      "metadata": {
        "id": "g-NAIBZRhBQ-"
      },
      "source": [
        "Perbedaan utama antara Label Encoding dan One-Hot Encoding terletak pada representasi angka yang dihasilkan dan bagaimana representasi tersebut memengaruhi model machine learning yang digunakan. Kedua teknik ini digunakan untuk mengubah data kategorikal menjadi format yang bisa dipahami oleh algoritma machine learning, tetapi mereka melakukannya dengan cara yang berbeda.\n",
        "\n",
        "Label Encoding\n",
        "1. Representasi: Mengubah setiap kategori menjadi angka secara berurutan mulai dari 0 hingga N-1, di mana N adalah jumlah kategori. Misalnya, jika ada tiga kategori ('Merah', 'Biru', 'Hijau'), mereka mungkin di-encode sebagai 0, 1, 2.\n",
        "2. Tipe Data yang Cocok: Cocok untuk variabel kategorikal ordinal, di mana urutan kategorinya penting, seperti 'rendah', 'sedang', 'tinggi'.\n",
        "3. Kekurangan: Model mungkin salah menginterpretasikan nilai numerik sebagai memiliki urutan atau pentingnya (misalnya, 'tinggi' > 'sedang' > 'rendah'), yang tidak selalu diinginkan untuk variabel kategorikal nominal.\n",
        "\n",
        "One-Hot Encoding\n",
        "1. Representasi: Membuat kolom baru untuk setiap kategori, di mana hanya satu kolom yang aktif (nilai 1) untuk setiap observasi dan sisanya 0. Misalnya, 'Merah' mungkin diwakili sebagai [1, 0, 0], 'Biru' sebagai [0, 1, 0], dan 'Hijau' sebagai [0, 0, 1].\n",
        "2. Tipe Data yang Cocok: Cocok untuk variabel kategorikal nominal, di mana tidak ada urutan alami di antara kategori.\n",
        "3. Kekurangan: Menambah banyak kolom ke dataset, yang bisa menyebabkan dimensi data yang sangat besar dengan banyak kategori (disebut sebagai \"curse of dimensionality\").\n"
      ]
    },
    {
      "cell_type": "markdown",
      "metadata": {
        "id": "YkuaX2zDhBQ-"
      },
      "source": [
        "### Soal 4b\n",
        "Pada atribut `Location` & `Brand`, mengapa keduanya secara umum tidak cocok menggunakan LabelEncoding? Berikan alasan mengapa pada kasus tertentu tipe data tersebut bisa saja dilakukan LabelEncoding! <br>\n",
        "**Hint:** Dimensi"
      ]
    },
    {
      "cell_type": "markdown",
      "metadata": {
        "id": "psoHHpaehBQ-"
      },
      "source": [
        "Atribut \"Location\" dan \"Brand\" pada umumnya tidak cocok menggunakan LabelEncoding karena kedua atribut tersebut merupakan tipe data kategorikal nominal, yang berarti kategori-kategori dalam atribut tersebut tidak memiliki urutan atau hierarki yang inheren. Penggunaan LabelEncoding pada tipe data ini dapat menimbulkan masalah karena algoritma machine learning mungkin menginterpretasikan nilai-nilai numerik hasil encoding sebagai memiliki urutan atau pentingnya, yang tidak sesuai dengan sifat asli data.\n",
        "\n",
        "Alasan Mengapa Tidak Cocok:\n",
        "1. Interpretasi Model: Model bisa salah mengasumsikan adanya hubungan ordinal atau hierarki pada data, yang tidak ada pada kenyataannya. Misalnya, jika \"Location\" di-encode sebagai angka dan Jakarta memiliki kode lebih rendah dari Bandung, model mungkin menganggap Jakarta < Bandung, yang tidak memiliki makna dalam konteks lokasi.\n",
        "\n",
        "2. Pengaruh pada Performa: Ini bisa berdampak pada performa model, terutama untuk algoritma yang sensitif terhadap distribusi dan skala data, seperti Linear Regression, Logistic Regression, dan model berbasis jarak lainnya.\n"
      ]
    },
    {
      "cell_type": "markdown",
      "metadata": {
        "id": "tNEbdtZ9hBQ-"
      },
      "source": [
        "### Soal 4c\n",
        "Bacalah dua sumber berikut:\n",
        "- https://www.analyticsvidhya.com/blog/2020/08/types-of-categorical-data-encoding/\n",
        "- https://contrib.scikit-learn.org/category_encoders/ dokumentasi library`category_encoder`\n",
        "<br> <br>\n",
        "Lengkapi kode berikut untuk mengimplementasikan salah satu tipe encoder selain LabelEncoder atau OneHotEncoder dari library untuk variabel `Location` & `Brand`, alasan singkat Anda menggunakan tipe encoder tersebut **serta** kemungkinan kekurangan dari encoder yang dipakai!"
      ]
    },
    {
      "cell_type": "code",
      "execution_count": null,
      "metadata": {
        "colab": {
          "base_uri": "https://localhost:8080/",
          "height": 226
        },
        "id": "RZjqetiAhBQ-",
        "outputId": "24072253-800f-4527-e5bc-c727d768bbb8"
      },
      "outputs": [
        {
          "output_type": "execute_result",
          "data": {
            "text/plain": [
              "   Location_0  Location_1  Location_2  Location_3  Year  Kilometers_Driven  \\\n",
              "0           0           0           0           1  2012           155566.0   \n",
              "1           0           0           1           0  2014            74000.0   \n",
              "2           0           0           1           1  2018            53000.0   \n",
              "3           0           1           0           0  2013            51000.0   \n",
              "4           0           1           0           0  2012            51920.0   \n",
              "\n",
              "  Fuel_Type Transmission Owner_Type  Mileage  Engine   Power  Seats  Price  \\\n",
              "0    Diesel       Manual     Second     9.50  2835.0  118.60    6.0   9.15   \n",
              "1    Diesel       Manual     Second    25.10  1498.0   98.60    5.0   6.40   \n",
              "2    Diesel       Manual      First    19.67  1582.0  126.20    5.0  13.34   \n",
              "3    Diesel    Automatic      First    19.50  1582.0  126.24    5.0   8.75   \n",
              "4    Petrol       Manual      First    18.16  1497.0  116.30    5.0   4.25   \n",
              "\n",
              "   Brand_0  Brand_1  Brand_2  Brand_3  Brand_4  \n",
              "0        0        0        0        0        1  \n",
              "1        0        0        0        1        0  \n",
              "2        0        0        0        1        1  \n",
              "3        0        0        0        1        1  \n",
              "4        0        0        0        1        0  "
            ],
            "text/html": [
              "\n",
              "  <div id=\"df-7b11d6f1-8362-454e-8077-0e38f946fd31\" class=\"colab-df-container\">\n",
              "    <div>\n",
              "<style scoped>\n",
              "    .dataframe tbody tr th:only-of-type {\n",
              "        vertical-align: middle;\n",
              "    }\n",
              "\n",
              "    .dataframe tbody tr th {\n",
              "        vertical-align: top;\n",
              "    }\n",
              "\n",
              "    .dataframe thead th {\n",
              "        text-align: right;\n",
              "    }\n",
              "</style>\n",
              "<table border=\"1\" class=\"dataframe\">\n",
              "  <thead>\n",
              "    <tr style=\"text-align: right;\">\n",
              "      <th></th>\n",
              "      <th>Location_0</th>\n",
              "      <th>Location_1</th>\n",
              "      <th>Location_2</th>\n",
              "      <th>Location_3</th>\n",
              "      <th>Year</th>\n",
              "      <th>Kilometers_Driven</th>\n",
              "      <th>Fuel_Type</th>\n",
              "      <th>Transmission</th>\n",
              "      <th>Owner_Type</th>\n",
              "      <th>Mileage</th>\n",
              "      <th>Engine</th>\n",
              "      <th>Power</th>\n",
              "      <th>Seats</th>\n",
              "      <th>Price</th>\n",
              "      <th>Brand_0</th>\n",
              "      <th>Brand_1</th>\n",
              "      <th>Brand_2</th>\n",
              "      <th>Brand_3</th>\n",
              "      <th>Brand_4</th>\n",
              "    </tr>\n",
              "  </thead>\n",
              "  <tbody>\n",
              "    <tr>\n",
              "      <th>0</th>\n",
              "      <td>0</td>\n",
              "      <td>0</td>\n",
              "      <td>0</td>\n",
              "      <td>1</td>\n",
              "      <td>2012</td>\n",
              "      <td>155566.0</td>\n",
              "      <td>Diesel</td>\n",
              "      <td>Manual</td>\n",
              "      <td>Second</td>\n",
              "      <td>9.50</td>\n",
              "      <td>2835.0</td>\n",
              "      <td>118.60</td>\n",
              "      <td>6.0</td>\n",
              "      <td>9.15</td>\n",
              "      <td>0</td>\n",
              "      <td>0</td>\n",
              "      <td>0</td>\n",
              "      <td>0</td>\n",
              "      <td>1</td>\n",
              "    </tr>\n",
              "    <tr>\n",
              "      <th>1</th>\n",
              "      <td>0</td>\n",
              "      <td>0</td>\n",
              "      <td>1</td>\n",
              "      <td>0</td>\n",
              "      <td>2014</td>\n",
              "      <td>74000.0</td>\n",
              "      <td>Diesel</td>\n",
              "      <td>Manual</td>\n",
              "      <td>Second</td>\n",
              "      <td>25.10</td>\n",
              "      <td>1498.0</td>\n",
              "      <td>98.60</td>\n",
              "      <td>5.0</td>\n",
              "      <td>6.40</td>\n",
              "      <td>0</td>\n",
              "      <td>0</td>\n",
              "      <td>0</td>\n",
              "      <td>1</td>\n",
              "      <td>0</td>\n",
              "    </tr>\n",
              "    <tr>\n",
              "      <th>2</th>\n",
              "      <td>0</td>\n",
              "      <td>0</td>\n",
              "      <td>1</td>\n",
              "      <td>1</td>\n",
              "      <td>2018</td>\n",
              "      <td>53000.0</td>\n",
              "      <td>Diesel</td>\n",
              "      <td>Manual</td>\n",
              "      <td>First</td>\n",
              "      <td>19.67</td>\n",
              "      <td>1582.0</td>\n",
              "      <td>126.20</td>\n",
              "      <td>5.0</td>\n",
              "      <td>13.34</td>\n",
              "      <td>0</td>\n",
              "      <td>0</td>\n",
              "      <td>0</td>\n",
              "      <td>1</td>\n",
              "      <td>1</td>\n",
              "    </tr>\n",
              "    <tr>\n",
              "      <th>3</th>\n",
              "      <td>0</td>\n",
              "      <td>1</td>\n",
              "      <td>0</td>\n",
              "      <td>0</td>\n",
              "      <td>2013</td>\n",
              "      <td>51000.0</td>\n",
              "      <td>Diesel</td>\n",
              "      <td>Automatic</td>\n",
              "      <td>First</td>\n",
              "      <td>19.50</td>\n",
              "      <td>1582.0</td>\n",
              "      <td>126.24</td>\n",
              "      <td>5.0</td>\n",
              "      <td>8.75</td>\n",
              "      <td>0</td>\n",
              "      <td>0</td>\n",
              "      <td>0</td>\n",
              "      <td>1</td>\n",
              "      <td>1</td>\n",
              "    </tr>\n",
              "    <tr>\n",
              "      <th>4</th>\n",
              "      <td>0</td>\n",
              "      <td>1</td>\n",
              "      <td>0</td>\n",
              "      <td>0</td>\n",
              "      <td>2012</td>\n",
              "      <td>51920.0</td>\n",
              "      <td>Petrol</td>\n",
              "      <td>Manual</td>\n",
              "      <td>First</td>\n",
              "      <td>18.16</td>\n",
              "      <td>1497.0</td>\n",
              "      <td>116.30</td>\n",
              "      <td>5.0</td>\n",
              "      <td>4.25</td>\n",
              "      <td>0</td>\n",
              "      <td>0</td>\n",
              "      <td>0</td>\n",
              "      <td>1</td>\n",
              "      <td>0</td>\n",
              "    </tr>\n",
              "  </tbody>\n",
              "</table>\n",
              "</div>\n",
              "    <div class=\"colab-df-buttons\">\n",
              "\n",
              "  <div class=\"colab-df-container\">\n",
              "    <button class=\"colab-df-convert\" onclick=\"convertToInteractive('df-7b11d6f1-8362-454e-8077-0e38f946fd31')\"\n",
              "            title=\"Convert this dataframe to an interactive table.\"\n",
              "            style=\"display:none;\">\n",
              "\n",
              "  <svg xmlns=\"http://www.w3.org/2000/svg\" height=\"24px\" viewBox=\"0 -960 960 960\">\n",
              "    <path d=\"M120-120v-720h720v720H120Zm60-500h600v-160H180v160Zm220 220h160v-160H400v160Zm0 220h160v-160H400v160ZM180-400h160v-160H180v160Zm440 0h160v-160H620v160ZM180-180h160v-160H180v160Zm440 0h160v-160H620v160Z\"/>\n",
              "  </svg>\n",
              "    </button>\n",
              "\n",
              "  <style>\n",
              "    .colab-df-container {\n",
              "      display:flex;\n",
              "      gap: 12px;\n",
              "    }\n",
              "\n",
              "    .colab-df-convert {\n",
              "      background-color: #E8F0FE;\n",
              "      border: none;\n",
              "      border-radius: 50%;\n",
              "      cursor: pointer;\n",
              "      display: none;\n",
              "      fill: #1967D2;\n",
              "      height: 32px;\n",
              "      padding: 0 0 0 0;\n",
              "      width: 32px;\n",
              "    }\n",
              "\n",
              "    .colab-df-convert:hover {\n",
              "      background-color: #E2EBFA;\n",
              "      box-shadow: 0px 1px 2px rgba(60, 64, 67, 0.3), 0px 1px 3px 1px rgba(60, 64, 67, 0.15);\n",
              "      fill: #174EA6;\n",
              "    }\n",
              "\n",
              "    .colab-df-buttons div {\n",
              "      margin-bottom: 4px;\n",
              "    }\n",
              "\n",
              "    [theme=dark] .colab-df-convert {\n",
              "      background-color: #3B4455;\n",
              "      fill: #D2E3FC;\n",
              "    }\n",
              "\n",
              "    [theme=dark] .colab-df-convert:hover {\n",
              "      background-color: #434B5C;\n",
              "      box-shadow: 0px 1px 3px 1px rgba(0, 0, 0, 0.15);\n",
              "      filter: drop-shadow(0px 1px 2px rgba(0, 0, 0, 0.3));\n",
              "      fill: #FFFFFF;\n",
              "    }\n",
              "  </style>\n",
              "\n",
              "    <script>\n",
              "      const buttonEl =\n",
              "        document.querySelector('#df-7b11d6f1-8362-454e-8077-0e38f946fd31 button.colab-df-convert');\n",
              "      buttonEl.style.display =\n",
              "        google.colab.kernel.accessAllowed ? 'block' : 'none';\n",
              "\n",
              "      async function convertToInteractive(key) {\n",
              "        const element = document.querySelector('#df-7b11d6f1-8362-454e-8077-0e38f946fd31');\n",
              "        const dataTable =\n",
              "          await google.colab.kernel.invokeFunction('convertToInteractive',\n",
              "                                                    [key], {});\n",
              "        if (!dataTable) return;\n",
              "\n",
              "        const docLinkHtml = 'Like what you see? Visit the ' +\n",
              "          '<a target=\"_blank\" href=https://colab.research.google.com/notebooks/data_table.ipynb>data table notebook</a>'\n",
              "          + ' to learn more about interactive tables.';\n",
              "        element.innerHTML = '';\n",
              "        dataTable['output_type'] = 'display_data';\n",
              "        await google.colab.output.renderOutput(dataTable, element);\n",
              "        const docLink = document.createElement('div');\n",
              "        docLink.innerHTML = docLinkHtml;\n",
              "        element.appendChild(docLink);\n",
              "      }\n",
              "    </script>\n",
              "  </div>\n",
              "\n",
              "\n",
              "<div id=\"df-f910cda5-c1d6-4c97-898a-a18e1134273d\">\n",
              "  <button class=\"colab-df-quickchart\" onclick=\"quickchart('df-f910cda5-c1d6-4c97-898a-a18e1134273d')\"\n",
              "            title=\"Suggest charts\"\n",
              "            style=\"display:none;\">\n",
              "\n",
              "<svg xmlns=\"http://www.w3.org/2000/svg\" height=\"24px\"viewBox=\"0 0 24 24\"\n",
              "     width=\"24px\">\n",
              "    <g>\n",
              "        <path d=\"M19 3H5c-1.1 0-2 .9-2 2v14c0 1.1.9 2 2 2h14c1.1 0 2-.9 2-2V5c0-1.1-.9-2-2-2zM9 17H7v-7h2v7zm4 0h-2V7h2v10zm4 0h-2v-4h2v4z\"/>\n",
              "    </g>\n",
              "</svg>\n",
              "  </button>\n",
              "\n",
              "<style>\n",
              "  .colab-df-quickchart {\n",
              "      --bg-color: #E8F0FE;\n",
              "      --fill-color: #1967D2;\n",
              "      --hover-bg-color: #E2EBFA;\n",
              "      --hover-fill-color: #174EA6;\n",
              "      --disabled-fill-color: #AAA;\n",
              "      --disabled-bg-color: #DDD;\n",
              "  }\n",
              "\n",
              "  [theme=dark] .colab-df-quickchart {\n",
              "      --bg-color: #3B4455;\n",
              "      --fill-color: #D2E3FC;\n",
              "      --hover-bg-color: #434B5C;\n",
              "      --hover-fill-color: #FFFFFF;\n",
              "      --disabled-bg-color: #3B4455;\n",
              "      --disabled-fill-color: #666;\n",
              "  }\n",
              "\n",
              "  .colab-df-quickchart {\n",
              "    background-color: var(--bg-color);\n",
              "    border: none;\n",
              "    border-radius: 50%;\n",
              "    cursor: pointer;\n",
              "    display: none;\n",
              "    fill: var(--fill-color);\n",
              "    height: 32px;\n",
              "    padding: 0;\n",
              "    width: 32px;\n",
              "  }\n",
              "\n",
              "  .colab-df-quickchart:hover {\n",
              "    background-color: var(--hover-bg-color);\n",
              "    box-shadow: 0 1px 2px rgba(60, 64, 67, 0.3), 0 1px 3px 1px rgba(60, 64, 67, 0.15);\n",
              "    fill: var(--button-hover-fill-color);\n",
              "  }\n",
              "\n",
              "  .colab-df-quickchart-complete:disabled,\n",
              "  .colab-df-quickchart-complete:disabled:hover {\n",
              "    background-color: var(--disabled-bg-color);\n",
              "    fill: var(--disabled-fill-color);\n",
              "    box-shadow: none;\n",
              "  }\n",
              "\n",
              "  .colab-df-spinner {\n",
              "    border: 2px solid var(--fill-color);\n",
              "    border-color: transparent;\n",
              "    border-bottom-color: var(--fill-color);\n",
              "    animation:\n",
              "      spin 1s steps(1) infinite;\n",
              "  }\n",
              "\n",
              "  @keyframes spin {\n",
              "    0% {\n",
              "      border-color: transparent;\n",
              "      border-bottom-color: var(--fill-color);\n",
              "      border-left-color: var(--fill-color);\n",
              "    }\n",
              "    20% {\n",
              "      border-color: transparent;\n",
              "      border-left-color: var(--fill-color);\n",
              "      border-top-color: var(--fill-color);\n",
              "    }\n",
              "    30% {\n",
              "      border-color: transparent;\n",
              "      border-left-color: var(--fill-color);\n",
              "      border-top-color: var(--fill-color);\n",
              "      border-right-color: var(--fill-color);\n",
              "    }\n",
              "    40% {\n",
              "      border-color: transparent;\n",
              "      border-right-color: var(--fill-color);\n",
              "      border-top-color: var(--fill-color);\n",
              "    }\n",
              "    60% {\n",
              "      border-color: transparent;\n",
              "      border-right-color: var(--fill-color);\n",
              "    }\n",
              "    80% {\n",
              "      border-color: transparent;\n",
              "      border-right-color: var(--fill-color);\n",
              "      border-bottom-color: var(--fill-color);\n",
              "    }\n",
              "    90% {\n",
              "      border-color: transparent;\n",
              "      border-bottom-color: var(--fill-color);\n",
              "    }\n",
              "  }\n",
              "</style>\n",
              "\n",
              "  <script>\n",
              "    async function quickchart(key) {\n",
              "      const quickchartButtonEl =\n",
              "        document.querySelector('#' + key + ' button');\n",
              "      quickchartButtonEl.disabled = true;  // To prevent multiple clicks.\n",
              "      quickchartButtonEl.classList.add('colab-df-spinner');\n",
              "      try {\n",
              "        const charts = await google.colab.kernel.invokeFunction(\n",
              "            'suggestCharts', [key], {});\n",
              "      } catch (error) {\n",
              "        console.error('Error during call to suggestCharts:', error);\n",
              "      }\n",
              "      quickchartButtonEl.classList.remove('colab-df-spinner');\n",
              "      quickchartButtonEl.classList.add('colab-df-quickchart-complete');\n",
              "    }\n",
              "    (() => {\n",
              "      let quickchartButtonEl =\n",
              "        document.querySelector('#df-f910cda5-c1d6-4c97-898a-a18e1134273d button');\n",
              "      quickchartButtonEl.style.display =\n",
              "        google.colab.kernel.accessAllowed ? 'block' : 'none';\n",
              "    })();\n",
              "  </script>\n",
              "</div>\n",
              "    </div>\n",
              "  </div>\n"
            ],
            "application/vnd.google.colaboratory.intrinsic+json": {
              "type": "dataframe",
              "variable_name": "df_cat_encoder",
              "summary": "{\n  \"name\": \"df_cat_encoder\",\n  \"rows\": 6171,\n  \"fields\": [\n    {\n      \"column\": \"Location_0\",\n      \"properties\": {\n        \"dtype\": \"number\",\n        \"std\": 0,\n        \"min\": 0,\n        \"max\": 1,\n        \"num_unique_values\": 2,\n        \"samples\": [\n          1,\n          0\n        ],\n        \"semantic_type\": \"\",\n        \"description\": \"\"\n      }\n    },\n    {\n      \"column\": \"Location_1\",\n      \"properties\": {\n        \"dtype\": \"number\",\n        \"std\": 0,\n        \"min\": 0,\n        \"max\": 1,\n        \"num_unique_values\": 2,\n        \"samples\": [\n          1,\n          0\n        ],\n        \"semantic_type\": \"\",\n        \"description\": \"\"\n      }\n    },\n    {\n      \"column\": \"Location_2\",\n      \"properties\": {\n        \"dtype\": \"number\",\n        \"std\": 0,\n        \"min\": 0,\n        \"max\": 1,\n        \"num_unique_values\": 2,\n        \"samples\": [\n          1,\n          0\n        ],\n        \"semantic_type\": \"\",\n        \"description\": \"\"\n      }\n    },\n    {\n      \"column\": \"Location_3\",\n      \"properties\": {\n        \"dtype\": \"number\",\n        \"std\": 0,\n        \"min\": 0,\n        \"max\": 1,\n        \"num_unique_values\": 2,\n        \"samples\": [\n          0,\n          1\n        ],\n        \"semantic_type\": \"\",\n        \"description\": \"\"\n      }\n    },\n    {\n      \"column\": \"Year\",\n      \"properties\": {\n        \"dtype\": \"number\",\n        \"std\": 3,\n        \"min\": 1998,\n        \"max\": 2019,\n        \"num_unique_values\": 22,\n        \"samples\": [\n          2012,\n          2011\n        ],\n        \"semantic_type\": \"\",\n        \"description\": \"\"\n      }\n    },\n    {\n      \"column\": \"Kilometers_Driven\",\n      \"properties\": {\n        \"dtype\": \"number\",\n        \"std\": 88084.70955582449,\n        \"min\": 171.0,\n        \"max\": 6500000.0,\n        \"num_unique_values\": 2080,\n        \"samples\": [\n          42021.0,\n          27417.0\n        ],\n        \"semantic_type\": \"\",\n        \"description\": \"\"\n      }\n    },\n    {\n      \"column\": \"Fuel_Type\",\n      \"properties\": {\n        \"dtype\": \"category\",\n        \"num_unique_values\": 5,\n        \"samples\": [\n          \"Petrol\",\n          \"LPG\"\n        ],\n        \"semantic_type\": \"\",\n        \"description\": \"\"\n      }\n    },\n    {\n      \"column\": \"Transmission\",\n      \"properties\": {\n        \"dtype\": \"category\",\n        \"num_unique_values\": 2,\n        \"samples\": [\n          \"Automatic\",\n          \"Manual\"\n        ],\n        \"semantic_type\": \"\",\n        \"description\": \"\"\n      }\n    },\n    {\n      \"column\": \"Owner_Type\",\n      \"properties\": {\n        \"dtype\": \"category\",\n        \"num_unique_values\": 4,\n        \"samples\": [\n          \"First\",\n          \"Fourth & Above\"\n        ],\n        \"semantic_type\": \"\",\n        \"description\": \"\"\n      }\n    },\n    {\n      \"column\": \"Mileage\",\n      \"properties\": {\n        \"dtype\": \"number\",\n        \"std\": 3.8288640906009896,\n        \"min\": 0.0,\n        \"max\": 33.54,\n        \"num_unique_values\": 405,\n        \"samples\": [\n          17.7,\n          13.93\n        ],\n        \"semantic_type\": \"\",\n        \"description\": \"\"\n      }\n    },\n    {\n      \"column\": \"Engine\",\n      \"properties\": {\n        \"dtype\": \"number\",\n        \"std\": 598.0287469091907,\n        \"min\": 72.0,\n        \"max\": 5998.0,\n        \"num_unique_values\": 146,\n        \"samples\": [\n          3197.0,\n          1395.0\n        ],\n        \"semantic_type\": \"\",\n        \"description\": \"\"\n      }\n    },\n    {\n      \"column\": \"Power\",\n      \"properties\": {\n        \"dtype\": \"number\",\n        \"std\": 53.3608281190151,\n        \"min\": 34.2,\n        \"max\": 560.0,\n        \"num_unique_values\": 369,\n        \"samples\": [\n          74.93,\n          81.86\n        ],\n        \"semantic_type\": \"\",\n        \"description\": \"\"\n      }\n    },\n    {\n      \"column\": \"Seats\",\n      \"properties\": {\n        \"dtype\": \"number\",\n        \"std\": 0.8064796431865793,\n        \"min\": 0.0,\n        \"max\": 10.0,\n        \"num_unique_values\": 9,\n        \"samples\": [\n          2.0,\n          5.0\n        ],\n        \"semantic_type\": \"\",\n        \"description\": \"\"\n      }\n    },\n    {\n      \"column\": \"Price\",\n      \"properties\": {\n        \"dtype\": \"number\",\n        \"std\": 11.15985730426561,\n        \"min\": 0.44,\n        \"max\": 160.0,\n        \"num_unique_values\": 1373,\n        \"samples\": [\n          5.21,\n          39.47\n        ],\n        \"semantic_type\": \"\",\n        \"description\": \"\"\n      }\n    },\n    {\n      \"column\": \"Brand_0\",\n      \"properties\": {\n        \"dtype\": \"number\",\n        \"std\": 0,\n        \"min\": 0,\n        \"max\": 1,\n        \"num_unique_values\": 2,\n        \"samples\": [\n          1,\n          0\n        ],\n        \"semantic_type\": \"\",\n        \"description\": \"\"\n      }\n    },\n    {\n      \"column\": \"Brand_1\",\n      \"properties\": {\n        \"dtype\": \"number\",\n        \"std\": 0,\n        \"min\": 0,\n        \"max\": 1,\n        \"num_unique_values\": 2,\n        \"samples\": [\n          1,\n          0\n        ],\n        \"semantic_type\": \"\",\n        \"description\": \"\"\n      }\n    },\n    {\n      \"column\": \"Brand_2\",\n      \"properties\": {\n        \"dtype\": \"number\",\n        \"std\": 0,\n        \"min\": 0,\n        \"max\": 1,\n        \"num_unique_values\": 2,\n        \"samples\": [\n          1,\n          0\n        ],\n        \"semantic_type\": \"\",\n        \"description\": \"\"\n      }\n    },\n    {\n      \"column\": \"Brand_3\",\n      \"properties\": {\n        \"dtype\": \"number\",\n        \"std\": 0,\n        \"min\": 0,\n        \"max\": 1,\n        \"num_unique_values\": 2,\n        \"samples\": [\n          1,\n          0\n        ],\n        \"semantic_type\": \"\",\n        \"description\": \"\"\n      }\n    },\n    {\n      \"column\": \"Brand_4\",\n      \"properties\": {\n        \"dtype\": \"number\",\n        \"std\": 0,\n        \"min\": 0,\n        \"max\": 1,\n        \"num_unique_values\": 2,\n        \"samples\": [\n          0,\n          1\n        ],\n        \"semantic_type\": \"\",\n        \"description\": \"\"\n      }\n    }\n  ]\n}"
            }
          },
          "metadata": {},
          "execution_count": 127
        }
      ],
      "source": [
        "import category_encoders as ce\n",
        "\n",
        "df_cat_encoder = df_imputed.copy()\n",
        "\n",
        "encoder = ce.BinaryEncoder(cols=['Location', 'Brand'])\n",
        "df_cat_encoder = encoder.fit_transform(df_cat_encoder)\n",
        "df_cat_encoder\n",
        "df_cat_encoder.head()"
      ]
    },
    {
      "cell_type": "markdown",
      "metadata": {
        "id": "hNqw9fP_hBQ-"
      },
      "source": [
        "Alasan Menggunakan BinaryEncoder:\n",
        "1. Efisiensi Dimensi: BinaryEncoder menghasilkan beberapa kolom biner untuk setiap variabel kategorikal yang di-encode, sehingga mengurangi dimensi data yang dihasilkan dibandingkan dengan OneHotEncoder.\n",
        "2. Memori yang Lebih Efisien: Dibandingkan dengan OneHotEncoder yang dapat menghasilkan banyak kolom tambahan, BinaryEncoder menghasilkan lebih sedikit kolom, membuatnya lebih efisien dalam hal penggunaan memori.\n",
        "\n",
        "Kemungkinan Kekurangan:\n",
        "1. Keterbatasan dalam Penanganan Kategori Baru: Jika terdapat kategori baru dalam data pengujian yang tidak muncul dalam data pelatihan, encoder tidak akan dapat mengaturnya secara tepat. Kategori baru mungkin tidak terrepresentasikan dengan baik dalam representasi biner yang telah ditentukan sebelumnya."
      ]
    },
    {
      "cell_type": "markdown",
      "metadata": {
        "id": "w9xxse4kz4lQ"
      },
      "source": [
        "## Preparation for Machine Learning Training\n",
        "**Note:** Jalankan ulang kode pada bagian ini setelah mengisi *missing values* dan menjalankan kode pada bagian Encoding!"
      ]
    },
    {
      "cell_type": "markdown",
      "metadata": {
        "id": "-g0DosLThBQ-"
      },
      "source": [
        "Kita sampai pada tahapan dimana data yang kita gunakan sudah **bersih** dari nilai-nilai duplikat, *missing values*, serta *outlier*. Namun demikian, masih terdapat beberapa langkah sebelum kita melatih model menggunakan dataset kita, diantaranya adalah:\n",
        "1. Memisahkan variabel *target* dan *predictor*. Pada dataset ini, kita memiliki satu target, yaitu **price** yang dapat diprediksi secara regresi sedangkan predictor berupa semua atribut lain.\n",
        "2. Melakukan feature scaling pada *predictor*, umumnya menggunakan *scaler* sesuai kebutuhan\n",
        "3. Memisahkan dataset menjadi *train*, *test*, *validaation* dalam proporsi tertentu. Ini akan dijelaskan pada Lab-lab selanjutnya"
      ]
    },
    {
      "cell_type": "markdown",
      "metadata": {
        "id": "dgsvl0yphBQ-"
      },
      "source": [
        "Selanjutnya kita akan memisahkan dataset menjadi `X` sebagai *predictor* dan `Y` sebagai *target*"
      ]
    },
    {
      "cell_type": "code",
      "execution_count": null,
      "metadata": {
        "id": "trx4RbVohBQ-"
      },
      "outputs": [],
      "source": [
        "df_training = df_encode.copy()\n",
        "X = df_training.drop('Price',axis=1)\n",
        "Y = df_training['Price']"
      ]
    },
    {
      "cell_type": "code",
      "execution_count": null,
      "metadata": {
        "colab": {
          "base_uri": "https://localhost:8080/",
          "height": 444
        },
        "id": "INn3Qn9JhBQ_",
        "outputId": "9edb7985-9ca0-4a20-d416-0dcfb9d38d44"
      },
      "outputs": [
        {
          "output_type": "execute_result",
          "data": {
            "text/plain": [
              "       Location  Year  Kilometers_Driven Owner_Type  Mileage  Engine   Power  \\\n",
              "0     Bangalore  2012           155566.0     Second     9.50  2835.0  118.60   \n",
              "1        Jaipur  2014            74000.0     Second    25.10  1498.0   98.60   \n",
              "2         Kochi  2018            53000.0      First    19.67  1582.0  126.20   \n",
              "3        Mumbai  2013            51000.0      First    19.50  1582.0  126.24   \n",
              "4        Mumbai  2012            51920.0      First    18.16  1497.0  116.30   \n",
              "...         ...   ...                ...        ...      ...     ...     ...   \n",
              "6212    Kolkata  2019            80000.0      First    18.16  2982.0  171.00   \n",
              "6213     Mumbai  2012            53000.0      First    15.10  2179.0  140.00   \n",
              "6215       Pune  2013            47000.0      First    18.00  1198.0   86.70   \n",
              "6216      Kochi  2019            53000.0      First    14.67  1798.0  177.46   \n",
              "6217  Hyderabad  2012            53000.0      First    20.50  1598.0  103.50   \n",
              "\n",
              "      Seats       Brand  Location_enc  Brand_enc  Owner_Order  \\\n",
              "0       6.0  Mitsubishi             1         21            2   \n",
              "1       5.0       Honda             6          9            2   \n",
              "2       5.0     Hyundai             7         10            1   \n",
              "3       5.0     Hyundai             9         10            1   \n",
              "4       5.0       Honda             9          9            1   \n",
              "...     ...         ...           ...        ...          ...   \n",
              "6212    7.0      Toyota             8         28            1   \n",
              "6213    7.0    Mahindra             9         17            1   \n",
              "6215    5.0       Honda            10          9            1   \n",
              "6216    5.0       Skoda             7         25            1   \n",
              "6217    5.0       Skoda             5         25            1   \n",
              "\n",
              "      Fuel_Type_Diesel  Fuel_Type_Electric  Fuel_Type_LPG  Fuel_Type_Petrol  \\\n",
              "0                    1                   0              0                 0   \n",
              "1                    1                   0              0                 0   \n",
              "2                    1                   0              0                 0   \n",
              "3                    1                   0              0                 0   \n",
              "4                    0                   0              0                 1   \n",
              "...                ...                 ...            ...               ...   \n",
              "6212                 1                   0              0                 0   \n",
              "6213                 1                   0              0                 0   \n",
              "6215                 0                   0              0                 1   \n",
              "6216                 0                   0              0                 1   \n",
              "6217                 1                   0              0                 0   \n",
              "\n",
              "      Transmission_Manual  Owner_Type_enc  \n",
              "0                       1               2  \n",
              "1                       1               2  \n",
              "2                       1               0  \n",
              "3                       0               0  \n",
              "4                       1               0  \n",
              "...                   ...             ...  \n",
              "6212                    1               0  \n",
              "6213                    1               0  \n",
              "6215                    1               0  \n",
              "6216                    0               0  \n",
              "6217                    1               0  \n",
              "\n",
              "[6171 rows x 18 columns]"
            ],
            "text/html": [
              "\n",
              "  <div id=\"df-a774f637-a43a-4f6f-992f-3ea6822aaab9\" class=\"colab-df-container\">\n",
              "    <div>\n",
              "<style scoped>\n",
              "    .dataframe tbody tr th:only-of-type {\n",
              "        vertical-align: middle;\n",
              "    }\n",
              "\n",
              "    .dataframe tbody tr th {\n",
              "        vertical-align: top;\n",
              "    }\n",
              "\n",
              "    .dataframe thead th {\n",
              "        text-align: right;\n",
              "    }\n",
              "</style>\n",
              "<table border=\"1\" class=\"dataframe\">\n",
              "  <thead>\n",
              "    <tr style=\"text-align: right;\">\n",
              "      <th></th>\n",
              "      <th>Location</th>\n",
              "      <th>Year</th>\n",
              "      <th>Kilometers_Driven</th>\n",
              "      <th>Owner_Type</th>\n",
              "      <th>Mileage</th>\n",
              "      <th>Engine</th>\n",
              "      <th>Power</th>\n",
              "      <th>Seats</th>\n",
              "      <th>Brand</th>\n",
              "      <th>Location_enc</th>\n",
              "      <th>Brand_enc</th>\n",
              "      <th>Owner_Order</th>\n",
              "      <th>Fuel_Type_Diesel</th>\n",
              "      <th>Fuel_Type_Electric</th>\n",
              "      <th>Fuel_Type_LPG</th>\n",
              "      <th>Fuel_Type_Petrol</th>\n",
              "      <th>Transmission_Manual</th>\n",
              "      <th>Owner_Type_enc</th>\n",
              "    </tr>\n",
              "  </thead>\n",
              "  <tbody>\n",
              "    <tr>\n",
              "      <th>0</th>\n",
              "      <td>Bangalore</td>\n",
              "      <td>2012</td>\n",
              "      <td>155566.0</td>\n",
              "      <td>Second</td>\n",
              "      <td>9.50</td>\n",
              "      <td>2835.0</td>\n",
              "      <td>118.60</td>\n",
              "      <td>6.0</td>\n",
              "      <td>Mitsubishi</td>\n",
              "      <td>1</td>\n",
              "      <td>21</td>\n",
              "      <td>2</td>\n",
              "      <td>1</td>\n",
              "      <td>0</td>\n",
              "      <td>0</td>\n",
              "      <td>0</td>\n",
              "      <td>1</td>\n",
              "      <td>2</td>\n",
              "    </tr>\n",
              "    <tr>\n",
              "      <th>1</th>\n",
              "      <td>Jaipur</td>\n",
              "      <td>2014</td>\n",
              "      <td>74000.0</td>\n",
              "      <td>Second</td>\n",
              "      <td>25.10</td>\n",
              "      <td>1498.0</td>\n",
              "      <td>98.60</td>\n",
              "      <td>5.0</td>\n",
              "      <td>Honda</td>\n",
              "      <td>6</td>\n",
              "      <td>9</td>\n",
              "      <td>2</td>\n",
              "      <td>1</td>\n",
              "      <td>0</td>\n",
              "      <td>0</td>\n",
              "      <td>0</td>\n",
              "      <td>1</td>\n",
              "      <td>2</td>\n",
              "    </tr>\n",
              "    <tr>\n",
              "      <th>2</th>\n",
              "      <td>Kochi</td>\n",
              "      <td>2018</td>\n",
              "      <td>53000.0</td>\n",
              "      <td>First</td>\n",
              "      <td>19.67</td>\n",
              "      <td>1582.0</td>\n",
              "      <td>126.20</td>\n",
              "      <td>5.0</td>\n",
              "      <td>Hyundai</td>\n",
              "      <td>7</td>\n",
              "      <td>10</td>\n",
              "      <td>1</td>\n",
              "      <td>1</td>\n",
              "      <td>0</td>\n",
              "      <td>0</td>\n",
              "      <td>0</td>\n",
              "      <td>1</td>\n",
              "      <td>0</td>\n",
              "    </tr>\n",
              "    <tr>\n",
              "      <th>3</th>\n",
              "      <td>Mumbai</td>\n",
              "      <td>2013</td>\n",
              "      <td>51000.0</td>\n",
              "      <td>First</td>\n",
              "      <td>19.50</td>\n",
              "      <td>1582.0</td>\n",
              "      <td>126.24</td>\n",
              "      <td>5.0</td>\n",
              "      <td>Hyundai</td>\n",
              "      <td>9</td>\n",
              "      <td>10</td>\n",
              "      <td>1</td>\n",
              "      <td>1</td>\n",
              "      <td>0</td>\n",
              "      <td>0</td>\n",
              "      <td>0</td>\n",
              "      <td>0</td>\n",
              "      <td>0</td>\n",
              "    </tr>\n",
              "    <tr>\n",
              "      <th>4</th>\n",
              "      <td>Mumbai</td>\n",
              "      <td>2012</td>\n",
              "      <td>51920.0</td>\n",
              "      <td>First</td>\n",
              "      <td>18.16</td>\n",
              "      <td>1497.0</td>\n",
              "      <td>116.30</td>\n",
              "      <td>5.0</td>\n",
              "      <td>Honda</td>\n",
              "      <td>9</td>\n",
              "      <td>9</td>\n",
              "      <td>1</td>\n",
              "      <td>0</td>\n",
              "      <td>0</td>\n",
              "      <td>0</td>\n",
              "      <td>1</td>\n",
              "      <td>1</td>\n",
              "      <td>0</td>\n",
              "    </tr>\n",
              "    <tr>\n",
              "      <th>...</th>\n",
              "      <td>...</td>\n",
              "      <td>...</td>\n",
              "      <td>...</td>\n",
              "      <td>...</td>\n",
              "      <td>...</td>\n",
              "      <td>...</td>\n",
              "      <td>...</td>\n",
              "      <td>...</td>\n",
              "      <td>...</td>\n",
              "      <td>...</td>\n",
              "      <td>...</td>\n",
              "      <td>...</td>\n",
              "      <td>...</td>\n",
              "      <td>...</td>\n",
              "      <td>...</td>\n",
              "      <td>...</td>\n",
              "      <td>...</td>\n",
              "      <td>...</td>\n",
              "    </tr>\n",
              "    <tr>\n",
              "      <th>6212</th>\n",
              "      <td>Kolkata</td>\n",
              "      <td>2019</td>\n",
              "      <td>80000.0</td>\n",
              "      <td>First</td>\n",
              "      <td>18.16</td>\n",
              "      <td>2982.0</td>\n",
              "      <td>171.00</td>\n",
              "      <td>7.0</td>\n",
              "      <td>Toyota</td>\n",
              "      <td>8</td>\n",
              "      <td>28</td>\n",
              "      <td>1</td>\n",
              "      <td>1</td>\n",
              "      <td>0</td>\n",
              "      <td>0</td>\n",
              "      <td>0</td>\n",
              "      <td>1</td>\n",
              "      <td>0</td>\n",
              "    </tr>\n",
              "    <tr>\n",
              "      <th>6213</th>\n",
              "      <td>Mumbai</td>\n",
              "      <td>2012</td>\n",
              "      <td>53000.0</td>\n",
              "      <td>First</td>\n",
              "      <td>15.10</td>\n",
              "      <td>2179.0</td>\n",
              "      <td>140.00</td>\n",
              "      <td>7.0</td>\n",
              "      <td>Mahindra</td>\n",
              "      <td>9</td>\n",
              "      <td>17</td>\n",
              "      <td>1</td>\n",
              "      <td>1</td>\n",
              "      <td>0</td>\n",
              "      <td>0</td>\n",
              "      <td>0</td>\n",
              "      <td>1</td>\n",
              "      <td>0</td>\n",
              "    </tr>\n",
              "    <tr>\n",
              "      <th>6215</th>\n",
              "      <td>Pune</td>\n",
              "      <td>2013</td>\n",
              "      <td>47000.0</td>\n",
              "      <td>First</td>\n",
              "      <td>18.00</td>\n",
              "      <td>1198.0</td>\n",
              "      <td>86.70</td>\n",
              "      <td>5.0</td>\n",
              "      <td>Honda</td>\n",
              "      <td>10</td>\n",
              "      <td>9</td>\n",
              "      <td>1</td>\n",
              "      <td>0</td>\n",
              "      <td>0</td>\n",
              "      <td>0</td>\n",
              "      <td>1</td>\n",
              "      <td>1</td>\n",
              "      <td>0</td>\n",
              "    </tr>\n",
              "    <tr>\n",
              "      <th>6216</th>\n",
              "      <td>Kochi</td>\n",
              "      <td>2019</td>\n",
              "      <td>53000.0</td>\n",
              "      <td>First</td>\n",
              "      <td>14.67</td>\n",
              "      <td>1798.0</td>\n",
              "      <td>177.46</td>\n",
              "      <td>5.0</td>\n",
              "      <td>Skoda</td>\n",
              "      <td>7</td>\n",
              "      <td>25</td>\n",
              "      <td>1</td>\n",
              "      <td>0</td>\n",
              "      <td>0</td>\n",
              "      <td>0</td>\n",
              "      <td>1</td>\n",
              "      <td>0</td>\n",
              "      <td>0</td>\n",
              "    </tr>\n",
              "    <tr>\n",
              "      <th>6217</th>\n",
              "      <td>Hyderabad</td>\n",
              "      <td>2012</td>\n",
              "      <td>53000.0</td>\n",
              "      <td>First</td>\n",
              "      <td>20.50</td>\n",
              "      <td>1598.0</td>\n",
              "      <td>103.50</td>\n",
              "      <td>5.0</td>\n",
              "      <td>Skoda</td>\n",
              "      <td>5</td>\n",
              "      <td>25</td>\n",
              "      <td>1</td>\n",
              "      <td>1</td>\n",
              "      <td>0</td>\n",
              "      <td>0</td>\n",
              "      <td>0</td>\n",
              "      <td>1</td>\n",
              "      <td>0</td>\n",
              "    </tr>\n",
              "  </tbody>\n",
              "</table>\n",
              "<p>6171 rows × 18 columns</p>\n",
              "</div>\n",
              "    <div class=\"colab-df-buttons\">\n",
              "\n",
              "  <div class=\"colab-df-container\">\n",
              "    <button class=\"colab-df-convert\" onclick=\"convertToInteractive('df-a774f637-a43a-4f6f-992f-3ea6822aaab9')\"\n",
              "            title=\"Convert this dataframe to an interactive table.\"\n",
              "            style=\"display:none;\">\n",
              "\n",
              "  <svg xmlns=\"http://www.w3.org/2000/svg\" height=\"24px\" viewBox=\"0 -960 960 960\">\n",
              "    <path d=\"M120-120v-720h720v720H120Zm60-500h600v-160H180v160Zm220 220h160v-160H400v160Zm0 220h160v-160H400v160ZM180-400h160v-160H180v160Zm440 0h160v-160H620v160ZM180-180h160v-160H180v160Zm440 0h160v-160H620v160Z\"/>\n",
              "  </svg>\n",
              "    </button>\n",
              "\n",
              "  <style>\n",
              "    .colab-df-container {\n",
              "      display:flex;\n",
              "      gap: 12px;\n",
              "    }\n",
              "\n",
              "    .colab-df-convert {\n",
              "      background-color: #E8F0FE;\n",
              "      border: none;\n",
              "      border-radius: 50%;\n",
              "      cursor: pointer;\n",
              "      display: none;\n",
              "      fill: #1967D2;\n",
              "      height: 32px;\n",
              "      padding: 0 0 0 0;\n",
              "      width: 32px;\n",
              "    }\n",
              "\n",
              "    .colab-df-convert:hover {\n",
              "      background-color: #E2EBFA;\n",
              "      box-shadow: 0px 1px 2px rgba(60, 64, 67, 0.3), 0px 1px 3px 1px rgba(60, 64, 67, 0.15);\n",
              "      fill: #174EA6;\n",
              "    }\n",
              "\n",
              "    .colab-df-buttons div {\n",
              "      margin-bottom: 4px;\n",
              "    }\n",
              "\n",
              "    [theme=dark] .colab-df-convert {\n",
              "      background-color: #3B4455;\n",
              "      fill: #D2E3FC;\n",
              "    }\n",
              "\n",
              "    [theme=dark] .colab-df-convert:hover {\n",
              "      background-color: #434B5C;\n",
              "      box-shadow: 0px 1px 3px 1px rgba(0, 0, 0, 0.15);\n",
              "      filter: drop-shadow(0px 1px 2px rgba(0, 0, 0, 0.3));\n",
              "      fill: #FFFFFF;\n",
              "    }\n",
              "  </style>\n",
              "\n",
              "    <script>\n",
              "      const buttonEl =\n",
              "        document.querySelector('#df-a774f637-a43a-4f6f-992f-3ea6822aaab9 button.colab-df-convert');\n",
              "      buttonEl.style.display =\n",
              "        google.colab.kernel.accessAllowed ? 'block' : 'none';\n",
              "\n",
              "      async function convertToInteractive(key) {\n",
              "        const element = document.querySelector('#df-a774f637-a43a-4f6f-992f-3ea6822aaab9');\n",
              "        const dataTable =\n",
              "          await google.colab.kernel.invokeFunction('convertToInteractive',\n",
              "                                                    [key], {});\n",
              "        if (!dataTable) return;\n",
              "\n",
              "        const docLinkHtml = 'Like what you see? Visit the ' +\n",
              "          '<a target=\"_blank\" href=https://colab.research.google.com/notebooks/data_table.ipynb>data table notebook</a>'\n",
              "          + ' to learn more about interactive tables.';\n",
              "        element.innerHTML = '';\n",
              "        dataTable['output_type'] = 'display_data';\n",
              "        await google.colab.output.renderOutput(dataTable, element);\n",
              "        const docLink = document.createElement('div');\n",
              "        docLink.innerHTML = docLinkHtml;\n",
              "        element.appendChild(docLink);\n",
              "      }\n",
              "    </script>\n",
              "  </div>\n",
              "\n",
              "\n",
              "<div id=\"df-19037395-1bd4-4934-aef4-9241cedefc43\">\n",
              "  <button class=\"colab-df-quickchart\" onclick=\"quickchart('df-19037395-1bd4-4934-aef4-9241cedefc43')\"\n",
              "            title=\"Suggest charts\"\n",
              "            style=\"display:none;\">\n",
              "\n",
              "<svg xmlns=\"http://www.w3.org/2000/svg\" height=\"24px\"viewBox=\"0 0 24 24\"\n",
              "     width=\"24px\">\n",
              "    <g>\n",
              "        <path d=\"M19 3H5c-1.1 0-2 .9-2 2v14c0 1.1.9 2 2 2h14c1.1 0 2-.9 2-2V5c0-1.1-.9-2-2-2zM9 17H7v-7h2v7zm4 0h-2V7h2v10zm4 0h-2v-4h2v4z\"/>\n",
              "    </g>\n",
              "</svg>\n",
              "  </button>\n",
              "\n",
              "<style>\n",
              "  .colab-df-quickchart {\n",
              "      --bg-color: #E8F0FE;\n",
              "      --fill-color: #1967D2;\n",
              "      --hover-bg-color: #E2EBFA;\n",
              "      --hover-fill-color: #174EA6;\n",
              "      --disabled-fill-color: #AAA;\n",
              "      --disabled-bg-color: #DDD;\n",
              "  }\n",
              "\n",
              "  [theme=dark] .colab-df-quickchart {\n",
              "      --bg-color: #3B4455;\n",
              "      --fill-color: #D2E3FC;\n",
              "      --hover-bg-color: #434B5C;\n",
              "      --hover-fill-color: #FFFFFF;\n",
              "      --disabled-bg-color: #3B4455;\n",
              "      --disabled-fill-color: #666;\n",
              "  }\n",
              "\n",
              "  .colab-df-quickchart {\n",
              "    background-color: var(--bg-color);\n",
              "    border: none;\n",
              "    border-radius: 50%;\n",
              "    cursor: pointer;\n",
              "    display: none;\n",
              "    fill: var(--fill-color);\n",
              "    height: 32px;\n",
              "    padding: 0;\n",
              "    width: 32px;\n",
              "  }\n",
              "\n",
              "  .colab-df-quickchart:hover {\n",
              "    background-color: var(--hover-bg-color);\n",
              "    box-shadow: 0 1px 2px rgba(60, 64, 67, 0.3), 0 1px 3px 1px rgba(60, 64, 67, 0.15);\n",
              "    fill: var(--button-hover-fill-color);\n",
              "  }\n",
              "\n",
              "  .colab-df-quickchart-complete:disabled,\n",
              "  .colab-df-quickchart-complete:disabled:hover {\n",
              "    background-color: var(--disabled-bg-color);\n",
              "    fill: var(--disabled-fill-color);\n",
              "    box-shadow: none;\n",
              "  }\n",
              "\n",
              "  .colab-df-spinner {\n",
              "    border: 2px solid var(--fill-color);\n",
              "    border-color: transparent;\n",
              "    border-bottom-color: var(--fill-color);\n",
              "    animation:\n",
              "      spin 1s steps(1) infinite;\n",
              "  }\n",
              "\n",
              "  @keyframes spin {\n",
              "    0% {\n",
              "      border-color: transparent;\n",
              "      border-bottom-color: var(--fill-color);\n",
              "      border-left-color: var(--fill-color);\n",
              "    }\n",
              "    20% {\n",
              "      border-color: transparent;\n",
              "      border-left-color: var(--fill-color);\n",
              "      border-top-color: var(--fill-color);\n",
              "    }\n",
              "    30% {\n",
              "      border-color: transparent;\n",
              "      border-left-color: var(--fill-color);\n",
              "      border-top-color: var(--fill-color);\n",
              "      border-right-color: var(--fill-color);\n",
              "    }\n",
              "    40% {\n",
              "      border-color: transparent;\n",
              "      border-right-color: var(--fill-color);\n",
              "      border-top-color: var(--fill-color);\n",
              "    }\n",
              "    60% {\n",
              "      border-color: transparent;\n",
              "      border-right-color: var(--fill-color);\n",
              "    }\n",
              "    80% {\n",
              "      border-color: transparent;\n",
              "      border-right-color: var(--fill-color);\n",
              "      border-bottom-color: var(--fill-color);\n",
              "    }\n",
              "    90% {\n",
              "      border-color: transparent;\n",
              "      border-bottom-color: var(--fill-color);\n",
              "    }\n",
              "  }\n",
              "</style>\n",
              "\n",
              "  <script>\n",
              "    async function quickchart(key) {\n",
              "      const quickchartButtonEl =\n",
              "        document.querySelector('#' + key + ' button');\n",
              "      quickchartButtonEl.disabled = true;  // To prevent multiple clicks.\n",
              "      quickchartButtonEl.classList.add('colab-df-spinner');\n",
              "      try {\n",
              "        const charts = await google.colab.kernel.invokeFunction(\n",
              "            'suggestCharts', [key], {});\n",
              "      } catch (error) {\n",
              "        console.error('Error during call to suggestCharts:', error);\n",
              "      }\n",
              "      quickchartButtonEl.classList.remove('colab-df-spinner');\n",
              "      quickchartButtonEl.classList.add('colab-df-quickchart-complete');\n",
              "    }\n",
              "    (() => {\n",
              "      let quickchartButtonEl =\n",
              "        document.querySelector('#df-19037395-1bd4-4934-aef4-9241cedefc43 button');\n",
              "      quickchartButtonEl.style.display =\n",
              "        google.colab.kernel.accessAllowed ? 'block' : 'none';\n",
              "    })();\n",
              "  </script>\n",
              "</div>\n",
              "    </div>\n",
              "  </div>\n"
            ],
            "application/vnd.google.colaboratory.intrinsic+json": {
              "type": "dataframe",
              "variable_name": "X",
              "summary": "{\n  \"name\": \"X\",\n  \"rows\": 6171,\n  \"fields\": [\n    {\n      \"column\": \"Location\",\n      \"properties\": {\n        \"dtype\": \"category\",\n        \"num_unique_values\": 11,\n        \"samples\": [\n          \"Ahmedabad\",\n          \"Bangalore\",\n          \"Pune\"\n        ],\n        \"semantic_type\": \"\",\n        \"description\": \"\"\n      }\n    },\n    {\n      \"column\": \"Year\",\n      \"properties\": {\n        \"dtype\": \"number\",\n        \"std\": 3,\n        \"min\": 1998,\n        \"max\": 2019,\n        \"num_unique_values\": 22,\n        \"samples\": [\n          2012,\n          2011,\n          2008\n        ],\n        \"semantic_type\": \"\",\n        \"description\": \"\"\n      }\n    },\n    {\n      \"column\": \"Kilometers_Driven\",\n      \"properties\": {\n        \"dtype\": \"number\",\n        \"std\": 88084.70955582449,\n        \"min\": 171.0,\n        \"max\": 6500000.0,\n        \"num_unique_values\": 2080,\n        \"samples\": [\n          42021.0,\n          27417.0,\n          59270.0\n        ],\n        \"semantic_type\": \"\",\n        \"description\": \"\"\n      }\n    },\n    {\n      \"column\": \"Owner_Type\",\n      \"properties\": {\n        \"dtype\": \"category\",\n        \"num_unique_values\": 4,\n        \"samples\": [\n          \"First\",\n          \"Fourth & Above\",\n          \"Second\"\n        ],\n        \"semantic_type\": \"\",\n        \"description\": \"\"\n      }\n    },\n    {\n      \"column\": \"Mileage\",\n      \"properties\": {\n        \"dtype\": \"number\",\n        \"std\": 3.8288640906009896,\n        \"min\": 0.0,\n        \"max\": 33.54,\n        \"num_unique_values\": 405,\n        \"samples\": [\n          17.7,\n          13.93,\n          25.6\n        ],\n        \"semantic_type\": \"\",\n        \"description\": \"\"\n      }\n    },\n    {\n      \"column\": \"Engine\",\n      \"properties\": {\n        \"dtype\": \"number\",\n        \"std\": 598.0287469091907,\n        \"min\": 72.0,\n        \"max\": 5998.0,\n        \"num_unique_values\": 146,\n        \"samples\": [\n          3197.0,\n          1395.0,\n          1086.0\n        ],\n        \"semantic_type\": \"\",\n        \"description\": \"\"\n      }\n    },\n    {\n      \"column\": \"Power\",\n      \"properties\": {\n        \"dtype\": \"number\",\n        \"std\": 53.3608281190151,\n        \"min\": 34.2,\n        \"max\": 560.0,\n        \"num_unique_values\": 369,\n        \"samples\": [\n          74.93,\n          81.86,\n          103.2\n        ],\n        \"semantic_type\": \"\",\n        \"description\": \"\"\n      }\n    },\n    {\n      \"column\": \"Seats\",\n      \"properties\": {\n        \"dtype\": \"number\",\n        \"std\": 0.8064796431865793,\n        \"min\": 0.0,\n        \"max\": 10.0,\n        \"num_unique_values\": 9,\n        \"samples\": [\n          2.0,\n          5.0,\n          0.0\n        ],\n        \"semantic_type\": \"\",\n        \"description\": \"\"\n      }\n    },\n    {\n      \"column\": \"Brand\",\n      \"properties\": {\n        \"dtype\": \"category\",\n        \"num_unique_values\": 31,\n        \"samples\": [\n          \"ISUZU\",\n          \"Toyota\",\n          \"Datsun\"\n        ],\n        \"semantic_type\": \"\",\n        \"description\": \"\"\n      }\n    },\n    {\n      \"column\": \"Location_enc\",\n      \"properties\": {\n        \"dtype\": \"number\",\n        \"std\": 2,\n        \"min\": 0,\n        \"max\": 10,\n        \"num_unique_values\": 11,\n        \"samples\": [\n          0,\n          1,\n          10\n        ],\n        \"semantic_type\": \"\",\n        \"description\": \"\"\n      }\n    },\n    {\n      \"column\": \"Brand_enc\",\n      \"properties\": {\n        \"dtype\": \"number\",\n        \"std\": 8,\n        \"min\": 0,\n        \"max\": 30,\n        \"num_unique_values\": 31,\n        \"samples\": [\n          11,\n          28,\n          5\n        ],\n        \"semantic_type\": \"\",\n        \"description\": \"\"\n      }\n    },\n    {\n      \"column\": \"Owner_Order\",\n      \"properties\": {\n        \"dtype\": \"number\",\n        \"std\": 0,\n        \"min\": 1,\n        \"max\": 4,\n        \"num_unique_values\": 4,\n        \"samples\": [\n          1,\n          4,\n          2\n        ],\n        \"semantic_type\": \"\",\n        \"description\": \"\"\n      }\n    },\n    {\n      \"column\": \"Fuel_Type_Diesel\",\n      \"properties\": {\n        \"dtype\": \"uint8\",\n        \"num_unique_values\": 2,\n        \"samples\": [\n          0,\n          1\n        ],\n        \"semantic_type\": \"\",\n        \"description\": \"\"\n      }\n    },\n    {\n      \"column\": \"Fuel_Type_Electric\",\n      \"properties\": {\n        \"dtype\": \"uint8\",\n        \"num_unique_values\": 2,\n        \"samples\": [\n          1,\n          0\n        ],\n        \"semantic_type\": \"\",\n        \"description\": \"\"\n      }\n    },\n    {\n      \"column\": \"Fuel_Type_LPG\",\n      \"properties\": {\n        \"dtype\": \"uint8\",\n        \"num_unique_values\": 2,\n        \"samples\": [\n          1,\n          0\n        ],\n        \"semantic_type\": \"\",\n        \"description\": \"\"\n      }\n    },\n    {\n      \"column\": \"Fuel_Type_Petrol\",\n      \"properties\": {\n        \"dtype\": \"uint8\",\n        \"num_unique_values\": 2,\n        \"samples\": [\n          1,\n          0\n        ],\n        \"semantic_type\": \"\",\n        \"description\": \"\"\n      }\n    },\n    {\n      \"column\": \"Transmission_Manual\",\n      \"properties\": {\n        \"dtype\": \"uint8\",\n        \"num_unique_values\": 2,\n        \"samples\": [\n          0,\n          1\n        ],\n        \"semantic_type\": \"\",\n        \"description\": \"\"\n      }\n    },\n    {\n      \"column\": \"Owner_Type_enc\",\n      \"properties\": {\n        \"dtype\": \"number\",\n        \"std\": 0,\n        \"min\": 0,\n        \"max\": 3,\n        \"num_unique_values\": 4,\n        \"samples\": [\n          0,\n          1\n        ],\n        \"semantic_type\": \"\",\n        \"description\": \"\"\n      }\n    }\n  ]\n}"
            }
          },
          "metadata": {},
          "execution_count": 145
        }
      ],
      "source": [
        "X"
      ]
    },
    {
      "cell_type": "code",
      "execution_count": null,
      "metadata": {
        "colab": {
          "base_uri": "https://localhost:8080/"
        },
        "id": "_DIGhYMDhBQ_",
        "outputId": "6240958c-450f-4d15-9930-fa475a587b21"
      },
      "outputs": [
        {
          "output_type": "execute_result",
          "data": {
            "text/plain": [
              "0        9.15\n",
              "1        6.40\n",
              "2       13.34\n",
              "3        8.75\n",
              "4        4.25\n",
              "        ...  \n",
              "6212     8.99\n",
              "6213     7.90\n",
              "6215     4.15\n",
              "6216    27.30\n",
              "6217     3.65\n",
              "Name: Price, Length: 6171, dtype: float64"
            ]
          },
          "metadata": {},
          "execution_count": 85
        }
      ],
      "source": [
        "Y"
      ]
    },
    {
      "cell_type": "markdown",
      "metadata": {
        "id": "hjdFILTFhBQ_"
      },
      "source": [
        "**Note:** penting bahwa index keduanya bersesuaian dengan dataset awal agar hasil prediksi sesuai"
      ]
    },
    {
      "cell_type": "markdown",
      "metadata": {
        "id": "FiVawMEehBQ_"
      },
      "source": [
        "Selanjutnya kita dapat melakukan feature scaling data."
      ]
    },
    {
      "cell_type": "markdown",
      "metadata": {
        "id": "RTjPcolrhBQ_"
      },
      "source": [
        "Berikut merupakan beberapa kegunaan melakukan feature scaling data:\n",
        "\n",
        "1. Menyetarakan range data yang sangat berbeda antar variabel\n",
        "2. Mengurangi penggunaan memori karena penggunaan angka yang cenderung kecil\n",
        "3. Mempercepat jalannya prediksi pada model prediksi tertentu\n",
        "4. Mempengaruhi performa model prediksi (regresi, klasifikasi) tertentu\n",
        "5. Menyetarakan *range* data yang sangat berbeda antar variabel\n",
        "6. Mengurangi dampak outliers pada prediksi"
      ]
    },
    {
      "cell_type": "markdown",
      "metadata": {
        "id": "h3eFFPYlhBQ_"
      },
      "source": [
        "### Soal 5a\n",
        "Buatlah implementasi kode feature scaling pada `X` menggunakan salah satu Scaler yang terdapat di dokumentasi `scikit-learn` berikut: https://scikit-learn.org/stable/modules/preprocessing.html#standardization-or-mean-removal-and-variance-scaling"
      ]
    },
    {
      "cell_type": "code",
      "execution_count": null,
      "metadata": {
        "colab": {
          "base_uri": "https://localhost:8080/"
        },
        "id": "-T6QyPD1hBQ_",
        "outputId": "59695b77-4bdb-46c4-d467-5422ef89ff37"
      },
      "outputs": [
        {
          "output_type": "stream",
          "name": "stdout",
          "text": [
            "[[-0.4152334542036135 1.1142050273483863 -2.2590602265367927 ... 0 0 1]\n",
            " [0.1973426026671228 0.18813499737288283 1.8155853500984227 ... 0 0 1]\n",
            " [1.4224947164085955 -0.05029119282261006 0.3972952551542422 ... 0 0 1]\n",
            " ...\n",
            " [-0.10894542576824535 -0.11841296144989376 -0.038900777729143465 ... 0 1\n",
            "  1]\n",
            " [1.7287827448439637 -0.05029119282261006 -0.908680891203199 ... 0 1 0]\n",
            " [-0.4152334542036135 -0.05029119282261006 0.6140872954495769 ... 0 0 1]]\n"
          ]
        }
      ],
      "source": [
        "from sklearn.preprocessing import StandardScaler\n",
        "from sklearn.compose import ColumnTransformer\n",
        "from sklearn.pipeline import Pipeline\n",
        "\n",
        "numeric_features = X.select_dtypes(include=['float64', 'int64']).columns\n",
        "\n",
        "numeric_transformer = Pipeline(steps=[\n",
        "    ('scaler', StandardScaler())])\n",
        "\n",
        "preprocessor = ColumnTransformer(\n",
        "    transformers=[\n",
        "        ('num', numeric_transformer, numeric_features)],\n",
        "    remainder='passthrough')\n",
        "\n",
        "X_scaled = preprocessor.fit_transform(X)\n",
        "\n",
        "print(X_scaled)"
      ]
    },
    {
      "cell_type": "markdown",
      "metadata": {
        "id": "8alXDBychBQ_"
      },
      "source": [
        "### Soal 5b\n",
        "Berikan beberapa alasan singkat mengapa Anda menggunakan tipe scaler yang Anda pilih pada **Soal 5a**"
      ]
    },
    {
      "cell_type": "markdown",
      "metadata": {
        "id": "fF9ahWdzhBQ_"
      },
      "source": [
        "Metode Standard Scaler cocok digunakan karena fitur-fitur numerik pada dataset ini memiliki distribusi yang cukup bervariasi dan tidak terikat pada rentang nilai tertentu. Dengan menggunakan Standard Scaler, data akan dibawa ke dalam skala yang sama, yaitu dengan mean nol dan varians satu, yang memungkinkan model machine learning untuk lebih efektif dalam menangkap pola-pola yang ada dalam data. Selain itu, teknik ini juga relatif stabil terhadap adanya outliers, karena metode ini berfokus pada mean dan standar deviasi."
      ]
    },
    {
      "cell_type": "markdown",
      "metadata": {
        "id": "7E2CQDb-pzFQ"
      },
      "source": [
        "# Dimensionality Reduction\n"
      ]
    },
    {
      "cell_type": "markdown",
      "metadata": {
        "id": "f4JPuXUthBQ_"
      },
      "source": [
        "Pada analisis data dan *machine learning*, dimensionality reduction, sesuai namanya, mengacu pada teknik untuk mengurangi dimensi data namun berusaha untuk **memaksimalkan** informasi yang dapat dipertahankan."
      ]
    },
    {
      "cell_type": "markdown",
      "metadata": {
        "id": "uDYegQ_shBQ_"
      },
      "source": [
        "Teknik dimensionality reduction terbagi menjadi dua kategori besar:\n",
        "1. Feature Selection: mencari sekelompok fitur-fitur yang paling relevan untuk prediksi. Contohnya:\n",
        "    * Filter methods\n",
        "    * Wrapper methods\n",
        "    * Embedded methods\n",
        "2. Feature Extraction: melakukan pemetaan suatu atribut menjadi atribut lain untuk mengurangi dimensi. Contohnya:\n",
        "    * Principal Component Analysis (PCA)\n",
        "    * Singular Value Decomposition (SVD)\n",
        "    * Linear Discriminant Analysis (LDA)"
      ]
    },
    {
      "cell_type": "markdown",
      "metadata": {
        "id": "5z86HMY-Jaa3"
      },
      "source": [
        "## Principal Component Analysis (PCA)"
      ]
    },
    {
      "cell_type": "markdown",
      "metadata": {
        "id": "3njcqa6ihBRA"
      },
      "source": [
        "Merupakan salah satu teknik dimensionality reduction. Teknik ini pertama kali dikembangkan oleh Karl Pearson pada 1901. Cara kerjanya adalah mengindentifikasi vektor-vektor ortogonal yang disebut sebagai *principal components* yang mencoba menangkap variansi secara maksimal. <br> <br> *principal components* pertama menangkap variansi terbesar pada data, *principal components* kedua menangkap variansi maximum yang *orthogonal* dari *principal components* pertama, dan seterusnya. Variansi data dapat ditangkap secara sempurna ketika jumlah *principal components* = jumlah dimensi. **Namun,** pada sebagian besar kasus, terutama data dengan dimensi yang sangat besar, variansi data dapat ditangkap secara cukup menggunakan jumlah *principal components* yang relatif kecil."
      ]
    },
    {
      "cell_type": "markdown",
      "metadata": {
        "id": "W01ZTA3QhBRA"
      },
      "source": [
        "PCA memanfaatkan konsep kombinasi linear, eigenvektor, dan eigenvalues untuk menggabungkan fitur-fitur untuk membuat *principal components* yang dapat menangkap variansi secara efisien"
      ]
    },
    {
      "cell_type": "markdown",
      "metadata": {
        "id": "jTcm9YvvhBRA"
      },
      "source": [
        "#### Tahapan implementasi PCA menggunakan scikit-learn"
      ]
    },
    {
      "cell_type": "markdown",
      "metadata": {
        "id": "9TZcvSMNhBRA"
      },
      "source": [
        "Library `scikit-learn` telah menyediakan modul `decomposition` yang dapat digunakan untuk melakukan PCA.\n",
        "\n",
        "Dokumentasi lebih lanjut dapat dilihat di https://scikit-learn.org/stable/modules/generated/sklearn.decomposition.PCA.html"
      ]
    },
    {
      "cell_type": "markdown",
      "metadata": {
        "id": "xQHuMRW1hBRA"
      },
      "source": [
        "1. Import data dan library"
      ]
    },
    {
      "cell_type": "code",
      "execution_count": null,
      "metadata": {
        "id": "coAfmE-thBRA",
        "colab": {
          "base_uri": "https://localhost:8080/"
        },
        "outputId": "f80f7112-1da4-4262-f52e-18768a701cf7"
      },
      "outputs": [
        {
          "output_type": "stream",
          "name": "stdout",
          "text": [
            "(569, 30)\n"
          ]
        }
      ],
      "source": [
        "from sklearn.datasets import load_breast_cancer\n",
        "from sklearn.decomposition import PCA\n",
        "from sklearn.preprocessing import StandardScaler\n",
        "\n",
        "\n",
        "cancer = load_breast_cancer()\n",
        "df_cancer = pd.DataFrame(cancer['data'],columns=cancer['feature_names'])\n",
        "\n",
        "# mengukur shape input\n",
        "print(df_cancer.shape)"
      ]
    },
    {
      "cell_type": "markdown",
      "metadata": {
        "id": "MNhHNsP-hBRA"
      },
      "source": [
        "Terlihat bahwa dimensi data cukup besar, yaitu 30."
      ]
    },
    {
      "cell_type": "markdown",
      "metadata": {
        "id": "ggVGc65ZhBRA"
      },
      "source": [
        "2. Melakukan standarisasi"
      ]
    },
    {
      "cell_type": "code",
      "execution_count": null,
      "metadata": {
        "id": "pFk1pC5YhBRA"
      },
      "outputs": [],
      "source": [
        "scaler = StandardScaler()\n",
        "scaler.fit(df_cancer)\n",
        "scaled_data = scaler.transform(df_cancer)"
      ]
    },
    {
      "cell_type": "markdown",
      "metadata": {
        "id": "XmIwbYvVhBRA"
      },
      "source": [
        "3. Melakukan fitting PCA"
      ]
    },
    {
      "cell_type": "code",
      "execution_count": null,
      "metadata": {
        "id": "dem6gXNWhBRA"
      },
      "outputs": [],
      "source": [
        "pca = PCA(n_components=2)\n",
        "# Disini kita bisa menentukan jumlah dimensi/komponen yang dipertahankan, secara default semua dimensi/komponen dipertahankan\n",
        "\n",
        "pca.fit(scaled_data)\n",
        "transformed = pca.transform(scaled_data)"
      ]
    },
    {
      "cell_type": "markdown",
      "metadata": {
        "id": "-bBXSeS3Jp-n"
      },
      "source": [
        "### Soal 6a\n",
        "Jika ini adalah proyek analisis data pribadi Anda, apakah Anda akan melakukan standarisasi pada dataset pada tahapan sebelum melakukan fitting PCA? Jelaskan alasan Anda!"
      ]
    },
    {
      "cell_type": "code",
      "execution_count": null,
      "metadata": {
        "id": "BmoohGtKhBRA",
        "colab": {
          "base_uri": "https://localhost:8080/",
          "height": 478
        },
        "outputId": "14a9370c-c7a0-41cf-bb18-f7fb5d385829"
      },
      "outputs": [
        {
          "output_type": "execute_result",
          "data": {
            "text/plain": [
              "     mean radius  mean texture  mean perimeter  mean area  mean smoothness  \\\n",
              "0          17.99         10.38          122.80     1001.0          0.11840   \n",
              "1          20.57         17.77          132.90     1326.0          0.08474   \n",
              "2          19.69         21.25          130.00     1203.0          0.10960   \n",
              "3          11.42         20.38           77.58      386.1          0.14250   \n",
              "4          20.29         14.34          135.10     1297.0          0.10030   \n",
              "..           ...           ...             ...        ...              ...   \n",
              "564        21.56         22.39          142.00     1479.0          0.11100   \n",
              "565        20.13         28.25          131.20     1261.0          0.09780   \n",
              "566        16.60         28.08          108.30      858.1          0.08455   \n",
              "567        20.60         29.33          140.10     1265.0          0.11780   \n",
              "568         7.76         24.54           47.92      181.0          0.05263   \n",
              "\n",
              "     mean compactness  mean concavity  mean concave points  mean symmetry  \\\n",
              "0             0.27760         0.30010              0.14710         0.2419   \n",
              "1             0.07864         0.08690              0.07017         0.1812   \n",
              "2             0.15990         0.19740              0.12790         0.2069   \n",
              "3             0.28390         0.24140              0.10520         0.2597   \n",
              "4             0.13280         0.19800              0.10430         0.1809   \n",
              "..                ...             ...                  ...            ...   \n",
              "564           0.11590         0.24390              0.13890         0.1726   \n",
              "565           0.10340         0.14400              0.09791         0.1752   \n",
              "566           0.10230         0.09251              0.05302         0.1590   \n",
              "567           0.27700         0.35140              0.15200         0.2397   \n",
              "568           0.04362         0.00000              0.00000         0.1587   \n",
              "\n",
              "     mean fractal dimension  ...  worst radius  worst texture  \\\n",
              "0                   0.07871  ...        25.380          17.33   \n",
              "1                   0.05667  ...        24.990          23.41   \n",
              "2                   0.05999  ...        23.570          25.53   \n",
              "3                   0.09744  ...        14.910          26.50   \n",
              "4                   0.05883  ...        22.540          16.67   \n",
              "..                      ...  ...           ...            ...   \n",
              "564                 0.05623  ...        25.450          26.40   \n",
              "565                 0.05533  ...        23.690          38.25   \n",
              "566                 0.05648  ...        18.980          34.12   \n",
              "567                 0.07016  ...        25.740          39.42   \n",
              "568                 0.05884  ...         9.456          30.37   \n",
              "\n",
              "     worst perimeter  worst area  worst smoothness  worst compactness  \\\n",
              "0             184.60      2019.0           0.16220            0.66560   \n",
              "1             158.80      1956.0           0.12380            0.18660   \n",
              "2             152.50      1709.0           0.14440            0.42450   \n",
              "3              98.87       567.7           0.20980            0.86630   \n",
              "4             152.20      1575.0           0.13740            0.20500   \n",
              "..               ...         ...               ...                ...   \n",
              "564           166.10      2027.0           0.14100            0.21130   \n",
              "565           155.00      1731.0           0.11660            0.19220   \n",
              "566           126.70      1124.0           0.11390            0.30940   \n",
              "567           184.60      1821.0           0.16500            0.86810   \n",
              "568            59.16       268.6           0.08996            0.06444   \n",
              "\n",
              "     worst concavity  worst concave points  worst symmetry  \\\n",
              "0             0.7119                0.2654          0.4601   \n",
              "1             0.2416                0.1860          0.2750   \n",
              "2             0.4504                0.2430          0.3613   \n",
              "3             0.6869                0.2575          0.6638   \n",
              "4             0.4000                0.1625          0.2364   \n",
              "..               ...                   ...             ...   \n",
              "564           0.4107                0.2216          0.2060   \n",
              "565           0.3215                0.1628          0.2572   \n",
              "566           0.3403                0.1418          0.2218   \n",
              "567           0.9387                0.2650          0.4087   \n",
              "568           0.0000                0.0000          0.2871   \n",
              "\n",
              "     worst fractal dimension  \n",
              "0                    0.11890  \n",
              "1                    0.08902  \n",
              "2                    0.08758  \n",
              "3                    0.17300  \n",
              "4                    0.07678  \n",
              "..                       ...  \n",
              "564                  0.07115  \n",
              "565                  0.06637  \n",
              "566                  0.07820  \n",
              "567                  0.12400  \n",
              "568                  0.07039  \n",
              "\n",
              "[569 rows x 30 columns]"
            ],
            "text/html": [
              "\n",
              "  <div id=\"df-42d19b0a-0519-4a54-a272-b11e069b35fa\" class=\"colab-df-container\">\n",
              "    <div>\n",
              "<style scoped>\n",
              "    .dataframe tbody tr th:only-of-type {\n",
              "        vertical-align: middle;\n",
              "    }\n",
              "\n",
              "    .dataframe tbody tr th {\n",
              "        vertical-align: top;\n",
              "    }\n",
              "\n",
              "    .dataframe thead th {\n",
              "        text-align: right;\n",
              "    }\n",
              "</style>\n",
              "<table border=\"1\" class=\"dataframe\">\n",
              "  <thead>\n",
              "    <tr style=\"text-align: right;\">\n",
              "      <th></th>\n",
              "      <th>mean radius</th>\n",
              "      <th>mean texture</th>\n",
              "      <th>mean perimeter</th>\n",
              "      <th>mean area</th>\n",
              "      <th>mean smoothness</th>\n",
              "      <th>mean compactness</th>\n",
              "      <th>mean concavity</th>\n",
              "      <th>mean concave points</th>\n",
              "      <th>mean symmetry</th>\n",
              "      <th>mean fractal dimension</th>\n",
              "      <th>...</th>\n",
              "      <th>worst radius</th>\n",
              "      <th>worst texture</th>\n",
              "      <th>worst perimeter</th>\n",
              "      <th>worst area</th>\n",
              "      <th>worst smoothness</th>\n",
              "      <th>worst compactness</th>\n",
              "      <th>worst concavity</th>\n",
              "      <th>worst concave points</th>\n",
              "      <th>worst symmetry</th>\n",
              "      <th>worst fractal dimension</th>\n",
              "    </tr>\n",
              "  </thead>\n",
              "  <tbody>\n",
              "    <tr>\n",
              "      <th>0</th>\n",
              "      <td>17.99</td>\n",
              "      <td>10.38</td>\n",
              "      <td>122.80</td>\n",
              "      <td>1001.0</td>\n",
              "      <td>0.11840</td>\n",
              "      <td>0.27760</td>\n",
              "      <td>0.30010</td>\n",
              "      <td>0.14710</td>\n",
              "      <td>0.2419</td>\n",
              "      <td>0.07871</td>\n",
              "      <td>...</td>\n",
              "      <td>25.380</td>\n",
              "      <td>17.33</td>\n",
              "      <td>184.60</td>\n",
              "      <td>2019.0</td>\n",
              "      <td>0.16220</td>\n",
              "      <td>0.66560</td>\n",
              "      <td>0.7119</td>\n",
              "      <td>0.2654</td>\n",
              "      <td>0.4601</td>\n",
              "      <td>0.11890</td>\n",
              "    </tr>\n",
              "    <tr>\n",
              "      <th>1</th>\n",
              "      <td>20.57</td>\n",
              "      <td>17.77</td>\n",
              "      <td>132.90</td>\n",
              "      <td>1326.0</td>\n",
              "      <td>0.08474</td>\n",
              "      <td>0.07864</td>\n",
              "      <td>0.08690</td>\n",
              "      <td>0.07017</td>\n",
              "      <td>0.1812</td>\n",
              "      <td>0.05667</td>\n",
              "      <td>...</td>\n",
              "      <td>24.990</td>\n",
              "      <td>23.41</td>\n",
              "      <td>158.80</td>\n",
              "      <td>1956.0</td>\n",
              "      <td>0.12380</td>\n",
              "      <td>0.18660</td>\n",
              "      <td>0.2416</td>\n",
              "      <td>0.1860</td>\n",
              "      <td>0.2750</td>\n",
              "      <td>0.08902</td>\n",
              "    </tr>\n",
              "    <tr>\n",
              "      <th>2</th>\n",
              "      <td>19.69</td>\n",
              "      <td>21.25</td>\n",
              "      <td>130.00</td>\n",
              "      <td>1203.0</td>\n",
              "      <td>0.10960</td>\n",
              "      <td>0.15990</td>\n",
              "      <td>0.19740</td>\n",
              "      <td>0.12790</td>\n",
              "      <td>0.2069</td>\n",
              "      <td>0.05999</td>\n",
              "      <td>...</td>\n",
              "      <td>23.570</td>\n",
              "      <td>25.53</td>\n",
              "      <td>152.50</td>\n",
              "      <td>1709.0</td>\n",
              "      <td>0.14440</td>\n",
              "      <td>0.42450</td>\n",
              "      <td>0.4504</td>\n",
              "      <td>0.2430</td>\n",
              "      <td>0.3613</td>\n",
              "      <td>0.08758</td>\n",
              "    </tr>\n",
              "    <tr>\n",
              "      <th>3</th>\n",
              "      <td>11.42</td>\n",
              "      <td>20.38</td>\n",
              "      <td>77.58</td>\n",
              "      <td>386.1</td>\n",
              "      <td>0.14250</td>\n",
              "      <td>0.28390</td>\n",
              "      <td>0.24140</td>\n",
              "      <td>0.10520</td>\n",
              "      <td>0.2597</td>\n",
              "      <td>0.09744</td>\n",
              "      <td>...</td>\n",
              "      <td>14.910</td>\n",
              "      <td>26.50</td>\n",
              "      <td>98.87</td>\n",
              "      <td>567.7</td>\n",
              "      <td>0.20980</td>\n",
              "      <td>0.86630</td>\n",
              "      <td>0.6869</td>\n",
              "      <td>0.2575</td>\n",
              "      <td>0.6638</td>\n",
              "      <td>0.17300</td>\n",
              "    </tr>\n",
              "    <tr>\n",
              "      <th>4</th>\n",
              "      <td>20.29</td>\n",
              "      <td>14.34</td>\n",
              "      <td>135.10</td>\n",
              "      <td>1297.0</td>\n",
              "      <td>0.10030</td>\n",
              "      <td>0.13280</td>\n",
              "      <td>0.19800</td>\n",
              "      <td>0.10430</td>\n",
              "      <td>0.1809</td>\n",
              "      <td>0.05883</td>\n",
              "      <td>...</td>\n",
              "      <td>22.540</td>\n",
              "      <td>16.67</td>\n",
              "      <td>152.20</td>\n",
              "      <td>1575.0</td>\n",
              "      <td>0.13740</td>\n",
              "      <td>0.20500</td>\n",
              "      <td>0.4000</td>\n",
              "      <td>0.1625</td>\n",
              "      <td>0.2364</td>\n",
              "      <td>0.07678</td>\n",
              "    </tr>\n",
              "    <tr>\n",
              "      <th>...</th>\n",
              "      <td>...</td>\n",
              "      <td>...</td>\n",
              "      <td>...</td>\n",
              "      <td>...</td>\n",
              "      <td>...</td>\n",
              "      <td>...</td>\n",
              "      <td>...</td>\n",
              "      <td>...</td>\n",
              "      <td>...</td>\n",
              "      <td>...</td>\n",
              "      <td>...</td>\n",
              "      <td>...</td>\n",
              "      <td>...</td>\n",
              "      <td>...</td>\n",
              "      <td>...</td>\n",
              "      <td>...</td>\n",
              "      <td>...</td>\n",
              "      <td>...</td>\n",
              "      <td>...</td>\n",
              "      <td>...</td>\n",
              "      <td>...</td>\n",
              "    </tr>\n",
              "    <tr>\n",
              "      <th>564</th>\n",
              "      <td>21.56</td>\n",
              "      <td>22.39</td>\n",
              "      <td>142.00</td>\n",
              "      <td>1479.0</td>\n",
              "      <td>0.11100</td>\n",
              "      <td>0.11590</td>\n",
              "      <td>0.24390</td>\n",
              "      <td>0.13890</td>\n",
              "      <td>0.1726</td>\n",
              "      <td>0.05623</td>\n",
              "      <td>...</td>\n",
              "      <td>25.450</td>\n",
              "      <td>26.40</td>\n",
              "      <td>166.10</td>\n",
              "      <td>2027.0</td>\n",
              "      <td>0.14100</td>\n",
              "      <td>0.21130</td>\n",
              "      <td>0.4107</td>\n",
              "      <td>0.2216</td>\n",
              "      <td>0.2060</td>\n",
              "      <td>0.07115</td>\n",
              "    </tr>\n",
              "    <tr>\n",
              "      <th>565</th>\n",
              "      <td>20.13</td>\n",
              "      <td>28.25</td>\n",
              "      <td>131.20</td>\n",
              "      <td>1261.0</td>\n",
              "      <td>0.09780</td>\n",
              "      <td>0.10340</td>\n",
              "      <td>0.14400</td>\n",
              "      <td>0.09791</td>\n",
              "      <td>0.1752</td>\n",
              "      <td>0.05533</td>\n",
              "      <td>...</td>\n",
              "      <td>23.690</td>\n",
              "      <td>38.25</td>\n",
              "      <td>155.00</td>\n",
              "      <td>1731.0</td>\n",
              "      <td>0.11660</td>\n",
              "      <td>0.19220</td>\n",
              "      <td>0.3215</td>\n",
              "      <td>0.1628</td>\n",
              "      <td>0.2572</td>\n",
              "      <td>0.06637</td>\n",
              "    </tr>\n",
              "    <tr>\n",
              "      <th>566</th>\n",
              "      <td>16.60</td>\n",
              "      <td>28.08</td>\n",
              "      <td>108.30</td>\n",
              "      <td>858.1</td>\n",
              "      <td>0.08455</td>\n",
              "      <td>0.10230</td>\n",
              "      <td>0.09251</td>\n",
              "      <td>0.05302</td>\n",
              "      <td>0.1590</td>\n",
              "      <td>0.05648</td>\n",
              "      <td>...</td>\n",
              "      <td>18.980</td>\n",
              "      <td>34.12</td>\n",
              "      <td>126.70</td>\n",
              "      <td>1124.0</td>\n",
              "      <td>0.11390</td>\n",
              "      <td>0.30940</td>\n",
              "      <td>0.3403</td>\n",
              "      <td>0.1418</td>\n",
              "      <td>0.2218</td>\n",
              "      <td>0.07820</td>\n",
              "    </tr>\n",
              "    <tr>\n",
              "      <th>567</th>\n",
              "      <td>20.60</td>\n",
              "      <td>29.33</td>\n",
              "      <td>140.10</td>\n",
              "      <td>1265.0</td>\n",
              "      <td>0.11780</td>\n",
              "      <td>0.27700</td>\n",
              "      <td>0.35140</td>\n",
              "      <td>0.15200</td>\n",
              "      <td>0.2397</td>\n",
              "      <td>0.07016</td>\n",
              "      <td>...</td>\n",
              "      <td>25.740</td>\n",
              "      <td>39.42</td>\n",
              "      <td>184.60</td>\n",
              "      <td>1821.0</td>\n",
              "      <td>0.16500</td>\n",
              "      <td>0.86810</td>\n",
              "      <td>0.9387</td>\n",
              "      <td>0.2650</td>\n",
              "      <td>0.4087</td>\n",
              "      <td>0.12400</td>\n",
              "    </tr>\n",
              "    <tr>\n",
              "      <th>568</th>\n",
              "      <td>7.76</td>\n",
              "      <td>24.54</td>\n",
              "      <td>47.92</td>\n",
              "      <td>181.0</td>\n",
              "      <td>0.05263</td>\n",
              "      <td>0.04362</td>\n",
              "      <td>0.00000</td>\n",
              "      <td>0.00000</td>\n",
              "      <td>0.1587</td>\n",
              "      <td>0.05884</td>\n",
              "      <td>...</td>\n",
              "      <td>9.456</td>\n",
              "      <td>30.37</td>\n",
              "      <td>59.16</td>\n",
              "      <td>268.6</td>\n",
              "      <td>0.08996</td>\n",
              "      <td>0.06444</td>\n",
              "      <td>0.0000</td>\n",
              "      <td>0.0000</td>\n",
              "      <td>0.2871</td>\n",
              "      <td>0.07039</td>\n",
              "    </tr>\n",
              "  </tbody>\n",
              "</table>\n",
              "<p>569 rows × 30 columns</p>\n",
              "</div>\n",
              "    <div class=\"colab-df-buttons\">\n",
              "\n",
              "  <div class=\"colab-df-container\">\n",
              "    <button class=\"colab-df-convert\" onclick=\"convertToInteractive('df-42d19b0a-0519-4a54-a272-b11e069b35fa')\"\n",
              "            title=\"Convert this dataframe to an interactive table.\"\n",
              "            style=\"display:none;\">\n",
              "\n",
              "  <svg xmlns=\"http://www.w3.org/2000/svg\" height=\"24px\" viewBox=\"0 -960 960 960\">\n",
              "    <path d=\"M120-120v-720h720v720H120Zm60-500h600v-160H180v160Zm220 220h160v-160H400v160Zm0 220h160v-160H400v160ZM180-400h160v-160H180v160Zm440 0h160v-160H620v160ZM180-180h160v-160H180v160Zm440 0h160v-160H620v160Z\"/>\n",
              "  </svg>\n",
              "    </button>\n",
              "\n",
              "  <style>\n",
              "    .colab-df-container {\n",
              "      display:flex;\n",
              "      gap: 12px;\n",
              "    }\n",
              "\n",
              "    .colab-df-convert {\n",
              "      background-color: #E8F0FE;\n",
              "      border: none;\n",
              "      border-radius: 50%;\n",
              "      cursor: pointer;\n",
              "      display: none;\n",
              "      fill: #1967D2;\n",
              "      height: 32px;\n",
              "      padding: 0 0 0 0;\n",
              "      width: 32px;\n",
              "    }\n",
              "\n",
              "    .colab-df-convert:hover {\n",
              "      background-color: #E2EBFA;\n",
              "      box-shadow: 0px 1px 2px rgba(60, 64, 67, 0.3), 0px 1px 3px 1px rgba(60, 64, 67, 0.15);\n",
              "      fill: #174EA6;\n",
              "    }\n",
              "\n",
              "    .colab-df-buttons div {\n",
              "      margin-bottom: 4px;\n",
              "    }\n",
              "\n",
              "    [theme=dark] .colab-df-convert {\n",
              "      background-color: #3B4455;\n",
              "      fill: #D2E3FC;\n",
              "    }\n",
              "\n",
              "    [theme=dark] .colab-df-convert:hover {\n",
              "      background-color: #434B5C;\n",
              "      box-shadow: 0px 1px 3px 1px rgba(0, 0, 0, 0.15);\n",
              "      filter: drop-shadow(0px 1px 2px rgba(0, 0, 0, 0.3));\n",
              "      fill: #FFFFFF;\n",
              "    }\n",
              "  </style>\n",
              "\n",
              "    <script>\n",
              "      const buttonEl =\n",
              "        document.querySelector('#df-42d19b0a-0519-4a54-a272-b11e069b35fa button.colab-df-convert');\n",
              "      buttonEl.style.display =\n",
              "        google.colab.kernel.accessAllowed ? 'block' : 'none';\n",
              "\n",
              "      async function convertToInteractive(key) {\n",
              "        const element = document.querySelector('#df-42d19b0a-0519-4a54-a272-b11e069b35fa');\n",
              "        const dataTable =\n",
              "          await google.colab.kernel.invokeFunction('convertToInteractive',\n",
              "                                                    [key], {});\n",
              "        if (!dataTable) return;\n",
              "\n",
              "        const docLinkHtml = 'Like what you see? Visit the ' +\n",
              "          '<a target=\"_blank\" href=https://colab.research.google.com/notebooks/data_table.ipynb>data table notebook</a>'\n",
              "          + ' to learn more about interactive tables.';\n",
              "        element.innerHTML = '';\n",
              "        dataTable['output_type'] = 'display_data';\n",
              "        await google.colab.output.renderOutput(dataTable, element);\n",
              "        const docLink = document.createElement('div');\n",
              "        docLink.innerHTML = docLinkHtml;\n",
              "        element.appendChild(docLink);\n",
              "      }\n",
              "    </script>\n",
              "  </div>\n",
              "\n",
              "\n",
              "<div id=\"df-b4263611-75dd-41a3-a319-ed252147aa0a\">\n",
              "  <button class=\"colab-df-quickchart\" onclick=\"quickchart('df-b4263611-75dd-41a3-a319-ed252147aa0a')\"\n",
              "            title=\"Suggest charts\"\n",
              "            style=\"display:none;\">\n",
              "\n",
              "<svg xmlns=\"http://www.w3.org/2000/svg\" height=\"24px\"viewBox=\"0 0 24 24\"\n",
              "     width=\"24px\">\n",
              "    <g>\n",
              "        <path d=\"M19 3H5c-1.1 0-2 .9-2 2v14c0 1.1.9 2 2 2h14c1.1 0 2-.9 2-2V5c0-1.1-.9-2-2-2zM9 17H7v-7h2v7zm4 0h-2V7h2v10zm4 0h-2v-4h2v4z\"/>\n",
              "    </g>\n",
              "</svg>\n",
              "  </button>\n",
              "\n",
              "<style>\n",
              "  .colab-df-quickchart {\n",
              "      --bg-color: #E8F0FE;\n",
              "      --fill-color: #1967D2;\n",
              "      --hover-bg-color: #E2EBFA;\n",
              "      --hover-fill-color: #174EA6;\n",
              "      --disabled-fill-color: #AAA;\n",
              "      --disabled-bg-color: #DDD;\n",
              "  }\n",
              "\n",
              "  [theme=dark] .colab-df-quickchart {\n",
              "      --bg-color: #3B4455;\n",
              "      --fill-color: #D2E3FC;\n",
              "      --hover-bg-color: #434B5C;\n",
              "      --hover-fill-color: #FFFFFF;\n",
              "      --disabled-bg-color: #3B4455;\n",
              "      --disabled-fill-color: #666;\n",
              "  }\n",
              "\n",
              "  .colab-df-quickchart {\n",
              "    background-color: var(--bg-color);\n",
              "    border: none;\n",
              "    border-radius: 50%;\n",
              "    cursor: pointer;\n",
              "    display: none;\n",
              "    fill: var(--fill-color);\n",
              "    height: 32px;\n",
              "    padding: 0;\n",
              "    width: 32px;\n",
              "  }\n",
              "\n",
              "  .colab-df-quickchart:hover {\n",
              "    background-color: var(--hover-bg-color);\n",
              "    box-shadow: 0 1px 2px rgba(60, 64, 67, 0.3), 0 1px 3px 1px rgba(60, 64, 67, 0.15);\n",
              "    fill: var(--button-hover-fill-color);\n",
              "  }\n",
              "\n",
              "  .colab-df-quickchart-complete:disabled,\n",
              "  .colab-df-quickchart-complete:disabled:hover {\n",
              "    background-color: var(--disabled-bg-color);\n",
              "    fill: var(--disabled-fill-color);\n",
              "    box-shadow: none;\n",
              "  }\n",
              "\n",
              "  .colab-df-spinner {\n",
              "    border: 2px solid var(--fill-color);\n",
              "    border-color: transparent;\n",
              "    border-bottom-color: var(--fill-color);\n",
              "    animation:\n",
              "      spin 1s steps(1) infinite;\n",
              "  }\n",
              "\n",
              "  @keyframes spin {\n",
              "    0% {\n",
              "      border-color: transparent;\n",
              "      border-bottom-color: var(--fill-color);\n",
              "      border-left-color: var(--fill-color);\n",
              "    }\n",
              "    20% {\n",
              "      border-color: transparent;\n",
              "      border-left-color: var(--fill-color);\n",
              "      border-top-color: var(--fill-color);\n",
              "    }\n",
              "    30% {\n",
              "      border-color: transparent;\n",
              "      border-left-color: var(--fill-color);\n",
              "      border-top-color: var(--fill-color);\n",
              "      border-right-color: var(--fill-color);\n",
              "    }\n",
              "    40% {\n",
              "      border-color: transparent;\n",
              "      border-right-color: var(--fill-color);\n",
              "      border-top-color: var(--fill-color);\n",
              "    }\n",
              "    60% {\n",
              "      border-color: transparent;\n",
              "      border-right-color: var(--fill-color);\n",
              "    }\n",
              "    80% {\n",
              "      border-color: transparent;\n",
              "      border-right-color: var(--fill-color);\n",
              "      border-bottom-color: var(--fill-color);\n",
              "    }\n",
              "    90% {\n",
              "      border-color: transparent;\n",
              "      border-bottom-color: var(--fill-color);\n",
              "    }\n",
              "  }\n",
              "</style>\n",
              "\n",
              "  <script>\n",
              "    async function quickchart(key) {\n",
              "      const quickchartButtonEl =\n",
              "        document.querySelector('#' + key + ' button');\n",
              "      quickchartButtonEl.disabled = true;  // To prevent multiple clicks.\n",
              "      quickchartButtonEl.classList.add('colab-df-spinner');\n",
              "      try {\n",
              "        const charts = await google.colab.kernel.invokeFunction(\n",
              "            'suggestCharts', [key], {});\n",
              "      } catch (error) {\n",
              "        console.error('Error during call to suggestCharts:', error);\n",
              "      }\n",
              "      quickchartButtonEl.classList.remove('colab-df-spinner');\n",
              "      quickchartButtonEl.classList.add('colab-df-quickchart-complete');\n",
              "    }\n",
              "    (() => {\n",
              "      let quickchartButtonEl =\n",
              "        document.querySelector('#df-b4263611-75dd-41a3-a319-ed252147aa0a button');\n",
              "      quickchartButtonEl.style.display =\n",
              "        google.colab.kernel.accessAllowed ? 'block' : 'none';\n",
              "    })();\n",
              "  </script>\n",
              "</div>\n",
              "    </div>\n",
              "  </div>\n"
            ],
            "application/vnd.google.colaboratory.intrinsic+json": {
              "type": "dataframe",
              "variable_name": "df_cancer"
            }
          },
          "metadata": {},
          "execution_count": 133
        }
      ],
      "source": [
        "# Silahkan menggunakan implementasi kode untuk explorasi data (distribusi, statistik, dst.)\n",
        "df_cancer\n"
      ]
    },
    {
      "cell_type": "code",
      "source": [
        "from sklearn.decomposition import PCA\n",
        "from sklearn.preprocessing import StandardScaler\n",
        "\n",
        "# Mengambil hanya kolom \"Mileage\"\n",
        "X_mileage = X[['Mileage']]\n",
        "\n",
        "# Standarisasi data\n",
        "scaler = StandardScaler()\n",
        "X_mileage_scaled = scaler.fit_transform(X_mileage)\n",
        "\n",
        "# PCA setelah standarisasi data\n",
        "pca_after = PCA(n_components=1)  # Mengubah jumlah komponen menjadi 1\n",
        "X_mileage_pca = pca_after.fit_transform(X_mileage_scaled)\n",
        "\n",
        "# Visualisasi hasil PCA\n",
        "plt.figure(figsize=(8, 6))\n",
        "plt.scatter(X_mileage_pca[:, 0], [0]*len(X_mileage_pca), c=Y, cmap='viridis', alpha=0.5)  # Memplot hanya terhadap satu sumbu\n",
        "plt.title('PCA Setelah Standarisasi (Hanya Mileage)')\n",
        "plt.xlabel('Principal Component 1')\n",
        "plt.ylabel('')  # Tidak ada label pada sumbu y\n",
        "plt.colorbar()\n",
        "plt.show()\n"
      ],
      "metadata": {
        "colab": {
          "base_uri": "https://localhost:8080/",
          "height": 564
        },
        "id": "Zav3djUwP-um",
        "outputId": "233a6ed8-4c9f-4546-ea5d-db37f77f14e9"
      },
      "execution_count": null,
      "outputs": [
        {
          "output_type": "display_data",
          "data": {
            "text/plain": [
              "<Figure size 800x600 with 2 Axes>"
            ],
            "image/png": "[encoded data removed]"
          },
          "metadata": {}
        }
      ]
    },
    {
      "cell_type": "markdown",
      "metadata": {
        "id": "BTQIZqGkhBRA"
      },
      "source": [
        "Saya akan melakukan standarisasi pada dataset sebelum fitting PCA karena hal ini memastikan bahwa semua variabel memiliki skala yang serupa, menghindari bias dalam representasi hasil PCA, dan mengurangi masalah numerik yang mungkin terjadi selama perhitungan, sehingga memastikan hasil PCA lebih stabil, bebas dari bias skala, dan memberikan representasi yang lebih akurat dari struktur sebenarnya dari data."
      ]
    },
    {
      "cell_type": "markdown",
      "metadata": {
        "id": "I3-LKrjxhBRA"
      },
      "source": [
        "### Visualisasi PCA"
      ]
    },
    {
      "cell_type": "markdown",
      "metadata": {
        "id": "vrSs3CBehBRB"
      },
      "source": [
        "Hasil PCA menjadi dua dimensi"
      ]
    },
    {
      "cell_type": "code",
      "execution_count": null,
      "metadata": {
        "id": "HOoclTNnhBRB",
        "colab": {
          "base_uri": "https://localhost:8080/",
          "height": 388
        },
        "outputId": "0b24b84f-a4ad-4a73-b73c-98c3216ada1c"
      },
      "outputs": [
        {
          "output_type": "display_data",
          "data": {
            "text/plain": [
              "<Figure size 600x400 with 1 Axes>"
            ],
            "image/png": "[encoded data removed]"
          },
          "metadata": {}
        }
      ],
      "source": [
        "plt.figure(figsize=(6, 4))\n",
        "\n",
        "plt.scatter(transformed[:, 0], transformed[:, 1],\n",
        "            c=cancer['target'],)\n",
        "\n",
        "# labeling x and y axes\n",
        "plt.xlabel('Principal Component #1')\n",
        "plt.ylabel('Principal Component #2')\n",
        "plt.show()"
      ]
    },
    {
      "cell_type": "code",
      "execution_count": null,
      "metadata": {
        "scrolled": true,
        "id": "h5VbJdHfhBRB",
        "colab": {
          "base_uri": "https://localhost:8080/"
        },
        "outputId": "b27e6143-75a0-44d4-d460-58b9bbf612a6"
      },
      "outputs": [
        {
          "output_type": "stream",
          "name": "stdout",
          "text": [
            "Cumulative explained variance ratio for 2 dimension: 0.6324320765155944\n"
          ]
        }
      ],
      "source": [
        "print(\"Cumulative explained variance ratio for 2 dimension:\",np.sum(pca.explained_variance_ratio_[:2]))"
      ]
    },
    {
      "cell_type": "markdown",
      "metadata": {
        "id": "MHLdDQqDhBRB"
      },
      "source": [
        "Melakukan PCA dengan semua dimensi untuk melihat variansi data yang ditangkap"
      ]
    },
    {
      "cell_type": "code",
      "execution_count": null,
      "metadata": {
        "id": "3Wnu8NeIhBRB"
      },
      "outputs": [],
      "source": [
        "pca_all = PCA()\n",
        "pca_all.fit(scaled_data)\n",
        "transformed_all = pca_all.transform(scaled_data)"
      ]
    },
    {
      "cell_type": "code",
      "execution_count": null,
      "metadata": {
        "id": "PEvgKtiRhBRB",
        "colab": {
          "base_uri": "https://localhost:8080/"
        },
        "outputId": "a783eea5-e63f-4f9d-c82b-74ac60e3458e"
      },
      "outputs": [
        {
          "output_type": "stream",
          "name": "stdout",
          "text": [
            "[0.44272026 0.63243208 0.72636371 0.79238506 0.84734274 0.88758796\n",
            " 0.9100953  0.92598254 0.93987903 0.95156881]\n"
          ]
        }
      ],
      "source": [
        "print(np.cumsum(pca_all.explained_variance_ratio_[:10]))"
      ]
    },
    {
      "cell_type": "code",
      "execution_count": null,
      "metadata": {
        "scrolled": false,
        "id": "6pX6MyrnhBRB",
        "colab": {
          "base_uri": "https://localhost:8080/",
          "height": 476
        },
        "outputId": "8178132d-6329-4d88-c50e-6ce208d392ba"
      },
      "outputs": [
        {
          "output_type": "display_data",
          "data": {
            "text/plain": [
              "<Figure size 640x480 with 1 Axes>"
            ],
            "image/png": "[encoded data removed]"
          },
          "metadata": {}
        }
      ],
      "source": [
        "plt.plot(range(1,31),    np.cumsum(pca_all.explained_variance_ratio_))\n",
        "plt.ylabel('Explained Variance ratio')\n",
        "plt.xlabel('Principal Components')\n",
        "plt.xticks(range(1,31),\n",
        "           [f\"{i}\" for i in range(1,31)], rotation=90)\n",
        "plt.title('Cumulative explained variance ')\n",
        "plt.show()"
      ]
    },
    {
      "cell_type": "code",
      "execution_count": null,
      "metadata": {
        "id": "C4JASnp3hBRB",
        "colab": {
          "base_uri": "https://localhost:8080/"
        },
        "outputId": "c8781902-5ff2-4436-e489-0a4484e754da"
      },
      "outputs": [
        {
          "output_type": "stream",
          "name": "stdout",
          "text": [
            "Cumulative explained variance ratio for 2 dimension: 0.6324320765155944\n"
          ]
        }
      ],
      "source": [
        "print(\"Cumulative explained variance ratio for 2 dimension:\",np.sum(pca.explained_variance_ratio_[:2]))"
      ]
    },
    {
      "cell_type": "markdown",
      "metadata": {
        "id": "gp1rpdqghBRB"
      },
      "source": [
        "### Soal 6b\n",
        "Berikan observsi dan interpretasi anda mengenai:\n",
        "1. visualisasi hasil PCA dalam 2 dimensi di atas\n",
        "2. visualisasi *cumulative explained variance* di atas"
      ]
    },
    {
      "cell_type": "markdown",
      "metadata": {
        "id": "0XEFa6IZhBRB"
      },
      "source": [
        "> jawaban disini\n",
        "<br>\n",
        "Masukan juga sumber jawaban anda disini dan di list referensi di atas jika menggunakan"
      ]
    }
  ],
  "metadata": {
    "colab": {
      "provenance": [],
      "include_colab_link": true
    },
    "kernelspec": {
      "display_name": "Python 3 (ipykernel)",
      "language": "python",
      "name": "python3"
    },
    "language_info": {
      "codemirror_mode": {
        "name": "ipython",
        "version": 3
      },
      "file_extension": ".py",
      "mimetype": "text/x-python",
      "name": "python",
      "nbconvert_exporter": "python",
      "pygments_lexer": "ipython3",
      "version": "3.11.5"
    }
  },
  "nbformat": 4,
  "nbformat_minor": 0
}